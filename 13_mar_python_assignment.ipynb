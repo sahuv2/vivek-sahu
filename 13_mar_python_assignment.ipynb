{
  "nbformat": 4,
  "nbformat_minor": 0,
  "metadata": {
    "colab": {
      "provenance": []
    },
    "kernelspec": {
      "name": "python3",
      "display_name": "Python 3"
    },
    "language_info": {
      "name": "python"
    }
  },
  "cells": [
    {
      "cell_type": "markdown",
      "source": [
        "# Q1. Explain the assumptions required to use ANOVA and provide examples of violations that could impact  the validity of the results"
      ],
      "metadata": {
        "id": "vAwoLPhHzZ5m"
      }
    },
    {
      "cell_type": "markdown",
      "source": [
        "ANOVA (Analysis of Variance) is a statistical method used to compare means across multiple groups or conditions.\n",
        "\n",
        "Independence: The observations within each group or condition should be independent of each other.\n",
        "\n",
        "Normality: The distribution of the dependent variable (the variable being measured or compared) should be approximately normal within each group or condition.\n",
        "\n",
        "Homogeneity of variances: The variability of the dependent variable should be roughly equal across all groups or conditions.\n",
        "\n",
        "Interval or ratio-level data: ANOVA assumes that the dependent variable is measured on an interval or ratio scale.\n",
        "\n",
        "Violations of these assumptions can impact the validity of ANOVA results. Some examples of violations and their consequences are:\n",
        "\n",
        "Violation of independence: If observations within groups are not independent, such as when there is a correlation between observations or when there is a hierarchical structure in the data, the assumption of independence is violated. This can lead to biased estimates of the group differences and incorrect p-values."
      ],
      "metadata": {
        "id": "rWyHJh2TzZ2t"
      }
    },
    {
      "cell_type": "markdown",
      "source": [
        "## Q2. What are the three types of ANOVA, and in what situations would each be used?"
      ],
      "metadata": {
        "id": "gDrFJyid3ZqK"
      }
    },
    {
      "cell_type": "markdown",
      "source": [
        "There are three main types of ANOVA:\n",
        "\n",
        "One-Way ANOVA: One-Way ANOVA is used when you have one independent variable (also known as a factor) with three or more levels or groups\n",
        "\n",
        "Two-Way ANOVA: Two-Way ANOVA is used when you have two independent variables (factors) and you want to examine the interaction effect between these variables on a dependent variable.\n",
        "\n",
        "Repeated Measures ANOVA: Repeated Measures ANOVA is used when you have a within-subjects design, where the same participants are measured under different conditions or at multiple time points."
      ],
      "metadata": {
        "id": "1bN7BbVczZzP"
      }
    },
    {
      "cell_type": "markdown",
      "source": [
        "## Q3. What is the partitioning of variance in ANOVA, and why is it important to understand this concept?"
      ],
      "metadata": {
        "id": "i9zldr9-zZwX"
      }
    },
    {
      "cell_type": "markdown",
      "source": [
        "The partitioning of variance in ANOVA (Analysis of Variance) refers to the division of the total variation in a data set into different components or sources of variation.\n",
        "\n",
        "\n",
        "Understanding the partitioning of variance is important for several reasons:\n",
        "\n",
        "(1). Identifying significant differences\n",
        "\n",
        "(2). Assessing the effect size\n",
        "\n",
        "(3). Decision-making\n",
        "\n",
        "(4). Experimental design"
      ],
      "metadata": {
        "id": "lT28LPxQzZtY"
      }
    },
    {
      "cell_type": "markdown",
      "source": [
        "# Q4. How would you calculate the total sum of squares (SST), explained sum of squares (SSE), and residual  sum of squares (SSR) in a one-way ANOVA using Python?"
      ],
      "metadata": {
        "id": "wz3I22W8zZqv"
      }
    },
    {
      "cell_type": "code",
      "source": [
        "import scipy.stats as stats\n",
        "\n",
        "# Sample data for each group\n",
        "group1 = [1, 2, 3, 4, 5]\n",
        "group2 = [2, 4, 6, 8, 10]\n",
        "group3 = [3, 6, 9, 12, 15]\n",
        "\n",
        "# Concatenate the data from all groups\n",
        "data = group1 + group2 + group3\n",
        "\n",
        "# Calculate the overall mean\n",
        "overall_mean = sum(data) / len(data)\n",
        "\n",
        "# Calculate the total sum of squares (SST)\n",
        "sst = sum((x - overall_mean) ** 2 for x in data)\n",
        "\n",
        "# Calculate the explained sum of squares (SSE)\n",
        "group_means = [sum(group) / len(group) for group in [group1, group2, group3]]\n",
        "sse = sum(len(group) * (mean - overall_mean) ** 2 for group, mean in zip([group1, group2, group3], group_means))\n",
        "\n",
        "# Calculate the residual sum of squares (SSR)\n",
        "ssr = sst - sse\n",
        "\n",
        "# Print the results\n",
        "print(\"SST:\", sst)\n",
        "print(\"SSE:\", sse)\n",
        "print(\"SSR:\", ssr)\n"
      ],
      "metadata": {
        "colab": {
          "base_uri": "https://localhost:8080/"
        },
        "id": "p6VzYleH5olb",
        "outputId": "cba94753-5d74-460a-a676-ab389d2f2735"
      },
      "execution_count": null,
      "outputs": [
        {
          "output_type": "stream",
          "name": "stdout",
          "text": [
            "SST: 230.0\n",
            "SSE: 90.0\n",
            "SSR: 140.0\n"
          ]
        }
      ]
    },
    {
      "cell_type": "markdown",
      "source": [],
      "metadata": {
        "id": "F0K12VV_zZoO"
      }
    },
    {
      "cell_type": "markdown",
      "source": [
        "# Q5. In a two-way ANOVA, how would you calculate the main effects and interaction effects using Python?"
      ],
      "metadata": {
        "id": "5iuERi8rzZlh"
      }
    },
    {
      "cell_type": "code",
      "source": [
        "import pandas as pd\n",
        "import statsmodels.api as sm\n",
        "from statsmodels.formula.api import ols\n",
        "\n",
        "# Create a pandas DataFrame with your data\n",
        "data = {\n",
        "    'A': [10, 12, 8, 15, 9, 11],\n",
        "    'B': [20, 22, 18, 25, 19, 21],\n",
        "    'Y': [35, 40, 30, 45, 33, 38]\n",
        "}\n",
        "\n",
        "df = pd.DataFrame(data)\n",
        "\n",
        "# Fit the ANOVA model\n",
        "model = ols('Y ~ A + B + A:B', data=df).fit()\n",
        "anova_table = sm.stats.anova_lm(model)\n",
        "\n",
        "# Extract the main effects and interaction effects\n",
        "main_effects = anova_table[['sum_sq', 'df', 'mean_sq', 'F']].iloc[:-1]\n",
        "interaction_effect = anova_table[['sum_sq', 'df', 'mean_sq', 'F']].iloc[-1]\n",
        "\n",
        "# Print the results\n",
        "print(\"Main Effects:\")\n",
        "print(main_effects)\n",
        "print(\"\\nInteraction Effect:\")\n",
        "print(interaction_effect)\n"
      ],
      "metadata": {
        "colab": {
          "base_uri": "https://localhost:8080/"
        },
        "id": "PxMe5frz8av6",
        "outputId": "563ad8ed-7742-436b-f023-0764ec88e9b8"
      },
      "execution_count": null,
      "outputs": [
        {
          "output_type": "stream",
          "name": "stdout",
          "text": [
            "Main Effects:\n",
            "         sum_sq   df     mean_sq            F\n",
            "A    140.563063  1.0  140.563063  1650.384643\n",
            "B      0.005940  1.0    0.005940     0.069743\n",
            "A:B    2.262411  1.0    2.262411    26.563514\n",
            "\n",
            "Interaction Effect:\n",
            "sum_sq     0.25551\n",
            "df         3.00000\n",
            "mean_sq    0.08517\n",
            "F              NaN\n",
            "Name: Residual, dtype: float64\n"
          ]
        }
      ]
    },
    {
      "cell_type": "markdown",
      "source": [
        "# Q6. Suppose you conducted a one-way ANOVA and obtained an F-statistic of 5.23 and a p-value of 0.02.  What can you conclude about the differences between the groups, and how would you interpret these  results?\n"
      ],
      "metadata": {
        "id": "_jW6oNl79Bu7"
      }
    },
    {
      "cell_type": "markdown",
      "source": [
        "In the given scenario, conducting a one-way ANOVA resulted in an F-statistic of 5.23 and a p-value of 0.02. Based on these results, we can draw the following conclusions:\n",
        "\n",
        "Differences between the groups: The obtained F-statistic indicates that there are significant differences between the groups being compared. In other words, the means of at least two groups are not equal.\n",
        "\n",
        "Interpretation of the results: The p-value of 0.02 indicates that the probability of observing an F-statistic as extreme as 5.23 (or even more extreme) under the null hypothesis of no differences between the groups is 0.02. Typically, if the p-value is below a predetermined significance level (such as 0.05), it is considered statistically significant.\n",
        "\n",
        "Therefore, with a p-value of 0.02, we can conclude that there is strong evidence to reject the null hypothesis, which states that there are no differences between the groups."
      ],
      "metadata": {
        "id": "aepI1PeKzZi3"
      }
    },
    {
      "cell_type": "markdown",
      "source": [
        "# Q7. In a repeated measures ANOVA, how would you handle missing data, and what are the potential  consequences of using different methods to handle missing data?"
      ],
      "metadata": {
        "id": "7I-beVXb9FHF"
      }
    },
    {
      "cell_type": "markdown",
      "source": [
        "In a repeated measures ANOVA, missing data can present challenges in terms of analysis and interpretation. There are different methods to handle missing data, each with its own implications.\n",
        "\n",
        "Listwise deletion: This method involves removing any participant with missing data from the analysis.\n",
        "\n",
        "Pairwise deletion: In this approach, only the cases with complete data for each pair of variables are used for analysis.\n",
        "\n",
        "Mean substitution: This method involves replacing missing values with the mean value of the variable.\n",
        "\n",
        "Multiple imputation: Multiple imputation involves creating multiple plausible values for missing data based on observed values and known relationships."
      ],
      "metadata": {
        "id": "7qUm0kuizZfv"
      }
    },
    {
      "cell_type": "markdown",
      "source": [
        "# Q8. What are some common post-hoc tests used after ANOVA, and when would you use each one? Provide  an example of a situation where a post-hoc test might be necessary.\n"
      ],
      "metadata": {
        "id": "PIiphmhNzZag"
      }
    },
    {
      "cell_type": "markdown",
      "source": [
        "After conducting an Analysis of Variance (ANOVA) and obtaining a significant result indicating that at least one group means differ significantly, post-hoc tests are often performed to determine which specific group means differ from each other. Some common post-hoc tests used after ANOVA include:\n",
        "\n",
        "Tukey's Honestly Significant Difference (HSD) Test\n",
        "\n",
        "\n",
        "Bonferroni Correction\n",
        "\n",
        "\n",
        "Scheffé's Test\n",
        "\n",
        "Dunnett's Test"
      ],
      "metadata": {
        "id": "f2v54zk6zZVu"
      }
    },
    {
      "cell_type": "markdown",
      "source": [
        "# Q9. A researcher wants to compare the mean weight loss of three diets: A, B, and C. They collect data from  50 participants who were randomly assigned to one of the diets. Conduct a one-way ANOVA using Python  to determine if there are any significant differences between the mean weight loss of the three diets.  Report the F-statistic and p-value, and interpret the results.\n"
      ],
      "metadata": {
        "id": "As3gw4b992T0"
      }
    },
    {
      "cell_type": "code",
      "source": [
        "import scipy.stats as stats\n",
        "\n",
        "# Weight loss data for the three diets\n",
        "diet_A = [1.2, 2.1, 0.8, 1.5, 1.9]  # Replace with actual data\n",
        "diet_B = [1.8, 1.3, 1.0, 2.2, 1.6]  # Replace with actual data\n",
        "diet_C = [0.9, 1.5, 1.7, 1.2, 0.5]  # Replace with actual data\n",
        "\n",
        "# Perform one-way ANOVA\n",
        "f_statistic, p_value = stats.f_oneway(diet_A, diet_B, diet_C)\n",
        "\n",
        "# Print the results\n",
        "print(\"F-Statistic:\", f_statistic)\n",
        "print(\"p-value:\", p_value)\n"
      ],
      "metadata": {
        "colab": {
          "base_uri": "https://localhost:8080/"
        },
        "id": "bFiRdaZn-Ngk",
        "outputId": "093a4a55-5cf5-4326-b99f-9ea76be5497a"
      },
      "execution_count": null,
      "outputs": [
        {
          "output_type": "stream",
          "name": "stdout",
          "text": [
            "F-Statistic: 1.0433566433566435\n",
            "p-value: 0.3821460936215956\n"
          ]
        }
      ]
    },
    {
      "cell_type": "markdown",
      "source": [
        "### Q10. A company wants to know if there are any significant differences in the average time it takes to  complete a task using three different software programs: Program A, Program B, and Program C. They  randomly assign 30 employees to one of the programs and record the time it takes each employee to  complete the task. Conduct a two-way ANOVA using Python to determine if there are any main effects or  interaction effects between the software programs and employee experience level (novice vs.  experienced). Report the F-statistics and p-values, and interpret the results.\n"
      ],
      "metadata": {
        "id": "ldVwqANc92O6"
      }
    },
    {
      "cell_type": "code",
      "source": [
        "import pandas as pd\n",
        "import statsmodels.api as sm\n",
        "from statsmodels.formula.api import ols\n",
        "\n",
        "# Create a DataFrame with the data\n",
        "data = pd.DataFrame({\n",
        "    'Program': ['A', 'B', 'C'] * 10,\n",
        "    'Experience': ['Novice', 'Experienced'] * 15,\n",
        "    'Time': [10, 12, 9, 11, 14, 13, 15, 16, 13, 12, 11, 10, 9, 10, 12, 11, 13, 11, 14, 13,\n",
        "             15, 16, 13, 12, 11, 10, 9, 10, 12, 11]\n",
        "})\n",
        "\n",
        "# Perform the two-way ANOVA\n",
        "model = ols('Time ~ Program * Experience', data=data).fit()\n",
        "anova_table = sm.stats.anova_lm(model, typ=2)\n",
        "\n",
        "# Print the ANOVA table\n",
        "print(anova_table)\n"
      ],
      "metadata": {
        "colab": {
          "base_uri": "https://localhost:8080/"
        },
        "id": "q35Smsl4_wFg",
        "outputId": "c427c596-6375-4939-fd1e-93bc313569df"
      },
      "execution_count": null,
      "outputs": [
        {
          "output_type": "stream",
          "name": "stdout",
          "text": [
            "                        sum_sq    df         F    PR(>F)\n",
            "Program               4.066667   2.0  0.438849  0.649849\n",
            "Experience            0.133333   1.0  0.028777  0.866717\n",
            "Program:Experience    0.466667   2.0  0.050360  0.950988\n",
            "Residual            111.200000  24.0       NaN       NaN\n"
          ]
        }
      ]
    },
    {
      "cell_type": "markdown",
      "source": [
        "# Q11. An educational researcher is interested in whether a new teaching method improves student test  scores. They randomly assign 100 students to either the control group (traditional teaching method) or the  experimental group (new teaching method) and administer a test at the end of the semester. Conduct a  two-sample t-test using Python to determine if there are any significant differences in test scores  between the two groups. If the results are significant, follow up with a post-hoc test to determine which  group(s) differ significantly from each other.\n"
      ],
      "metadata": {
        "id": "fy3MpCIK_92G"
      }
    },
    {
      "cell_type": "code",
      "source": [
        "import numpy as np\n",
        "from scipy import stats\n",
        "\n",
        "# Test scores for the control group\n",
        "control_scores = [75, 80, 85, 78, 92, 87, 83, 79, 88, 85]\n",
        "\n",
        "# Test scores for the experimental group\n",
        "experimental_scores = [80, 82, 88, 78, 95, 90, 84, 76, 89, 86]\n",
        "\n",
        "# Perform a two-sample t-test\n",
        "t_stat, p_value = stats.ttest_ind(control_scores, experimental_scores)\n",
        "\n",
        "print(\"Two-sample t-test results:\")\n",
        "print(\"t-statistic:\", t_stat)\n",
        "print(\"p-value:\", p_value)\n",
        "\n"
      ],
      "metadata": {
        "colab": {
          "base_uri": "https://localhost:8080/"
        },
        "id": "tPDP-u2Qh5rU",
        "outputId": "3bb9ee24-747e-4f99-9935-a5cf314793b0"
      },
      "execution_count": 5,
      "outputs": [
        {
          "output_type": "stream",
          "name": "stdout",
          "text": [
            "Two-sample t-test results:\n",
            "t-statistic: -0.6418856341919262\n",
            "p-value: 0.5290379211880494\n"
          ]
        }
      ]
    },
    {
      "cell_type": "markdown",
      "source": [
        "# Q12. A researcher wants to know if there are any significant differences in the average daily sales of three  retail stores: Store A, Store B, and Store C. They randomly select 30 days and record the sales for each store  on those days. Conduct a repeated measures ANOVA using Python to determine if there are any  significant differences in sales between the three stores. If the results are significant, follow up with a post hoc test to determine which store(s) differ significantly from each other."
      ],
      "metadata": {
        "id": "fSxvgWMEhP_t"
      }
    },
    {
      "cell_type": "code",
      "source": [
        "import pandas as pd\n",
        "import numpy as np\n",
        "import statsmodels.api as sm\n",
        "from statsmodels.formula.api import ols\n",
        "from statsmodels.stats.multicomp import pairwise_tukeyhsd\n",
        "\n",
        "# Create a dataframe with sales data\n",
        "data = {\n",
        "    'Store': ['A'] * 30 + ['B'] * 30 + ['C'] * 30,\n",
        "    'Sales': np.random.randint(100, 1000, size=90)  # Replace with your actual sales data\n",
        "}\n",
        "df = pd.DataFrame(data)\n",
        "\n",
        "# Convert Store column to categorical variable\n",
        "df['Store'] = df['Store'].astype('category')\n",
        "\n",
        "# Perform repeated measures ANOVA\n",
        "model = ols('Sales ~ Store', data=df).fit()\n",
        "anova_table = sm.stats.anova_lm(model, typ=2)\n",
        "print(anova_table)\n",
        "\n",
        "# Perform post hoc test (Tukey's HSD)\n",
        "posthoc = pairwise_tukeyhsd(df['Sales'], df['Store'])\n",
        "print(posthoc)\n"
      ],
      "metadata": {
        "id": "bizY-jV4_xFl",
        "colab": {
          "base_uri": "https://localhost:8080/"
        },
        "outputId": "6c9841ca-80ef-4774-befe-163168cd7d91"
      },
      "execution_count": 12,
      "outputs": [
        {
          "output_type": "stream",
          "name": "stdout",
          "text": [
            "                sum_sq    df         F    PR(>F)\n",
            "Store     7.863976e+04   2.0  0.686886  0.505848\n",
            "Residual  4.980197e+06  87.0       NaN       NaN\n",
            "  Multiple Comparison of Means - Tukey HSD, FWER=0.05  \n",
            "=======================================================\n",
            "group1 group2 meandiff p-adj    lower    upper   reject\n",
            "-------------------------------------------------------\n",
            "     A      B    -52.5 0.6732  -199.803   94.803  False\n",
            "     A      C  16.9333 0.9594 -130.3697 164.2363  False\n",
            "     B      C  69.4333  0.502  -77.8697 216.7363  False\n",
            "-------------------------------------------------------\n"
          ]
        }
      ]
    },
    {
      "cell_type": "code",
      "source": [],
      "metadata": {
        "id": "1uxl5SXylitk"
      },
      "execution_count": null,
      "outputs": []
    }
  ]
}