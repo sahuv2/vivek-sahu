{
  "nbformat": 4,
  "nbformat_minor": 0,
  "metadata": {
    "colab": {
      "provenance": []
    },
    "kernelspec": {
      "name": "python3",
      "display_name": "Python 3"
    },
    "language_info": {
      "name": "python"
    }
  },
  "cells": [
    {
      "cell_type": "markdown",
      "source": [
        "## Q1. List any five functions of the pandas library with execution."
      ],
      "metadata": {
        "id": "Aru8iXRC2jIF"
      }
    },
    {
      "cell_type": "markdown",
      "source": [
        "Five function pandas libarary execution\n",
        "\n",
        "read_csv():\n",
        "df.head()\n",
        "df.describe()\n",
        "groupby()\n",
        "to_csv()"
      ],
      "metadata": {
        "id": "JtJKiKFD2jDn"
      }
    },
    {
      "cell_type": "markdown",
      "source": [
        "# Q2. Given a Pandas DataFrame df with columns 'A', 'B', and 'C', write a Python function to re-index the  DataFrame with a new index that starts from 1 and increments by 2 for each row.\n"
      ],
      "metadata": {
        "id": "h8Vzlx3L2jAW"
      }
    },
    {
      "cell_type": "code",
      "source": [
        "import pandas as pd\n",
        "\n",
        "def reindex_with_increment(df):\n",
        "    df = df.reset_index(drop=True)\n",
        "    df.index = df.index * 2+1\n",
        "    return df\n"
      ],
      "metadata": {
        "id": "0dRiKHg09d72"
      },
      "execution_count": 22,
      "outputs": []
    },
    {
      "cell_type": "code",
      "source": [
        "import pandas as pd\n",
        "\n",
        "df = pd.DataFrame({'A': [1, 2, 3], 'B': [4, 5, 6], 'C': [7, 8, 9]})\n",
        "\n",
        "new_df = reindex_with_increment(df)\n",
        "\n",
        "print(new_df)\n"
      ],
      "metadata": {
        "colab": {
          "base_uri": "https://localhost:8080/"
        },
        "id": "_jj9Syfo9h5e",
        "outputId": "160530d4-b986-4d40-b573-88a990c56b12"
      },
      "execution_count": 23,
      "outputs": [
        {
          "output_type": "stream",
          "name": "stdout",
          "text": [
            "   A  B  C\n",
            "1  1  4  7\n",
            "3  2  5  8\n",
            "5  3  6  9\n"
          ]
        }
      ]
    },
    {
      "cell_type": "markdown",
      "source": [
        "# Q3. You have a Pandas DataFrame df with a column named 'Values'. Write a Python function that  iterates over the DataFrame and calculates the sum of the first three values in the 'Values' column. The  function should print the sum to the console.\n",
        "### For example, if the 'Values' column of df contains the values [10, 20, 30, 40, 50], your function should  calculate and print the sum of the first three values, which is 60.\n",
        "\n",
        "\n"
      ],
      "metadata": {
        "id": "F-JKKlC12i62"
      }
    },
    {
      "cell_type": "code",
      "source": [
        "import pandas as pd\n",
        "\n",
        "df =pd.DataFrame({'a': [10, 20, 30, 40, 50]})\n",
        "\n",
        "df[0:3].sum()\n"
      ],
      "metadata": {
        "colab": {
          "base_uri": "https://localhost:8080/"
        },
        "id": "MzQ_Cmhn-znK",
        "outputId": "6de9852a-0c0e-42b9-d209-53d74bdb2040"
      },
      "execution_count": 34,
      "outputs": [
        {
          "output_type": "execute_result",
          "data": {
            "text/plain": [
              "a    60\n",
              "dtype: int64"
            ]
          },
          "metadata": {},
          "execution_count": 34
        }
      ]
    },
    {
      "cell_type": "markdown",
      "source": [
        "# Q4. Given a Pandas DataFrame df with a column 'Text', write a Python function to create a new column  'Word_Count' that contains the number of words in each row of the 'Text' column.\n"
      ],
      "metadata": {
        "id": "ojcTmyTZ2i3-"
      }
    },
    {
      "cell_type": "code",
      "source": [
        "import pandas as pd\n",
        "Text =({'a':[\"vivek\", \"akash\",\"dipesh\"]})\n",
        "df=pd.DataFrame(Text)\n",
        "\n"
      ],
      "metadata": {
        "id": "hqGRF_f1AQlu"
      },
      "execution_count": 57,
      "outputs": []
    },
    {
      "cell_type": "code",
      "source": [
        "df['a']"
      ],
      "metadata": {
        "colab": {
          "base_uri": "https://localhost:8080/"
        },
        "id": "sDwBgPg7BVuv",
        "outputId": "661aa386-1223-4273-b3b6-a17389372862"
      },
      "execution_count": 58,
      "outputs": [
        {
          "output_type": "execute_result",
          "data": {
            "text/plain": [
              "0     vivek\n",
              "1     akash\n",
              "2    dipesh\n",
              "Name: a, dtype: object"
            ]
          },
          "metadata": {},
          "execution_count": 58
        }
      ]
    },
    {
      "cell_type": "code",
      "source": [
        "df['Word_Count']=df['a'].apply(lambda x: len(x.split()))"
      ],
      "metadata": {
        "id": "Ldls2MvdBVr4"
      },
      "execution_count": 59,
      "outputs": []
    },
    {
      "cell_type": "code",
      "source": [
        "df"
      ],
      "metadata": {
        "colab": {
          "base_uri": "https://localhost:8080/",
          "height": 143
        },
        "id": "hNtt9NP3Cpyc",
        "outputId": "23fd9207-611c-4f63-eaa0-80316d2a43c1"
      },
      "execution_count": 60,
      "outputs": [
        {
          "output_type": "execute_result",
          "data": {
            "text/plain": [
              "        a  Word_Count\n",
              "0   vivek           1\n",
              "1   akash           1\n",
              "2  dipesh           1"
            ],
            "text/html": [
              "\n",
              "  <div id=\"df-88cc9a99-43b3-4800-9ef2-507459f28b7f\">\n",
              "    <div class=\"colab-df-container\">\n",
              "      <div>\n",
              "<style scoped>\n",
              "    .dataframe tbody tr th:only-of-type {\n",
              "        vertical-align: middle;\n",
              "    }\n",
              "\n",
              "    .dataframe tbody tr th {\n",
              "        vertical-align: top;\n",
              "    }\n",
              "\n",
              "    .dataframe thead th {\n",
              "        text-align: right;\n",
              "    }\n",
              "</style>\n",
              "<table border=\"1\" class=\"dataframe\">\n",
              "  <thead>\n",
              "    <tr style=\"text-align: right;\">\n",
              "      <th></th>\n",
              "      <th>a</th>\n",
              "      <th>Word_Count</th>\n",
              "    </tr>\n",
              "  </thead>\n",
              "  <tbody>\n",
              "    <tr>\n",
              "      <th>0</th>\n",
              "      <td>vivek</td>\n",
              "      <td>1</td>\n",
              "    </tr>\n",
              "    <tr>\n",
              "      <th>1</th>\n",
              "      <td>akash</td>\n",
              "      <td>1</td>\n",
              "    </tr>\n",
              "    <tr>\n",
              "      <th>2</th>\n",
              "      <td>dipesh</td>\n",
              "      <td>1</td>\n",
              "    </tr>\n",
              "  </tbody>\n",
              "</table>\n",
              "</div>\n",
              "      <button class=\"colab-df-convert\" onclick=\"convertToInteractive('df-88cc9a99-43b3-4800-9ef2-507459f28b7f')\"\n",
              "              title=\"Convert this dataframe to an interactive table.\"\n",
              "              style=\"display:none;\">\n",
              "        \n",
              "  <svg xmlns=\"http://www.w3.org/2000/svg\" height=\"24px\"viewBox=\"0 0 24 24\"\n",
              "       width=\"24px\">\n",
              "    <path d=\"M0 0h24v24H0V0z\" fill=\"none\"/>\n",
              "    <path d=\"M18.56 5.44l.94 2.06.94-2.06 2.06-.94-2.06-.94-.94-2.06-.94 2.06-2.06.94zm-11 1L8.5 8.5l.94-2.06 2.06-.94-2.06-.94L8.5 2.5l-.94 2.06-2.06.94zm10 10l.94 2.06.94-2.06 2.06-.94-2.06-.94-.94-2.06-.94 2.06-2.06.94z\"/><path d=\"M17.41 7.96l-1.37-1.37c-.4-.4-.92-.59-1.43-.59-.52 0-1.04.2-1.43.59L10.3 9.45l-7.72 7.72c-.78.78-.78 2.05 0 2.83L4 21.41c.39.39.9.59 1.41.59.51 0 1.02-.2 1.41-.59l7.78-7.78 2.81-2.81c.8-.78.8-2.07 0-2.86zM5.41 20L4 18.59l7.72-7.72 1.47 1.35L5.41 20z\"/>\n",
              "  </svg>\n",
              "      </button>\n",
              "      \n",
              "  <style>\n",
              "    .colab-df-container {\n",
              "      display:flex;\n",
              "      flex-wrap:wrap;\n",
              "      gap: 12px;\n",
              "    }\n",
              "\n",
              "    .colab-df-convert {\n",
              "      background-color: #E8F0FE;\n",
              "      border: none;\n",
              "      border-radius: 50%;\n",
              "      cursor: pointer;\n",
              "      display: none;\n",
              "      fill: #1967D2;\n",
              "      height: 32px;\n",
              "      padding: 0 0 0 0;\n",
              "      width: 32px;\n",
              "    }\n",
              "\n",
              "    .colab-df-convert:hover {\n",
              "      background-color: #E2EBFA;\n",
              "      box-shadow: 0px 1px 2px rgba(60, 64, 67, 0.3), 0px 1px 3px 1px rgba(60, 64, 67, 0.15);\n",
              "      fill: #174EA6;\n",
              "    }\n",
              "\n",
              "    [theme=dark] .colab-df-convert {\n",
              "      background-color: #3B4455;\n",
              "      fill: #D2E3FC;\n",
              "    }\n",
              "\n",
              "    [theme=dark] .colab-df-convert:hover {\n",
              "      background-color: #434B5C;\n",
              "      box-shadow: 0px 1px 3px 1px rgba(0, 0, 0, 0.15);\n",
              "      filter: drop-shadow(0px 1px 2px rgba(0, 0, 0, 0.3));\n",
              "      fill: #FFFFFF;\n",
              "    }\n",
              "  </style>\n",
              "\n",
              "      <script>\n",
              "        const buttonEl =\n",
              "          document.querySelector('#df-88cc9a99-43b3-4800-9ef2-507459f28b7f button.colab-df-convert');\n",
              "        buttonEl.style.display =\n",
              "          google.colab.kernel.accessAllowed ? 'block' : 'none';\n",
              "\n",
              "        async function convertToInteractive(key) {\n",
              "          const element = document.querySelector('#df-88cc9a99-43b3-4800-9ef2-507459f28b7f');\n",
              "          const dataTable =\n",
              "            await google.colab.kernel.invokeFunction('convertToInteractive',\n",
              "                                                     [key], {});\n",
              "          if (!dataTable) return;\n",
              "\n",
              "          const docLinkHtml = 'Like what you see? Visit the ' +\n",
              "            '<a target=\"_blank\" href=https://colab.research.google.com/notebooks/data_table.ipynb>data table notebook</a>'\n",
              "            + ' to learn more about interactive tables.';\n",
              "          element.innerHTML = '';\n",
              "          dataTable['output_type'] = 'display_data';\n",
              "          await google.colab.output.renderOutput(dataTable, element);\n",
              "          const docLink = document.createElement('div');\n",
              "          docLink.innerHTML = docLinkHtml;\n",
              "          element.appendChild(docLink);\n",
              "        }\n",
              "      </script>\n",
              "    </div>\n",
              "  </div>\n",
              "  "
            ]
          },
          "metadata": {},
          "execution_count": 60
        }
      ]
    },
    {
      "cell_type": "markdown",
      "source": [
        "# Q5. How are DataFrame.size() and DataFrame.shape() different?"
      ],
      "metadata": {
        "id": "gVKN3DrxDNZa"
      }
    },
    {
      "cell_type": "markdown",
      "source": [
        "DataFrame.size() returns the total number of elements in the DataFrame.\n",
        "\n",
        "DataFrame.shape() returns the dimensions of the DataFrame as a tuple (rows, columns)."
      ],
      "metadata": {
        "id": "kM_x3G4WDt-4"
      }
    },
    {
      "cell_type": "markdown",
      "source": [
        "# Q6. Which function of pandas do we use to read an excel file?"
      ],
      "metadata": {
        "id": "2zplO6BmD5th"
      }
    },
    {
      "cell_type": "markdown",
      "source": [
        "import pandas as pd\n",
        "\n",
        "\n",
        "data = pd.read_excel('path_to_excel_file.xlsx')\n",
        "\n",
        "\n",
        "print(data)\n"
      ],
      "metadata": {
        "id": "nKF8uz-O2iym"
      }
    },
    {
      "cell_type": "markdown",
      "source": [
        "# Q7. You have a Pandas DataFrame df that contains a column named 'Email' that contains email  addresses in the format 'username@domain.com'. Write a Python function that creates a new column  'Username' in df that contains only the username part of each email address.\n",
        "The username is the part of the email address that appears before the '@' symbol. For example, if the  email address is 'john.doe@example.com', the 'Username' column should contain 'john.doe'. Your  function should extract the username from each email address and store it in the new 'Username'  column."
      ],
      "metadata": {
        "id": "gxL3a1aF2ivg"
      }
    },
    {
      "cell_type": "code",
      "source": [
        "import pandas as pd\n",
        "\n",
        "def extract_username(df):\n",
        "    df['Username'] = df['Email'].str.split('@').str[0]\n",
        "    return df\n"
      ],
      "metadata": {
        "id": "m1WReVOHFKzR"
      },
      "execution_count": 63,
      "outputs": []
    },
    {
      "cell_type": "markdown",
      "source": [
        "Q8. You have a Pandas DataFrame df with columns 'A', 'B', and 'C'. Write a Python function that selects  all rows where the value in column 'A' is greater than 5 and the value in column 'B' is less than 10. The  function should return a new DataFrame that contains only the selected rows.\n",
        "For example, if df contains the following values\n",
        "\n",
        "\n",
        "    A   B   C\n",
        "\n",
        "0  3   5   1\n",
        "\n",
        "1  8   2   7\n",
        "\n",
        "2  6   9   4\n",
        "\n",
        "3  2   3   5\n",
        "\n",
        "4  9   1   2\n",
        "\n"
      ],
      "metadata": {
        "id": "M8JKlBmg2itN"
      }
    },
    {
      "cell_type": "code",
      "source": [
        "import pandas as pd\n",
        "\n",
        "def select_rows(df):\n",
        "    selected_rows = df[(df['A'] > 5) & (df['B'] < 10)]\n",
        "    return selected_rows\n",
        "\n",
        "\n",
        "data = {'A': [3, 8, 6, 2, 9],\n",
        "        'B': [5, 2, 9, 3, 1],\n",
        "        'C': [1, 7, 4, 5, 2]}\n",
        "df = pd.DataFrame(data)\n",
        "\n",
        "selected_df = select_rows(df)\n",
        "print(selected_df)\n"
      ],
      "metadata": {
        "colab": {
          "base_uri": "https://localhost:8080/"
        },
        "id": "_AbjEf-VGO3u",
        "outputId": "a708bdc6-2dc0-46e4-9b19-fa4a2a82f4a9"
      },
      "execution_count": 66,
      "outputs": [
        {
          "output_type": "stream",
          "name": "stdout",
          "text": [
            "   A  B  C\n",
            "1  8  2  7\n",
            "2  6  9  4\n",
            "4  9  1  2\n"
          ]
        }
      ]
    },
    {
      "cell_type": "markdown",
      "source": [
        "# Q9. Given a Pandas DataFrame df with a column 'Values', write a Python function to calculate the mean,  median, and standard deviation of the values in the 'Values' column.\n"
      ],
      "metadata": {
        "id": "bRDLWnmu2iqu"
      }
    },
    {
      "cell_type": "code",
      "source": [
        "import pandas as pd\n",
        "\n",
        "data = {'Values': [10, 20, 30, 40, 50]}\n",
        "df = pd.DataFrame(data)\n"
      ],
      "metadata": {
        "id": "LpJdPKlcHOT_"
      },
      "execution_count": 69,
      "outputs": []
    },
    {
      "cell_type": "code",
      "source": [
        "df.mean()"
      ],
      "metadata": {
        "colab": {
          "base_uri": "https://localhost:8080/"
        },
        "id": "eWYjOKHbHiZ8",
        "outputId": "4f03dc31-7850-4903-daae-fa84a615a957"
      },
      "execution_count": 70,
      "outputs": [
        {
          "output_type": "execute_result",
          "data": {
            "text/plain": [
              "Values    30.0\n",
              "dtype: float64"
            ]
          },
          "metadata": {},
          "execution_count": 70
        }
      ]
    },
    {
      "cell_type": "code",
      "source": [
        "df.median()"
      ],
      "metadata": {
        "colab": {
          "base_uri": "https://localhost:8080/"
        },
        "id": "nzPU-QBDHlMn",
        "outputId": "cf4ac18e-6499-4733-b334-411bc53ad0d1"
      },
      "execution_count": 71,
      "outputs": [
        {
          "output_type": "execute_result",
          "data": {
            "text/plain": [
              "Values    30.0\n",
              "dtype: float64"
            ]
          },
          "metadata": {},
          "execution_count": 71
        }
      ]
    },
    {
      "cell_type": "code",
      "source": [
        "df.std()"
      ],
      "metadata": {
        "colab": {
          "base_uri": "https://localhost:8080/"
        },
        "id": "53hlPHpSHlIz",
        "outputId": "22af87fb-dcf5-490c-cdb6-3c0dc555bce3"
      },
      "execution_count": 72,
      "outputs": [
        {
          "output_type": "execute_result",
          "data": {
            "text/plain": [
              "Values    15.811388\n",
              "dtype: float64"
            ]
          },
          "metadata": {},
          "execution_count": 72
        }
      ]
    },
    {
      "cell_type": "markdown",
      "source": [
        "# Q10. Given a Pandas DataFrame df with a column 'Sales' and a column 'Date', write a Python function to  create a new column 'MovingAverage' that contains the moving average of the sales for the past 7 days  for each row in the DataFrame. The moving average should be calculated using a window of size 7 and  should include the current day.\n"
      ],
      "metadata": {
        "id": "-VX-y74i2ioS"
      }
    },
    {
      "cell_type": "code",
      "source": [
        "import pandas as pd\n",
        "\n",
        "def calculate_moving_average(df):\n",
        "    df['MovingAverage'] = df['Sales'].rolling(window=7, min_periods=1).mean()\n",
        "    return df\n"
      ],
      "metadata": {
        "id": "KiRIVOnbILy5"
      },
      "execution_count": 73,
      "outputs": []
    },
    {
      "cell_type": "markdown",
      "source": [
        "# Q11. You have a Pandas DataFrame df with a column 'Date'. Write a Python function that creates a new  column 'Weekday' in the DataFrame. The 'Weekday' column should contain the weekday name (e.g.  Monday, Tuesday) corresponding to each date in the 'Date' column.\n",
        "For example, if df contains the following values:\n",
        "\n",
        "         Date\n",
        "\n",
        "0  2023-01-01\n",
        "\n",
        "1  2023-01-02\n",
        "\n",
        "2  2023-01-03\n",
        "\n",
        "3  2023-01-04\n",
        "\n",
        "4  2023-01-05\n",
        "\n",
        "Your function should create the following DataFrame:\n",
        "\n",
        "         Date    Weekday\n",
        "\n",
        "0  2023-01-01    Sunday\n",
        "\n",
        "1  2023-01-02     Monday\n",
        "\n",
        "2  2023-01-03    Tuesday\n",
        "\n",
        "3  2023-01-04    Wednesday\n",
        "\n",
        "4  2023-01-05    Thursday\n",
        "\n",
        "The function should return the modified DataFrame.\n"
      ],
      "metadata": {
        "id": "Fa1M3Iqj2ilX"
      }
    },
    {
      "cell_type": "code",
      "source": [
        "import pandas as pd\n",
        "\n",
        "def add_weekday_column(df):\n",
        "    df['Date'] = pd.to_datetime(df['Date'])  # Convert 'Date' column to datetime if it's not already\n",
        "    df['Weekday'] = df['Date'].dt.strftime('%A')  # Create 'Weekday' column using weekday names\n",
        "    return df\n"
      ],
      "metadata": {
        "id": "tRuktfeCJWAS"
      },
      "execution_count": 74,
      "outputs": []
    },
    {
      "cell_type": "code",
      "source": [
        "df = pd.DataFrame({'Date': ['2023-01-01', '2023-01-02', '2023-01-03', '2023-01-04', '2023-01-05']})\n",
        "\n",
        "df_with_weekday = add_weekday_column(df)\n",
        "print(df_with_weekday)\n"
      ],
      "metadata": {
        "colab": {
          "base_uri": "https://localhost:8080/"
        },
        "id": "hnJIUfSEJZC7",
        "outputId": "d20feb7b-479c-4bf7-cfdc-0c1f691130b9"
      },
      "execution_count": 75,
      "outputs": [
        {
          "output_type": "stream",
          "name": "stdout",
          "text": [
            "        Date    Weekday\n",
            "0 2023-01-01     Sunday\n",
            "1 2023-01-02     Monday\n",
            "2 2023-01-03    Tuesday\n",
            "3 2023-01-04  Wednesday\n",
            "4 2023-01-05   Thursday\n"
          ]
        }
      ]
    },
    {
      "cell_type": "markdown",
      "source": [
        "# Q12. Given a Pandas DataFrame df with a column 'Date' that contains timestamps, write a Python  function to select all rows where the date is between '2023-01-01' and '2023-01-31'.\n"
      ],
      "metadata": {
        "id": "JyE46iJ42ii2"
      }
    },
    {
      "cell_type": "code",
      "execution_count": 81,
      "metadata": {
        "colab": {
          "base_uri": "https://localhost:8080/"
        },
        "id": "MIvPzSQv2Dym",
        "outputId": "f1a48ea7-f733-41ab-f2b8-4e55c1b3d712"
      },
      "outputs": [
        {
          "output_type": "execute_result",
          "data": {
            "text/plain": [
              "DatetimeIndex(['2023-01-01', '2023-01-02', '2023-01-03', '2023-01-04',\n",
              "               '2023-01-05', '2023-01-06', '2023-01-07', '2023-01-08',\n",
              "               '2023-01-09', '2023-01-10', '2023-01-11', '2023-01-12',\n",
              "               '2023-01-13', '2023-01-14', '2023-01-15', '2023-01-16',\n",
              "               '2023-01-17', '2023-01-18', '2023-01-19', '2023-01-20',\n",
              "               '2023-01-21', '2023-01-22', '2023-01-23', '2023-01-24',\n",
              "               '2023-01-25', '2023-01-26', '2023-01-27', '2023-01-28',\n",
              "               '2023-01-29', '2023-01-30', '2023-01-31'],\n",
              "              dtype='datetime64[ns]', freq='D')"
            ]
          },
          "metadata": {},
          "execution_count": 81
        }
      ],
      "source": [
        "import pandas as pd\n",
        "\n",
        "pd.date_range(start='2023-01-01', end='2023-01-31')\n",
        "\n"
      ]
    },
    {
      "cell_type": "markdown",
      "source": [
        "# Q13. To use the basic functions of pandas, what is the first and foremost necessary library that needs to  be imported?"
      ],
      "metadata": {
        "id": "z4WDkAMuMHgb"
      }
    },
    {
      "cell_type": "code",
      "source": [
        "import pandas as pd\n"
      ],
      "metadata": {
        "id": "Ojcn9AMOKOJi"
      },
      "execution_count": 82,
      "outputs": []
    },
    {
      "cell_type": "code",
      "source": [],
      "metadata": {
        "id": "ZT0paJhwMQa3"
      },
      "execution_count": null,
      "outputs": []
    }
  ]
}