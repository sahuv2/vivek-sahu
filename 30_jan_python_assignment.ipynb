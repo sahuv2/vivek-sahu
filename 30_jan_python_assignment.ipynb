{
  "nbformat": 4,
  "nbformat_minor": 0,
  "metadata": {
    "colab": {
      "provenance": []
    },
    "kernelspec": {
      "name": "python3",
      "display_name": "Python 3"
    },
    "language_info": {
      "name": "python"
    }
  },
  "cells": [
    {
      "cell_type": "markdown",
      "source": [
        "        1. Write a program to accept percentage from the user and display the grade according to the following \n",
        "        criteria: \n",
        "         Marks \n",
        "          Grade \n",
        "             >90 \n",
        "            A \n",
        "              >80 and <=90 \n",
        "                   B \n",
        "                 >=60 and <=80 \n",
        "                           C \n",
        "                             below 60 \n",
        "                                  D \n"
      ],
      "metadata": {
        "id": "wcfPdf5S9JX_"
      }
    },
    {
      "cell_type": "code",
      "execution_count": null,
      "metadata": {
        "colab": {
          "base_uri": "https://localhost:8080/"
        },
        "id": "WEpPVwew8eg3",
        "outputId": "b4fa5f57-0fec-4134-90d6-0ab32bb71683"
      },
      "outputs": [
        {
          "output_type": "stream",
          "name": "stdout",
          "text": [
            "enter the percentage:89\n",
            "Grade b\n"
          ]
        }
      ],
      "source": [
        "percentage = float(input(\"enter the percentage:\"))\n",
        "if percentage > 90:\n",
        "      grade = \"a\"\n",
        "  \n",
        "elif percentage > 80:\n",
        "      grade =\"b\"\n",
        "\n",
        "elif percentage >= 60:\n",
        "      grade = \"c\"\n",
        "\n",
        "else:\n",
        "     grade = \"d\"\n",
        "print( \"Grade\" , grade)"
      ]
    },
    {
      "cell_type": "markdown",
      "source": [
        "2. Write a program to accept the cost price of a bike and display the road tax to be paid according to the \n",
        "following criteria: \n",
        "Tax \n",
        "15% \n",
        "10% \n",
        "5% \n",
        "Cost Price(in Rs) \n",
        "           >100000 \n",
        "                 50000 and <= 100000 \n",
        "                     <= 50000 \n"
      ],
      "metadata": {
        "id": "5RDYb22cLQxK"
      }
    },
    {
      "cell_type": "code",
      "source": [
        "cost_price = float(input(\"Enter the cost price of the bike (in Rs): \"))\n",
        "\n",
        "if cost_price > 100000:\n",
        "    tax_percentage = 15\n",
        "elif cost_price > 50000:\n",
        "    tax_percentage = 10\n",
        "else:\n",
        "    tax_percentage = 5\n",
        "\n",
        "road_tax = (cost_price * tax_percentage) / 100\n",
        "\n",
        "print(\"The road tax to be paid is: Rs\", road_tax)\n"
      ],
      "metadata": {
        "colab": {
          "base_uri": "https://localhost:8080/"
        },
        "id": "nRjCFOqoKl5Q",
        "outputId": "63850dd9-c442-4c47-8406-9d1c7e42018a"
      },
      "execution_count": null,
      "outputs": [
        {
          "output_type": "stream",
          "name": "stdout",
          "text": [
            "Enter the cost price of the bike (in Rs): 200000\n",
            "The road tax to be paid is: Rs 30000.0\n"
          ]
        }
      ]
    },
    {
      "cell_type": "markdown",
      "source": [
        "3. Accept any city from the user and display monuments of that city. \n",
        "          City \n",
        "           Delhi \n",
        "            Monument \n",
        "              Red Fort \n",
        "                 Taj Mahal \n",
        "                      Agra \n",
        "                        Jaipur \n",
        "                           Jal Mahal \n"
      ],
      "metadata": {
        "id": "o40lBasIPCnw"
      }
    },
    {
      "cell_type": "markdown",
      "source": [
        "Sure! Here are some monuments in Delhi:\n",
        "\n",
        "Red Fort: The Red Fort is a historic fort in the heart of Delhi. It was built by the Mughal emperor Shah Jahan in the 17th century and is made of red sandstone. \n",
        "\n",
        "Taj Mahal: The Taj Mahal is one of the most famous monuments in the world and is located in Agra, Uttar Pradesh. It was built by the Mughal emperor Shah Jahan in memory of his wife, Mumtaz Mahal. \n",
        "In Jaipur:\n",
        "\n",
        "Jal Mahal: The Jal Mahal, also known as the \"Water Palace,\" is a beautiful palace located in the middle of the Man Sagar Lake in Jaipur, Rajasthan.\n",
        "\n",
        "\n",
        "\n",
        "\n",
        "\n",
        "\n",
        "\n"
      ],
      "metadata": {
        "id": "CRg7U8Q8P7lW"
      }
    },
    {
      "cell_type": "markdown",
      "source": [
        "4. Check how many times a given number can be divided by 3 before it is less than or equal to 10. \n"
      ],
      "metadata": {
        "id": "pXUVVbcjQcOw"
      }
    },
    {
      "cell_type": "code",
      "source": [
        "def count_divisions(num):\n",
        "    count = 0\n",
        "    while num > 10:\n",
        "\n",
        "        num /= 3\n",
        "        count += 1\n",
        "    return count\n",
        "\n",
        "\n",
        "number = 243\n",
        "divisions = count_divisions(number)\n",
        "print(f\"The number {number} can be divided by 3 {divisions} times before it is less than or equal to 10.\")\n"
      ],
      "metadata": {
        "colab": {
          "base_uri": "https://localhost:8080/"
        },
        "id": "b1Vuo0_HMkfu",
        "outputId": "2de9b35b-d829-430a-f7dc-32f27f3758c1"
      },
      "execution_count": null,
      "outputs": [
        {
          "output_type": "stream",
          "name": "stdout",
          "text": [
            "The number 243 can be divided by 3 3 times before it is less than or equal to 10.\n"
          ]
        }
      ]
    },
    {
      "cell_type": "markdown",
      "source": [
        "5. Why and When to Use while Loop in Python give a detailed description with example"
      ],
      "metadata": {
        "id": "aPPSjoTkXO5F"
      }
    },
    {
      "cell_type": "markdown",
      "source": [
        "The while loop in Python is used to repeatedly execute a block of code as long as a certain condition is true"
      ],
      "metadata": {
        "id": "sHVDTqXSXwQR"
      }
    },
    {
      "cell_type": "code",
      "source": [
        "count = 0\n",
        "while count < 5:\n",
        "    print(\"Count:\", count)\n",
        "    count += 1\n"
      ],
      "metadata": {
        "colab": {
          "base_uri": "https://localhost:8080/"
        },
        "id": "ZrsZ7FmfWYz2",
        "outputId": "c011ee67-c43b-4482-e9c0-48c05412f684"
      },
      "execution_count": null,
      "outputs": [
        {
          "output_type": "stream",
          "name": "stdout",
          "text": [
            "Count: 0\n",
            "Count: 1\n",
            "Count: 2\n",
            "Count: 3\n",
            "Count: 4\n"
          ]
        }
      ]
    },
    {
      "cell_type": "markdown",
      "source": [
        "6. Use nested while loop to print 3 different pattern. \n"
      ],
      "metadata": {
        "id": "0AtKaoWdYB1U"
      }
    },
    {
      "cell_type": "markdown",
      "source": [
        "Pattern 1: Square Pattern"
      ],
      "metadata": {
        "id": "oz4-f_3UYl2h"
      }
    },
    {
      "cell_type": "code",
      "source": [
        "row = 1\n",
        "while row <= 5:\n",
        "    col = 1\n",
        "    while col <= 5:\n",
        "        print(\"*\", end=\" \")\n",
        "        col += 1\n",
        "    print()\n",
        "    row += 1\n"
      ],
      "metadata": {
        "colab": {
          "base_uri": "https://localhost:8080/"
        },
        "id": "xk1cX8W6X3ys",
        "outputId": "ae525b9a-1d0b-4714-922e-832ee8e5814e"
      },
      "execution_count": null,
      "outputs": [
        {
          "output_type": "stream",
          "name": "stdout",
          "text": [
            "* * * * * \n",
            "* * * * * \n",
            "* * * * * \n",
            "* * * * * \n",
            "* * * * * \n"
          ]
        }
      ]
    },
    {
      "cell_type": "markdown",
      "source": [
        "Pattern 2: Right Triangle Pattern"
      ],
      "metadata": {
        "id": "8bba5yKjYuGq"
      }
    },
    {
      "cell_type": "code",
      "source": [
        "row = 1\n",
        "while row <= 5:\n",
        "    col = 1\n",
        "    while col <= row:\n",
        "        print(\"*\", end=\" \")\n",
        "        col += 1\n",
        "    print()\n",
        "    row += 1\n"
      ],
      "metadata": {
        "colab": {
          "base_uri": "https://localhost:8080/"
        },
        "id": "RxPr1wXjYsAT",
        "outputId": "ca7ded0d-bb71-4b4c-c6b0-f48d2afffd24"
      },
      "execution_count": null,
      "outputs": [
        {
          "output_type": "stream",
          "name": "stdout",
          "text": [
            "* \n",
            "* * \n",
            "* * * \n",
            "* * * * \n",
            "* * * * * \n"
          ]
        }
      ]
    },
    {
      "cell_type": "markdown",
      "source": [
        "Pattern 3: Reverse Right Triangle Pattern"
      ],
      "metadata": {
        "id": "59nMwPPMY1vX"
      }
    },
    {
      "cell_type": "code",
      "source": [
        "row = 1\n",
        "while row <= 5:\n",
        "    col = 5\n",
        "    while col >= row:\n",
        "        print(\"*\", end=\" \")\n",
        "        col -= 1\n",
        "    print()\n",
        "    row += 1\n"
      ],
      "metadata": {
        "colab": {
          "base_uri": "https://localhost:8080/"
        },
        "id": "tIASXcHZY0x1",
        "outputId": "6a333b67-1191-40b0-b169-839fcefa5f76"
      },
      "execution_count": null,
      "outputs": [
        {
          "output_type": "stream",
          "name": "stdout",
          "text": [
            "* * * * * \n",
            "* * * * \n",
            "* * * \n",
            "* * \n",
            "* \n"
          ]
        }
      ]
    },
    {
      "cell_type": "markdown",
      "source": [
        "7. Reverse a while loop to display numbers from 10 to 1. \n"
      ],
      "metadata": {
        "id": "xkaDp4Royo-l"
      }
    },
    {
      "cell_type": "code",
      "source": [
        "number = 10\n",
        "while number >= 1:\n",
        "    print(number)\n",
        "    number -= 1\n"
      ],
      "metadata": {
        "colab": {
          "base_uri": "https://localhost:8080/"
        },
        "id": "k0YshbAnz1Fb",
        "outputId": "212b2aff-c758-45c3-f412-3044e1fef4d0"
      },
      "execution_count": 12,
      "outputs": [
        {
          "output_type": "stream",
          "name": "stdout",
          "text": [
            "10\n",
            "9\n",
            "8\n",
            "7\n",
            "6\n",
            "5\n",
            "4\n",
            "3\n",
            "2\n",
            "1\n"
          ]
        }
      ]
    },
    {
      "cell_type": "code",
      "source": [],
      "metadata": {
        "id": "8FKpJ9kt0pcQ"
      },
      "execution_count": null,
      "outputs": []
    }
  ]
}