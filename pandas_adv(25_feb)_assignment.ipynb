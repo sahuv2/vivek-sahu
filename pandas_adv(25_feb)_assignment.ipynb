{
  "nbformat": 4,
  "nbformat_minor": 0,
  "metadata": {
    "colab": {
      "provenance": []
    },
    "kernelspec": {
      "name": "python3",
      "display_name": "Python 3"
    },
    "language_info": {
      "name": "python"
    }
  },
  "cells": [
    {
      "cell_type": "markdown",
      "source": [
        "import pandas as pd #\n",
        "course_name = [‘Data Science’, ‘Machine Learning’, ‘Big Data’, ‘Data Engineer’] duration =  [2,3,6,4]\n",
        "df = pd.DataFrame(data = {‘course_name’ : course_name, ‘duration’ : duration})\n",
        "# Q1. Write a code to print the data present in the second row of the dataframe, df.\n"
      ],
      "metadata": {
        "id": "tr-gNTsDNr6F"
      }
    },
    {
      "cell_type": "code",
      "execution_count": 1,
      "metadata": {
        "colab": {
          "base_uri": "https://localhost:8080/"
        },
        "id": "hZlPTcLsNiMn",
        "outputId": "0365217f-f66a-42b9-86e4-016e58ee2f65"
      },
      "outputs": [
        {
          "output_type": "stream",
          "name": "stdout",
          "text": [
            "course_name    Machine Learning\n",
            "duration                      3\n",
            "Name: 1, dtype: object\n"
          ]
        }
      ],
      "source": [
        "import pandas as pd\n",
        "\n",
        "course_name = ['Data Science', 'Machine Learning', 'Big Data', 'Data Engineer']\n",
        "duration = [2, 3, 6, 4]\n",
        "df = pd.DataFrame(data={'course_name': course_name, 'duration': duration})\n",
        "\n",
        "second_row = df.iloc[1]\n",
        "print(second_row)\n"
      ]
    },
    {
      "cell_type": "markdown",
      "source": [
        "# Q2. What is the difference between the functions loc and iloc in pandas.DataFrame?"
      ],
      "metadata": {
        "id": "UnpN3ToTOE_f"
      }
    },
    {
      "cell_type": "markdown",
      "source": [
        "loc: This function is primarily label-based, meaning it uses labels to locate and access rows or columns in a DataFrame. The loc function takes two arguments separated by a comma: the row indexer and the column indexer. These indexers can be single labels, lists of labels, or slices.\n",
        "\n",
        "iloc: This function is primarily integer-based, meaning it uses integer positions to locate and access rows or columns in a DataFrame. The iloc function takes two arguments separated by a comma: the row indexer and the column indexer. These indexers can be single integers, lists of integers, or slices."
      ],
      "metadata": {
        "id": "ujB_pwpqPlwF"
      }
    },
    {
      "cell_type": "markdown",
      "source": [
        "# Q3. Reindex the given dataframe using a variable, reindex = [3,0,1,2] and store it in the variable, new_df  then find the output for both new_df.loc[2] and new_df.iloc[2].\n",
        "# Did you observe any difference in both the outputs? If so then explain it.\n",
        "# Consider the below code to answer further questions:\n",
        "import pandas as pd\n",
        "import numpy as np\n",
        "columns = ['column_1', 'column_2', 'column_3', 'column_4', 'column_5', 'column_6'] indices = [1,2,3,4,5,6]\n",
        "#Creating a dataframe:\n",
        "df1 = pd.DataFrame(np.random.rand(6,6), columns = columns, index = indices)\n"
      ],
      "metadata": {
        "id": "uJly4KU-PrrV"
      }
    },
    {
      "cell_type": "code",
      "source": [
        "import pandas as pd\n",
        "import numpy as np\n",
        "\n",
        "columns = ['column_1', 'column_2', 'column_3', 'column_4', 'column_5', 'column_6']\n",
        "indices = [1, 2, 3, 4, 5, 6]\n",
        "\n",
        "df1 = pd.DataFrame(np.random.rand(6, 6), columns=columns, index=indices)\n",
        "\n",
        "reindex = [3, 0, 1, 2]\n",
        "new_df = df1.reindex(reindex)\n",
        "\n",
        "print(new_df)\n"
      ],
      "metadata": {
        "colab": {
          "base_uri": "https://localhost:8080/"
        },
        "id": "gnfpsIsKN6-X",
        "outputId": "99b5180b-f22e-45c8-c633-410dd9616254"
      },
      "execution_count": 1,
      "outputs": [
        {
          "output_type": "stream",
          "name": "stdout",
          "text": [
            "   column_1  column_2  column_3  column_4  column_5  column_6\n",
            "3  0.281359  0.878119  0.656205  0.138033  0.742444  0.445917\n",
            "0       NaN       NaN       NaN       NaN       NaN       NaN\n",
            "1  0.408264  0.939925  0.590446  0.945672  0.282296  0.007096\n",
            "2  0.072103  0.489270  0.596966  0.233279  0.327222  0.342376\n"
          ]
        }
      ]
    },
    {
      "cell_type": "code",
      "source": [
        "new_df.loc[2]"
      ],
      "metadata": {
        "colab": {
          "base_uri": "https://localhost:8080/"
        },
        "id": "pzhSZewSmwZ1",
        "outputId": "ca8c72e6-d38e-447e-d0b4-1a8866adafe3"
      },
      "execution_count": 2,
      "outputs": [
        {
          "output_type": "execute_result",
          "data": {
            "text/plain": [
              "column_1    0.072103\n",
              "column_2    0.489270\n",
              "column_3    0.596966\n",
              "column_4    0.233279\n",
              "column_5    0.327222\n",
              "column_6    0.342376\n",
              "Name: 2, dtype: float64"
            ]
          },
          "metadata": {},
          "execution_count": 2
        }
      ]
    },
    {
      "cell_type": "code",
      "source": [
        "new_df.iloc[2]"
      ],
      "metadata": {
        "colab": {
          "base_uri": "https://localhost:8080/"
        },
        "id": "pbmNk4B8nTDR",
        "outputId": "8190c991-44d5-406d-eb09-fd203273de49"
      },
      "execution_count": 3,
      "outputs": [
        {
          "output_type": "execute_result",
          "data": {
            "text/plain": [
              "column_1    0.408264\n",
              "column_2    0.939925\n",
              "column_3    0.590446\n",
              "column_4    0.945672\n",
              "column_5    0.282296\n",
              "column_6    0.007096\n",
              "Name: 1, dtype: float64"
            ]
          },
          "metadata": {},
          "execution_count": 3
        }
      ]
    },
    {
      "cell_type": "code",
      "source": [],
      "metadata": {
        "id": "DBjZUMCFnXOy"
      },
      "execution_count": null,
      "outputs": []
    },
    {
      "cell_type": "markdown",
      "source": [
        "# Q4. Write a code to find the following statistical measurements for the above data frame df1: (i)  mean of each and every column present in the dataframe.\n",
        "# (ii) standard deviation of column, ‘column_2’\n"
      ],
      "metadata": {
        "id": "Gezrx6ZRnldN"
      }
    },
    {
      "cell_type": "code",
      "source": [
        "import pandas as pd\n",
        "import numpy as np\n",
        "\n",
        "df1 = pd.DataFrame({'column_1': [1, 2, 3, 4, 5],\n",
        "                    'column_2': [10, 20, 30, 40, 50],\n",
        "                    'column_3': [100, 200, 300, 400, 500]})\n",
        "\n",
        "\n",
        "column_means = df1.mean()\n",
        "print(\"Mean of each column:\")\n",
        "print(column_means)\n",
        "\n",
        "column_2_std = np.std(df1['column_2'])\n",
        "print(\"\\nStandard deviation of 'column_2':\", column_2_std)\n"
      ],
      "metadata": {
        "colab": {
          "base_uri": "https://localhost:8080/"
        },
        "id": "3xQfvdE4n4L-",
        "outputId": "f971dda1-71dc-48a2-9015-8116fa5153ca"
      },
      "execution_count": 4,
      "outputs": [
        {
          "output_type": "stream",
          "name": "stdout",
          "text": [
            "Mean of each column:\n",
            "column_1      3.0\n",
            "column_2     30.0\n",
            "column_3    300.0\n",
            "dtype: float64\n",
            "\n",
            "Standard deviation of 'column_2': 14.142135623730951\n"
          ]
        }
      ]
    },
    {
      "cell_type": "code",
      "source": [],
      "metadata": {
        "id": "trmM2v8in63Q"
      },
      "execution_count": null,
      "outputs": []
    },
    {
      "cell_type": "markdown",
      "source": [
        "# Q5. Replace the data present in the second row of column, ‘column_2’ by a string variable then find the  mean of column, column_2.\n",
        "If you are getting errors in executing it then explain why.\n",
        "[Hint: To replace the data use df1.loc[] and equate this to string data of your choice.]\n"
      ],
      "metadata": {
        "id": "Usk43W1KoMgT"
      }
    },
    {
      "cell_type": "code",
      "source": [
        "import pandas as pd\n",
        "string_data = \"Hello, this is a string.\"\n",
        "df1.loc[1, 'column_2'] = string_data\n"
      ],
      "metadata": {
        "id": "N6pYpUvhotTu"
      },
      "execution_count": 8,
      "outputs": []
    },
    {
      "cell_type": "code",
      "source": [],
      "metadata": {
        "id": "-lFod86ko4gA"
      },
      "execution_count": null,
      "outputs": []
    },
    {
      "cell_type": "markdown",
      "source": [
        "# Q6. What do you understand about the windows function in pandas and list the types of windows  functions?\n"
      ],
      "metadata": {
        "id": "WtC2Ryx9pOqe"
      }
    },
    {
      "cell_type": "markdown",
      "source": [
        "Rolling Window Functions:\n",
        "\n",
        "rolling().mean(): Computes the mean of the values in the window.\n",
        "rolling().sum(): Computes the sum of the values in the window.\n",
        "rolling().min(): Returns the minimum value in the window.\n",
        "rolling().max(): Returns the maximum value in the window.\n",
        "rolling().median(): Calculates the median of the values in the window.\n",
        "rolling().std(): Computes the standard deviation of the values in the window.\n",
        "rolling().var(): Calculates the variance of the values in the window.\n",
        "rolling().apply(): Applies a custom function to the values in the window."
      ],
      "metadata": {
        "id": "LzgBmO1CpaQE"
      }
    },
    {
      "cell_type": "markdown",
      "source": [
        "# Q7. Write a code to print only the current month and year at the time of answering this question. [Hint: Use pandas.datetime function]\n"
      ],
      "metadata": {
        "id": "8T2BkaPdpcTA"
      }
    },
    {
      "cell_type": "code",
      "source": [
        "import pandas as pd\n",
        "from datetime import datetime\n",
        "\n",
        "# Step 2: Get the current date and time\n",
        "current_date = datetime.now()\n",
        "\n",
        "# Step 3: Extract the month and year from the current date\n",
        "current_month = current_date.month\n",
        "current_year = current_date.year\n",
        "\n",
        "# Step 4: Print the month and year\n",
        "print(\"Current Month:\", current_month)\n",
        "print(\"Current Year:\", current_year)\n"
      ],
      "metadata": {
        "colab": {
          "base_uri": "https://localhost:8080/"
        },
        "id": "KX_CGqB9pu_L",
        "outputId": "c43c71a0-2f9b-4edd-92f4-5dfffec18c4c"
      },
      "execution_count": 9,
      "outputs": [
        {
          "output_type": "stream",
          "name": "stdout",
          "text": [
            "Current Month: 7\n",
            "Current Year: 2023\n"
          ]
        }
      ]
    },
    {
      "cell_type": "markdown",
      "source": [
        "# Q8. Write a Python program that takes in two dates as input (in the format YYYY-MM-DD) and  calculates the difference between them in days, hours, and minutes using Pandas time delta. The  program should prompt the user to enter the dates and display the result.\n"
      ],
      "metadata": {
        "id": "qUJMcY9PqAZk"
      }
    },
    {
      "cell_type": "code",
      "source": [
        "import pandas as pd\n",
        "\n",
        "def calculate_time_difference():\n",
        "    # Get input dates from the user\n",
        "    start_date_str = input(\"Enter the start date (YYYY-MM-DD): \")\n",
        "    end_date_str = input(\"Enter the end date (YYYY-MM-DD): \")\n",
        "\n",
        "    # Convert input strings to Pandas datetime objects\n",
        "    start_date = pd.to_datetime(start_date_str)\n",
        "    end_date = pd.to_datetime(end_date_str)\n",
        "\n",
        "    # Calculate the time difference using Pandas timedelta\n",
        "    time_difference = end_date - start_date\n",
        "\n",
        "    # Extract days, hours, and minutes from the timedelta object\n",
        "    days = time_difference.days\n",
        "    hours = time_difference.seconds // 3600\n",
        "    minutes = (time_difference.seconds // 60) % 60\n",
        "\n",
        "    # Display the result\n",
        "    print(f\"Time difference: {days} days, {hours} hours, and {minutes} minutes.\")\n",
        "\n",
        "if __name__ == \"__main__\":\n",
        "    calculate_time_difference()\n"
      ],
      "metadata": {
        "colab": {
          "base_uri": "https://localhost:8080/"
        },
        "id": "64p4383QpvtC",
        "outputId": "35e4702b-9a25-4eec-bb8c-9d35c0d8f71d"
      },
      "execution_count": 10,
      "outputs": [
        {
          "output_type": "stream",
          "name": "stdout",
          "text": [
            "Enter the start date (YYYY-MM-DD): 2023-05-09\n",
            "Enter the end date (YYYY-MM-DD): 2023-09-29\n",
            "Time difference: 143 days, 0 hours, and 0 minutes.\n"
          ]
        }
      ]
    },
    {
      "cell_type": "code",
      "source": [],
      "metadata": {
        "id": "zL02q0Q5qUKt"
      },
      "execution_count": null,
      "outputs": []
    },
    {
      "cell_type": "markdown",
      "source": [
        "# Q9. Write a Python program that reads a CSV file containing categorical data and converts a specified  column to a categorical data type. The program should prompt the user to enter the file path, column  name, and category order, and then display the sorted data."
      ],
      "metadata": {
        "id": "589JdQEfqgA_"
      }
    },
    {
      "cell_type": "code",
      "source": [
        "import pandas as pd\n",
        "\n",
        "# Prompt the user to enter the file path, column name, and category order\n",
        "file_path = input(\"Enter the file path: \")\n",
        "column_name = input(\"Enter the column name: \")\n",
        "category_order = input(\"Enter the category order (comma-separated): \").split(\",\")\n",
        "\n",
        "# Read the CSV file\n",
        "data = pd.read_csv(file_path)\n",
        "\n",
        "# Convert the specified column to categorical data type with the specified order\n",
        "data[column_name] = pd.Categorical(data[column_name], categories=category_order, ordered=True)\n",
        "\n",
        "# Sort the data based on the specified column\n",
        "sorted_data = data.sort_values(column_name)\n",
        "\n",
        "# Display the sorted data\n",
        "print(sorted_data)\n"
      ],
      "metadata": {
        "id": "ejjAFqffq5pj"
      },
      "execution_count": null,
      "outputs": []
    },
    {
      "cell_type": "markdown",
      "source": [
        "# Q10. Write a Python program that reads a CSV file containing sales data for different products and  visualizes the data using a stacked bar chart to show the sales of each product category over time. The  program should prompt the user to enter the file path and display the chart."
      ],
      "metadata": {
        "id": "EUgqOH6ArT_G"
      }
    },
    {
      "cell_type": "code",
      "source": [
        "import pandas as pd\n",
        "import matplotlib.pyplot as plt\n",
        "\n",
        "# Prompt the user to enter the file path\n",
        "file_path = input(\"Enter the CSV file path: \")\n",
        "\n",
        "# Read the CSV file using pandas\n",
        "data = pd.read_csv(file_path)\n",
        "\n",
        "# Create a stacked bar chart\n",
        "plt.figure(figsize=(10, 6))\n",
        "plt.bar(data['Year'], data['Category1'], label='Category 1', color='blue')\n",
        "plt.bar(data['Year'], data['Category2'], bottom=data['Category1'], label='Category 2', color='orange')\n",
        "plt.bar(data['Year'], data['Category3'], bottom=data['Category1'] + data['Category2'], label='Category 3', color='green')\n",
        "\n",
        "# Set the chart title and labels\n",
        "plt.title('Sales by Product Category')\n",
        "plt.xlabel('Year')\n",
        "plt.ylabel('Sales')\n",
        "\n",
        "# Add a legend\n",
        "plt.legend()\n",
        "\n",
        "# Show the chart\n",
        "plt.show()\n"
      ],
      "metadata": {
        "id": "t1LInWwTupv6"
      },
      "execution_count": null,
      "outputs": []
    },
    {
      "cell_type": "markdown",
      "source": [
        "Q11. You are given a CSV file containing student data that includes the student ID and their test score. Write  a Python program that reads the CSV file, calculates the mean, median, and mode of the test scores, and  displays the results in a table.\n",
        "The program should do the followingM\n",
        "I Prompt the user to enter the file path of the CSV file containing the student dataR I Read the CSV file into a Pandas DataFrameR\n",
        "I Calculate the mean, median, and mode of the test scores using Pandas toolsR\n",
        "I Display the mean, median, and mode in a table.\n",
        "Assume the CSV file contains the following columnsM\n",
        "I Student ID: The ID of the studentR\n",
        "I Test Score: The score of the student's test.\n",
        "Example usage of the program:\n",
        "Enter the file path of the CSV file containing the student data: student_data.csv\n",
        "\n",
        "\n",
        "\n",
        "+-----------+--------+\n",
        "\n",
        "| Statistic | Value  |\n",
        "\n",
        "+-----------+--------+\n",
        "\n",
        "| Mean      | 79.6   |\n",
        "\n",
        "| Median    | 82     |\n",
        "\n",
        "| Mode      | 85, 90 |\n",
        "\n",
        "+-----------+--------+\n",
        "\n",
        "Assume that the CSV file student_data.csv contains the following data:\n",
        "\n",
        "Student ID,Test Score\n",
        "\n",
        "1,85\n",
        "\n",
        "2,90\n",
        "\n",
        "3,80\n",
        "\n",
        "4,75\n",
        "\n",
        "5,85\n",
        "\n",
        "6,82\n",
        "\n",
        "7,78\n",
        "\n",
        "8,85\n",
        "\n",
        "9,90\n",
        "\n",
        "10,85\n",
        "\n",
        "The program should calculate the mean, median, and mode of the test scores and display the results  in a table.\n",
        "Note:  Create your assignment in Jupyter notebook and upload it in GitHub & share that github   repository link through your dashboard. Make sure the repository is public.\n"
      ],
      "metadata": {
        "id": "OiHTE99LrmHJ"
      }
    },
    {
      "cell_type": "code",
      "source": [
        "import pandas as pd\n",
        "\n",
        "# Prompt the user to enter the file path\n",
        "file_path = input(\"Enter the file path of the CSV file containing the student data\")\n",
        "\n",
        "# Read the CSV file into a Pandas DataFrame\n",
        "data = pd.read_csv(file_path)\n",
        "\n",
        "# Calculate the mean, median, and mode of the test scores\n",
        "mean = data['Test Score'].mean()\n",
        "median = data['Test Score'].median()\n",
        "mode = data['Test Score'].mode()\n",
        "\n",
        "# Create a table to display the results\n",
        "table = pd.DataFrame({\n",
        "    'Statistic': ['Mean', 'Median', 'Mode'],\n",
        "    'Value': [mean, median, mode]\n",
        "})"
      ],
      "metadata": {
        "id": "E5vYmAsHr5gN"
      },
      "execution_count": null,
      "outputs": []
    }
  ]
}