{
  "nbformat": 4,
  "nbformat_minor": 0,
  "metadata": {
    "colab": {
      "provenance": []
    },
    "kernelspec": {
      "name": "python3",
      "display_name": "Python 3"
    },
    "language_info": {
      "name": "python"
    }
  },
  "cells": [
    {
      "cell_type": "markdown",
      "source": [
        "Q1. Create a python program to sort the given list of tuples based on integer value using a  lambda function.  \n",
        "[('Sachin Tendulkar', 34357), ('Ricky Ponting', 27483), ('Jack Kallis', 25534), ('Virat Kohli', 24936)] \n"
      ],
      "metadata": {
        "id": "Pw_Z2dXNJAtD"
      }
    },
    {
      "cell_type": "code",
      "source": [
        "data = [('Sachin Tendulkar', 34357), ('Ricky Ponting', 27483), ('Jack Kallis', 25534), ('Virat Kohli', 24936)]\n",
        "\n",
        "sorted_data = sorted(data  ,key =lambda x :x[1])\n",
        "\n",
        "print(sorted_data)\n",
        "\n"
      ],
      "metadata": {
        "colab": {
          "base_uri": "https://localhost:8080/"
        },
        "id": "esmGEO1vJ-Te",
        "outputId": "6b61e10b-92c6-4734-ec22-85947a36e346"
      },
      "execution_count": null,
      "outputs": [
        {
          "output_type": "stream",
          "name": "stdout",
          "text": [
            "[('Virat Kohli', 24936), ('Jack Kallis', 25534), ('Ricky Ponting', 27483), ('Sachin Tendulkar', 34357)]\n"
          ]
        }
      ]
    },
    {
      "cell_type": "markdown",
      "source": [
        "Q2. Write a Python Program to find the squares of all the numbers in the given list of integers using  lambda and map functions. \n",
        "[1, 2, 3, 4, 5, 6, 7, 8, 9, 10] \n"
      ],
      "metadata": {
        "id": "R17EwKDWN8D0"
      }
    },
    {
      "cell_type": "code",
      "source": [
        "l = [1,2,3,4,5,6,7,8,9,10]"
      ],
      "metadata": {
        "id": "ULsjZUdnNcf6"
      },
      "execution_count": null,
      "outputs": []
    },
    {
      "cell_type": "code",
      "source": [
        "list(map(lambda x: x**2 ,l))"
      ],
      "metadata": {
        "colab": {
          "base_uri": "https://localhost:8080/"
        },
        "id": "BaxHK6K9OMnu",
        "outputId": "4bdf15ee-d016-466d-ed8d-158573cbbae3"
      },
      "execution_count": null,
      "outputs": [
        {
          "output_type": "execute_result",
          "data": {
            "text/plain": [
              "[1, 4, 9, 16, 25, 36, 49, 64, 81, 100]"
            ]
          },
          "metadata": {},
          "execution_count": 18
        }
      ]
    },
    {
      "cell_type": "markdown",
      "source": [
        "Q3. Write a python program to convert the given list of integers into a tuple of strings. Use map and  lambda functions \n",
        "Given String: [1, 2, 3, 4, 5, 6, 7, 8, 9, 10] \n",
        "Expected output: ('1', '2', '3', '4', '5', '6', '7', '8', '9', '10') \n"
      ],
      "metadata": {
        "id": "-ijwq5OQOpK3"
      }
    },
    {
      "cell_type": "code",
      "source": [
        "l1=[1,2,3,4,5,6,7,8,9,10]"
      ],
      "metadata": {
        "id": "W02nnXa_OUa5"
      },
      "execution_count": null,
      "outputs": []
    },
    {
      "cell_type": "code",
      "source": [
        "tuple(map(lambda x: str(x) , l1))"
      ],
      "metadata": {
        "colab": {
          "base_uri": "https://localhost:8080/"
        },
        "id": "50NMIWGPO_3E",
        "outputId": "cfa78c0a-1869-4755-c0ee-848f0e76841f"
      },
      "execution_count": null,
      "outputs": [
        {
          "output_type": "execute_result",
          "data": {
            "text/plain": [
              "('1', '2', '3', '4', '5', '6', '7', '8', '9', '10')"
            ]
          },
          "metadata": {},
          "execution_count": 20
        }
      ]
    },
    {
      "cell_type": "markdown",
      "source": [
        "Q4.  Write a python program using reduce function to compute the product of a list containing numbers  from 1 to 25. "
      ],
      "metadata": {
        "id": "OQgrOOtxPmDr"
      }
    },
    {
      "cell_type": "code",
      "source": [
        "from functools import reduce"
      ],
      "metadata": {
        "id": "Jp6TCL-uyQsa"
      },
      "execution_count": 2,
      "outputs": []
    },
    {
      "cell_type": "code",
      "source": [
        "number =list(range(1,26))\n",
        "product =reduce(lambda x ,y: x*y ,number)\n",
        "\n",
        "print(\"product of the list\" , product)"
      ],
      "metadata": {
        "colab": {
          "base_uri": "https://localhost:8080/"
        },
        "id": "bT-rVTidyY4i",
        "outputId": "7072e71f-a6f8-4f07-d04b-610bcc53e41c"
      },
      "execution_count": 7,
      "outputs": [
        {
          "output_type": "stream",
          "name": "stdout",
          "text": [
            "product of the list 15511210043330985984000000\n"
          ]
        }
      ]
    },
    {
      "cell_type": "markdown",
      "source": [
        "Q5. Write a python program to filter the numbers in a given list that are divisible by 2 and 3 using the  filter function. \n",
        "[2, 3, 6, 9, 27, 60, 90, 120, 55, 46] \n"
      ],
      "metadata": {
        "id": "5wE1gy1vz05E"
      }
    },
    {
      "cell_type": "code",
      "source": [
        "l = [2,3,6,9,27,60,90,120,55,46]"
      ],
      "metadata": {
        "id": "hvQiDQ9rytup"
      },
      "execution_count": 8,
      "outputs": []
    },
    {
      "cell_type": "code",
      "source": [
        "list(filter(lambda x : x%2 ==0 and x%3 ==0 ,l))"
      ],
      "metadata": {
        "colab": {
          "base_uri": "https://localhost:8080/"
        },
        "id": "AZZb_XEq0GJg",
        "outputId": "9ae82b65-eaea-49d8-c779-b789c314df5d"
      },
      "execution_count": 10,
      "outputs": [
        {
          "output_type": "execute_result",
          "data": {
            "text/plain": [
              "[6, 60, 90, 120]"
            ]
          },
          "metadata": {},
          "execution_count": 10
        }
      ]
    },
    {
      "cell_type": "markdown",
      "source": [
        "Q6. Write a python program to find palindromes in the given list of strings using lambda and filter  function. \n",
        "['python', 'php', 'aba', 'radar', 'level'] \n"
      ],
      "metadata": {
        "id": "dTY7gHLB2JRD"
      }
    },
    {
      "cell_type": "code",
      "source": [
        "string =['python' , 'php' ,'aba' ,'radar' ,'level']"
      ],
      "metadata": {
        "id": "dN6RWjl60s95"
      },
      "execution_count": 11,
      "outputs": []
    },
    {
      "cell_type": "code",
      "source": [
        "list(filter(lambda x: x ==x[::-1] ,string))"
      ],
      "metadata": {
        "colab": {
          "base_uri": "https://localhost:8080/"
        },
        "id": "fg0dWs8Q3gZn",
        "outputId": "ecd0a719-3e46-4ab5-848b-cf44123dd7c3"
      },
      "execution_count": 12,
      "outputs": [
        {
          "output_type": "execute_result",
          "data": {
            "text/plain": [
              "['php', 'aba', 'radar', 'level']"
            ]
          },
          "metadata": {},
          "execution_count": 12
        }
      ]
    }
  ]
}