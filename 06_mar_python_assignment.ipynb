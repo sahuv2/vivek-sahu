{
  "nbformat": 4,
  "nbformat_minor": 0,
  "metadata": {
    "colab": {
      "provenance": []
    },
    "kernelspec": {
      "name": "python3",
      "display_name": "Python 3"
    },
    "language_info": {
      "name": "python"
    }
  },
  "cells": [
    {
      "cell_type": "markdown",
      "source": [
        "### Q1. What is Statistics? \n"
      ],
      "metadata": {
        "id": "OKs1joQhzu7e"
      }
    },
    {
      "cell_type": "markdown",
      "source": [
        "The Statistics is science of  collecting , organizing and analyzing data "
      ],
      "metadata": {
        "id": "Of4DO50szz4j"
      }
    },
    {
      "cell_type": "markdown",
      "source": [
        "### Q2. Define the different types of statistics and give an example of when each type might be used. \n"
      ],
      "metadata": {
        "id": "EfgPt4XO0URv"
      }
    },
    {
      "cell_type": "markdown",
      "source": [
        "Two types of statistics :\n",
        "1. Descriptive statistics\n",
        "   Ex: Measerment of central tendency (mean , median , mode)\n",
        "\n",
        "2. Inferencial statistics:\n",
        "      Ex: Hypothesis Testing (z_test , t_test )"
      ],
      "metadata": {
        "id": "5LMd_xjD0x5B"
      }
    },
    {
      "cell_type": "markdown",
      "source": [
        "### Q3.  What are the different types of data and how do they differ from each other? Provide an example of  each type of data. \n"
      ],
      "metadata": {
        "id": "xkdAbtHy2cSC"
      }
    },
    {
      "cell_type": "markdown",
      "source": [
        "There are two types of data : \n",
        "\n",
        "  Numerical Data(Quantitative): Numerical data consists of quantitative values that can be measured or counted. It can be further categorized into two subtypes:\n",
        "\n",
        "Discrete Data: Discrete data represents whole numbers or counts that cannot be subdivided. For example, the number of students in a class (5, 10, 15).\n",
        "\n",
        "Continuous Data: Continuous data represents measurements that can take on any value within a certain range. For example, the height of a person (165 cm, 170 cm, 175 cm).\n",
        "\n",
        "Categorical Data(Qualitative): Categorical data represents qualitative variables that can be divided into distinct groups or categories. It can be further categorized into two subtypes:\n",
        "\n",
        "Nominal Data: Nominal data represents categories. For example, colors (red, blue, green) or marital status (single, married, divorced).\n",
        "\n",
        "Ordinal Data: Ordinal data represents categories with a specific order or ranking. However, the intervals between the categories may not be equal. For example, a survey rating scale (poor, fair, good, excellent).\n"
      ],
      "metadata": {
        "id": "ok_tJ6Zz2nVC"
      }
    },
    {
      "cell_type": "markdown",
      "source": [
        "### Q4. Categorise the following datasets with respect to quantitative and qualitative data types: (i) Grading in exam: A+, A, B+, B, C+, C, D, E \n",
        "### (ii) Colour of mangoes: yellow, green, orange, red \n",
        "### (iii) Height data of a class: [178.9, 179, 179.5, 176, 177.2, 178.3, 175.8,...] \n",
        "### (iv) Number of mangoes exported by a farm: [500, 600, 478, 672, …] \n"
      ],
      "metadata": {
        "id": "tFHJvkNR4ZTu"
      }
    },
    {
      "cell_type": "markdown",
      "source": [
        "\n",
        "(i) Grading in exam: A+, A, B+, B, C+, C, D, E\n",
        "\n",
        "This dataset can be categorized as qualitative data since it represents different grades or categories rather than numerical values.\n",
        "\n",
        "(ii) Colour of mangoes: yellow, green, orange, red\n",
        "\n",
        "This dataset can also be categorized as qualitative data since it represents different categories or labels for the color of mangoes.\n",
        "\n",
        "(iii) Height data of a class: [178.9, 179, 179.5, 176, 177.2, 178.3, 175.8, ...]\n",
        "\n",
        "This dataset can be categorized as quantitative data since it represents numerical measurements of the height of individuals in the class.\n",
        "\n",
        "(iv) Number of mangoes exported by a farm: [500, 600, 478, 672, ...]\n",
        "\n",
        "This dataset can be categorized as quantitative data since it represents numerical measurements of the number of mangoes exported by a farm.\n",
        "\n",
        "\n",
        "\n"
      ],
      "metadata": {
        "id": "T2CIYYCH4reE"
      }
    },
    {
      "cell_type": "markdown",
      "source": [
        "### Q5. Explain the concept of levels of measurement and give an example of a variable for each level. \n"
      ],
      "metadata": {
        "id": "3zNRcDsa5jt_"
      }
    },
    {
      "cell_type": "markdown",
      "source": [
        "1. Nominal level\n",
        "\n",
        "  a.Qualitative /catagrical\n",
        "\n",
        "  b.Oder doesn't matter\n",
        "\n",
        "  c.Ex: gender , colour\n",
        "\n",
        "2. Ordinal level\n",
        "\n",
        "  a.ranking is important\n",
        "\n",
        "  b.order matter\n",
        "\n",
        "  c.difference cannot be measured\n",
        "\n",
        "   Ex:best,good, bad\n",
        "\n",
        "3. Interval level\n",
        "\n",
        "  a.the order matter\n",
        "\n",
        "  b.ratio cannot be measured\n",
        "\n",
        "  c.diffence cannot be measured\n",
        "\n",
        "  d.no \"0\" starting point\n",
        "\n",
        "  Ex:temperature\n",
        "\n",
        "4. ratio level\n",
        "\n",
        "  a.order be mattered \n",
        "\n",
        "  b.diffence can be measured( including ratio)\n",
        "\n",
        "  c.contain a \"0\" starting point\n",
        "\n",
        "    Ex:student marks in a class"
      ],
      "metadata": {
        "id": "hxU9VAMD5oOx"
      }
    },
    {
      "cell_type": "markdown",
      "source": [
        "### Q6. Why is it important to understand the level of measurement when analyzing data? Provide an  example to illustrate your answer. \n"
      ],
      "metadata": {
        "id": "bf53Fi-R_xc1"
      }
    },
    {
      "cell_type": "markdown",
      "source": [
        "Understanding the level of measurement is crucial when analyzing data because it determines the mathematical operations that can be performed on the data .\n",
        "\n",
        " The level of measurement refers to the nature and properties of the data, which can be categorized into four main levels: nominal, ordinal, interval, and ratio.\n",
        "\n",
        "Nominal level: This is the lowest level of measurement and involves categorical data without any inherent order or numerical value. Examples include gender, marital status, or eye color.\n",
        "\n",
        "\n",
        "Ordinal level: Data at this level can be ranked or ordered but lacks information about the magnitude of differences between values. Examples include rating scales or educational levels.\n",
        "\n",
        "\n",
        "Interval level: Data at this level have meaningful intervals between values, but a true zero point is absent. Examples include temperature measured in Celsius or Fahrenheit.\n",
        "\n",
        "Ratio level: This is the highest level of measurement, characterized by data with meaningful intervals and a true zero point. Examples include weight, height, or time. "
      ],
      "metadata": {
        "id": "2SWJ-pnJ_5u1"
      }
    },
    {
      "cell_type": "markdown",
      "source": [
        "### Q7. How nominal data type is different from ordinal data type. \n"
      ],
      "metadata": {
        "id": "LMx2S4CGAk7B"
      }
    },
    {
      "cell_type": "markdown",
      "source": [
        "Nominal Data:\n",
        "\n",
        "Nominal data is a type of categorical data where the values represent different categories or groups. They are simply labels or names assigned to different categories. Examples of nominal data include gender (male, female), eye color (blue, brown, green)\n",
        "\n",
        "\n",
        "\n",
        "Ordinal Data:\n",
        "\n",
        "Ordinal data, on the other hand, is a type of categorical data where the values represent categories that have a natural order or hierarchy. The data points in an ordinal scale can be ranked or ordered relative to each other. Examples of ordinal data include educational attainment (elementary, high school, college, graduate school)\n",
        "\n"
      ],
      "metadata": {
        "id": "1nrSguzhApfC"
      }
    },
    {
      "cell_type": "markdown",
      "source": [
        "### Q8. Which type of plot can be used to display data in terms of range? \n"
      ],
      "metadata": {
        "id": "y58mrJOdBDKt"
      }
    },
    {
      "cell_type": "markdown",
      "source": [
        "A type of plot commonly used to display data in terms of range is a box plot, also known as a box-and-whisker plot."
      ],
      "metadata": {
        "id": "bsgAm45jBIul"
      }
    },
    {
      "cell_type": "markdown",
      "source": [
        "### Q9. Describe the difference between descriptive and inferential statistics. Give an example of each  type of statistics and explain how they are used. \n"
      ],
      "metadata": {
        "id": "pBsNB7EEBPxv"
      }
    },
    {
      "cell_type": "markdown",
      "source": [
        "\n",
        "\n",
        "Descriptive Statistics:\n",
        "\n",
        "Descriptive statistics involve summarizing and describing the main characteristics of a dataset. \n",
        "\n",
        "Example: Let's consider a dataset of students' scores on a math exam. \n",
        "(average) score, \n",
        "\n",
        "\n",
        "Inferential Statistics:\n",
        "\n",
        "Inferential statistics involve making inferences and drawing conclusions about a population based on a sample of data. \n",
        "\n",
        "\n",
        "Example: Suppose a researcher wants to investigate whether there is a significant difference in the average math scores between students who receive tutoring and those who do not. They collect a random sample of students, some of whom receive tutoring and some who don't. "
      ],
      "metadata": {
        "id": "d1yZEFNXBVv5"
      }
    },
    {
      "cell_type": "markdown",
      "source": [
        "### Q10. What are some common measures of central tendency and variability used in statistics? Explain  how each measure can be used to describe a dataset. \n"
      ],
      "metadata": {
        "id": "KmL6iD2uB_FH"
      }
    },
    {
      "cell_type": "markdown",
      "source": [
        "\n",
        "\n",
        "Mean: The mean is the most widely used measure of central tendency.\n",
        "\n",
        "Median: The median is the middle value in a dataset when it is arranged in ascending or descending order. \n",
        "\n",
        "Mode: The mode is the most frequently occurring value in a dataset. It represents the value that appears with the highest frequency.\n",
        "\n"
      ],
      "metadata": {
        "id": "1FMIO60QCLGk"
      }
    }
  ]
}