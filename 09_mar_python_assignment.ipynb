{
  "nbformat": 4,
  "nbformat_minor": 0,
  "metadata": {
    "colab": {
      "provenance": []
    },
    "kernelspec": {
      "name": "python3",
      "display_name": "Python 3"
    },
    "language_info": {
      "name": "python"
    }
  },
  "cells": [
    {
      "cell_type": "markdown",
      "source": [
        "### Q1: What are the Probability Mass Function (PMF) and Probability Density Function (PDF)? Explain with  an example.\n"
      ],
      "metadata": {
        "id": "kw97jDZRBW6P"
      }
    },
    {
      "cell_type": "markdown",
      "source": [
        "Probability Mass Function (PMF):\n",
        "The PMF is applicable to discrete random variables, which take on specific values with certain probabilities. It defines the probability of each possible outcome.\n",
        "Let's consider the example of rolling a fair six-sided die. The random variable . The PMF of X is given by:\n",
        "\n",
        "PMF(X = 1) = 1/6\n",
        "PMF(X = 2) = 1/6\n",
        "PMF(X = 3) = 1/6\n",
        "PMF(X = 4) = 1/6\n",
        "PMF(X = 5) = 1/6\n",
        "PMF(X = 6) = 1/6\n",
        "\n",
        "\n",
        "\n",
        "Probability Density Function (PDF):\n",
        "The PDF is used for continuous random variables, which can take on any value within a certain range.\n",
        "\n",
        "Let's consider the example of the height of adult males. The random variable X represents height in inches."
      ],
      "metadata": {
        "id": "kLSqyYOCBW0x"
      }
    },
    {
      "cell_type": "markdown",
      "source": [
        "### Q2: What is Cumulative Density Function (CDF)? Explain with an example. Why CDF is used?\n"
      ],
      "metadata": {
        "id": "EC0RYkTpBWyO"
      }
    },
    {
      "cell_type": "markdown",
      "source": [
        "The Cumulative Density Function (CDF) is a concept used in probability theory and statistics to describe the cumulative probability distribution of a random variable. It provides information about the probability of a random variable taking on a value less than or equal to a given value.\n",
        "\n",
        "Mathematically, the CDF of a random variable X is denoted as F(x) and is defined as:\n",
        "\n",
        "F(x) = P(X ≤ x)\n",
        "\n",
        "\n",
        "\n",
        "\n",
        " The CDF provides a comprehensive view of the entire probability distribution of a random variable."
      ],
      "metadata": {
        "id": "3d_W1mNlBWvC"
      }
    },
    {
      "cell_type": "markdown",
      "source": [
        "# Q3: What are some examples of situations where the normal distribution might be used as a model?  Explain how the parameters of the normal distribution relate to the shape of the distribution.\n"
      ],
      "metadata": {
        "id": "x3BkRJb9BWsO"
      }
    },
    {
      "cell_type": "markdown",
      "source": [
        "Normal/gaussian Distribusion is a type of continuous probability Distribustion for a real_value random variables.\n",
        "\n",
        "     Ex: Height of the Student\n",
        "\n",
        "     The parameter of the normal distribustion relate the shape of\n",
        "\n",
        "      mean (μ) of the distribution represents the average height, and the standard deviation (σ)  indicates how much the heights vary around the mean."
      ],
      "metadata": {
        "id": "liWpdHTqBWpY"
      }
    },
    {
      "cell_type": "markdown",
      "source": [
        "## Q4: Explain the importance of Normal Distribution. Give a few real-life examples of Normal  Distribution.\n"
      ],
      "metadata": {
        "id": "H3YtCrjWBWjm"
      }
    },
    {
      "cell_type": "markdown",
      "source": [
        "The central limit theorem say that the sampling distribussion of the mean will\n",
        "  be always normally distroibusion. as long as the sample size of large enough\n",
        "\n",
        "  regarless, whether the population has a normal,poission, bionomial on any other distribusion.\n",
        "  the sampling distribusion of the mean will be normal.\n",
        "\n",
        "  Real-life examples of normal distribution:\n",
        "\n",
        "Heights of Individuals: The heights of adult individuals often follow a normal distribution pattern. If you were to measure the heights of a large number of people, you would find that most of the heights cluster around the average height, with fewer individuals being exceptionally tall or short."
      ],
      "metadata": {
        "id": "XhMgHkdHBWg-"
      }
    },
    {
      "cell_type": "markdown",
      "source": [
        "# Q5: What is Bernaulli Distribution? Give an Example. What is the difference between Bernoulli  Distribution and Binomial Distribution?\n"
      ],
      "metadata": {
        "id": "GWk9DAZhBWbj"
      }
    },
    {
      "cell_type": "markdown",
      "source": [
        "The Bernoulli distribution is a discrete probability distribution that models a single binary outcome, typically represented as a success (usually denoted as 1) or a failure (usually denoted as 0).\n",
        "\n",
        "The probability mass function (PMF) of the Bernoulli distribution is given by:\n",
        "\n",
        "P(X = x) = p^x * (1 - p)^(1-x)\n",
        "\n",
        "where X is the random variable, x is the observed value (either 0 or 1), and p is the probability of success.\n",
        "\n",
        "\n",
        "The Binomial distribution, on the other hand, is an extension of the Bernoulli distribution. It models the number of successes (x) in a fixed number of independent Bernoulli trials (n), each with the same probability of success (p). The key difference is that the Bernoulli distribution models a single trial, while the Binomial distribution models multiple trials.\n",
        "\n",
        "The probability mass function (PMF) of the Binomial distribution is given by:\n",
        "\n",
        "P(X = x) = C(n, x) * p^x * (1 - p)^(n-x)\n",
        "\n",
        "\n",
        "\n",
        "\n",
        "\n",
        "\n"
      ],
      "metadata": {
        "id": "NDltP8jDBWY7"
      }
    },
    {
      "cell_type": "markdown",
      "source": [
        "## Q6. Consider a dataset with a mean of 50 and a standard deviation of 10. If we assume that the dataset  is normally distributed, what is the probability that a randomly selected observation will be greater  than 60? Use the appropriate formula and show your calculations."
      ],
      "metadata": {
        "id": "JRQ-LpAEBWWX"
      }
    },
    {
      "cell_type": "markdown",
      "source": [
        "The Z-score represents the number of standard deviations an observation is away from the mean. We can calculate the Z-score using the formula:\n",
        "\n",
        "Z = (X - μ) / σ\n",
        "\n",
        "\n",
        "\n",
        "Z = (60 - 50) / 10\n",
        "Z = 10 / 10\n",
        "Z = 1\n",
        "\n",
        "\n",
        "\n",
        "\n",
        "Therefore, the probability that a randomly selected observation from the dataset will be greater than 60 is approximately 0.1587, or 15.87%."
      ],
      "metadata": {
        "id": "4pny9hOXI_e_"
      }
    },
    {
      "cell_type": "markdown",
      "source": [
        "### Q7: Explain uniform Distribution with an example.\n"
      ],
      "metadata": {
        "id": "yQtIpg7lJORy"
      }
    },
    {
      "cell_type": "markdown",
      "source": [
        "The uniform distribusion is basically continuous random variables , symmetrical\n",
        "distribusion.\n",
        " An example of a uniform distribution is rolling a fair six-sided die. The die has six equally likely outcomes: the numbers 1, 2, 3, 4, 5, and 6. Each number has a probability of 1/6"
      ],
      "metadata": {
        "id": "NxcLTH6aJVxy"
      }
    },
    {
      "cell_type": "markdown",
      "source": [
        "# Q8: What is the z score? State the importance of the z score.\n"
      ],
      "metadata": {
        "id": "uqdgvN__JVua"
      }
    },
    {
      "cell_type": "markdown",
      "source": [
        "The z-score, also known as the standard score, is a statistical measure that represents the number of standard deviations an observation or data point is from the mean of a dataset.\n",
        "\n",
        "\n",
        "\n",
        "z = (x - μ) / σ\n",
        "\n",
        "The importance of the z-score lies in its ability to provide a standardized measurement that allows for meaningful comparisons and analysis across different datasets."
      ],
      "metadata": {
        "id": "fBB8kOZ8JVrQ"
      }
    },
    {
      "cell_type": "markdown",
      "source": [
        "# Q9: What is Central Limit Theorem? State the significance of the Central Limit Theorem\n"
      ],
      "metadata": {
        "id": "bOXsi2owKZ2L"
      }
    },
    {
      "cell_type": "markdown",
      "source": [
        "The central limit theorem say that the sampling distribussion of the mean will be always normally distroibusion. as long as the sample size of large enough\n",
        "\n",
        "regarless, whether the population has a normal,poission, bionomial on any other distribusion. the sampling distribusion of the mean will be normal.\n",
        "\n",
        "The significance of the Central Limit Theorem is that it provides a basis for statistical inference and hypothesis testing."
      ],
      "metadata": {
        "id": "HftyJCA0KZy-"
      }
    },
    {
      "cell_type": "markdown",
      "source": [
        "# Q10: State the assumptions of the Central Limit Theorem.\n",
        "\n"
      ],
      "metadata": {
        "id": "LwiGu1ZLKZwE"
      }
    },
    {
      "cell_type": "markdown",
      "source": [
        " The assumptions of the Central Limit Theorem are as follows:\n",
        "\n",
        "Independence\n",
        "\n",
        "Identical Distribution\n",
        "\n",
        "Finite Variance\n",
        "\n",
        "\n",
        "Sample Size\n",
        "\n",
        "\n"
      ],
      "metadata": {
        "id": "vOwAfk_4LJcq"
      }
    },
    {
      "cell_type": "code",
      "execution_count": null,
      "metadata": {
        "id": "WNHHtylr0P4a"
      },
      "outputs": [],
      "source": []
    }
  ]
}