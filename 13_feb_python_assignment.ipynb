{
  "nbformat": 4,
  "nbformat_minor": 0,
  "metadata": {
    "colab": {
      "provenance": []
    },
    "kernelspec": {
      "name": "python3",
      "display_name": "Python 3"
    },
    "language_info": {
      "name": "python"
    }
  },
  "cells": [
    {
      "cell_type": "markdown",
      "source": [
        "Q1. Explain why we have to use the Exception class while creating a Custom Exception. \n"
      ],
      "metadata": {
        "id": "LBtgtoGFW4jF"
      }
    },
    {
      "cell_type": "markdown",
      "source": [
        "When creating a custom exception in a programming language, it is recommended to inherit from the Exception class or a subclass .\n",
        "\n",
        "\n",
        "\n",
        "Exception handling: The Exception class provides a set of methods and properties that are useful for exception handling. These include getMessage(), getStackTrace(), and toString().\n",
        "\n",
        "Catching and handling exceptions: When catching exceptions in a try-catch block, you can catch the base Exception class to handle multiple types of exceptions. \n",
        "\n",
        "Documentation and discoverability: By using the Exception class, you provide clear documentation and discoverability for your custom exceptions. \n",
        "\n",
        "\n",
        "\n",
        "\n",
        "\n",
        "\n"
      ],
      "metadata": {
        "id": "8HQ2lJZuW4Wq"
      }
    },
    {
      "cell_type": "markdown",
      "source": [
        "Q2. Write a python program to print Python Exception Hierarchy. \n"
      ],
      "metadata": {
        "id": "cfVlTbv7Xu6B"
      }
    },
    {
      "cell_type": "code",
      "source": [
        "def print_exception_hierarchy(exception_class, indent=''):\n",
        "    print(indent + exception_class.__name__)\n",
        "    for subclass in exception_class.__subclasses__():\n",
        "        print_exception_hierarchy(subclass, indent + '  ')\n",
        "\n",
        "print_exception_hierarchy(BaseException)\n"
      ],
      "metadata": {
        "id": "wNvve7dgaItt"
      },
      "execution_count": null,
      "outputs": []
    },
    {
      "cell_type": "markdown",
      "source": [
        "Q3. What errors are defined in the ArithmeticError class? Explain any two with an example. "
      ],
      "metadata": {
        "id": "hkBIPF1yaR3L"
      }
    },
    {
      "cell_type": "markdown",
      "source": [
        "The ArithmeticError class is a base class for errors that occur during arithmetic operations in Python. "
      ],
      "metadata": {
        "id": "9ddViO-RatbB"
      }
    },
    {
      "cell_type": "code",
      "source": [
        "try:\n",
        "  a = 19/0\n",
        "\n",
        "except ZeroDivisionError as e:\n",
        "  print(e)"
      ],
      "metadata": {
        "colab": {
          "base_uri": "https://localhost:8080/"
        },
        "id": "ax_q9VnZaJiY",
        "outputId": "daa49323-8d1a-4f11-80de-4fe861ea9ed6"
      },
      "execution_count": 2,
      "outputs": [
        {
          "output_type": "stream",
          "name": "stdout",
          "text": [
            "division by zero\n"
          ]
        }
      ]
    },
    {
      "cell_type": "code",
      "source": [
        "try:\n",
        "  x = 10**100\n",
        "\n",
        "except OverflowError as e:\n",
        "  print(e)"
      ],
      "metadata": {
        "id": "0I1s0Q-6bAIG"
      },
      "execution_count": 3,
      "outputs": []
    },
    {
      "cell_type": "markdown",
      "source": [
        "Q4.Why LookupError class is used? Explain with an example KeyError and IndexError."
      ],
      "metadata": {
        "id": "KHcnNYu_dyS1"
      }
    },
    {
      "cell_type": "markdown",
      "source": [
        "LookupError is used to handle situations where a lookup operation fails due to the absence of a key or an invalid index"
      ],
      "metadata": {
        "id": "EdDaxuZqeScI"
      }
    },
    {
      "cell_type": "code",
      "source": [
        "fruits= {'apple': 1, 'banana': 2, 'orange': 3}\n",
        "\n",
        "try:\n",
        "    print(fruits['mango'])\n",
        "except KeyError as e:\n",
        "    print(e)\n"
      ],
      "metadata": {
        "colab": {
          "base_uri": "https://localhost:8080/"
        },
        "id": "jmKrf_dCbfNS",
        "outputId": "7054b9ae-6d9c-4e13-c670-08a16dd17dd4"
      },
      "execution_count": 9,
      "outputs": [
        {
          "output_type": "stream",
          "name": "stdout",
          "text": [
            "'mango'\n"
          ]
        }
      ]
    },
    {
      "cell_type": "code",
      "source": [
        "l = [1,2,3,4,5,6]\n",
        "\n",
        "try:\n",
        "  print(l[10])\n",
        "\n",
        "except IndexError as e:\n",
        "  print(e)"
      ],
      "metadata": {
        "colab": {
          "base_uri": "https://localhost:8080/"
        },
        "id": "GyUhTbqLehiE",
        "outputId": "f644f465-6f91-4ba5-ebc1-4c7b8887a1d1"
      },
      "execution_count": 8,
      "outputs": [
        {
          "output_type": "stream",
          "name": "stdout",
          "text": [
            "list index out of range\n"
          ]
        }
      ]
    },
    {
      "cell_type": "code",
      "source": [],
      "metadata": {
        "id": "sdVIwi8fgStk"
      },
      "execution_count": null,
      "outputs": []
    },
    {
      "cell_type": "markdown",
      "source": [
        "Q5. Explain ImportError. What is ModuleNotFoundError? \n"
      ],
      "metadata": {
        "id": "u_ayJC67ghbt"
      }
    },
    {
      "cell_type": "markdown",
      "source": [
        "ImportError: This exception is raised when an imported module is not found or there is an issue with importing"
      ],
      "metadata": {
        "id": "DrR_sL0Fg-Kk"
      }
    },
    {
      "cell_type": "markdown",
      "source": [
        "In Python 3.6 and later versions, if a module is not found, ModuleNotFoundError will be raised instead of a generic ImportError."
      ],
      "metadata": {
        "id": "adX5q42Mg-GQ"
      }
    },
    {
      "cell_type": "markdown",
      "source": [
        "Q6. List down some best practices for exception handling in python.  \n"
      ],
      "metadata": {
        "id": "kXCFFs_zhVuj"
      }
    },
    {
      "cell_type": "markdown",
      "source": [
        "When it comes to exception handling in Python, there are several best practices you can follow to writeand maintainable code. Here are some of the key practices:\n",
        "\n",
        "Use specific exception types: Catch specific exception types rather than using a broad exception catch-all. \n",
        "\n",
        "Use try-except blocks: Wrap the code that might raise an exception inside a try block, and catch the exception\n",
        "\n",
        "\n",
        "Avoid bare except: Avoid using a bare except statement, as it catches all exceptions, including system-level exceptions. \n",
        "\n"
      ],
      "metadata": {
        "id": "yYR-yygAhrrA"
      }
    }
  ]
}