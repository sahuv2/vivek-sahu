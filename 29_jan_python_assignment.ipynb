{
  "nbformat": 4,
  "nbformat_minor": 0,
  "metadata": {
    "colab": {
      "provenance": []
    },
    "kernelspec": {
      "name": "python3",
      "display_name": "Python 3"
    },
    "language_info": {
      "name": "python"
    }
  },
  "cells": [
    {
      "cell_type": "markdown",
      "source": [
        "1. Who developed Python Programming Language? \n"
      ],
      "metadata": {
        "id": "7U5DTkrM9Pkq"
      }
    },
    {
      "cell_type": "markdown",
      "source": [
        "Guido van Rossum started working on Python in the  1980. "
      ],
      "metadata": {
        "id": "yeeGyaOY9m6f"
      }
    },
    {
      "cell_type": "markdown",
      "source": [
        "2. Which type of Programming does Python support? \n"
      ],
      "metadata": {
        "id": "XT15-iZW96ln"
      }
    },
    {
      "cell_type": "markdown",
      "source": [
        "\n",
        "Python supports multiple programming paradigms, including:\n",
        "\n",
        "   1.Procedural Programming:\n",
        " 2. object-Oriented Programming (OOP): \n",
        " 3. Functional Programming:\n",
        " 4. scripting: \n",
        " 5. Web Development: \n",
        " 6. Data Analysis and Scientific Computing: \n",
        "\n",
        "\n",
        "\n",
        "\n",
        "\n",
        "\n"
      ],
      "metadata": {
        "id": "x9fr7rEoMO1c"
      }
    },
    {
      "cell_type": "markdown",
      "source": [
        "3. Is Python case sensitive when dealing with identifiers? \n"
      ],
      "metadata": {
        "id": "_Y1lguM3GqX2"
      }
    },
    {
      "cell_type": "markdown",
      "source": [
        "yes , python case sensitive when dealing with identifires.\n",
        "such as variable name: 'myVariable' , 'myvariable' ,'MYVARIABLE'\n"
      ],
      "metadata": {
        "id": "xy6Cjv4VHq0E"
      }
    },
    {
      "cell_type": "markdown",
      "source": [
        "4. What is the correct extension of the Python file? "
      ],
      "metadata": {
        "id": "L_-MFiTKIIoD"
      }
    },
    {
      "cell_type": "markdown",
      "source": [
        "the correct extension of the python file \".py\".\n",
        "\n",
        "\n"
      ],
      "metadata": {
        "id": "hJyk-cTwIS8r"
      }
    },
    {
      "cell_type": "markdown",
      "source": [
        "5. Is Python code compiled or interpreted?"
      ],
      "metadata": {
        "id": "tPQh1RqYJT7y"
      }
    },
    {
      "cell_type": "markdown",
      "source": [
        "python has interpreted language."
      ],
      "metadata": {
        "id": "gWDWxWw4J-68"
      }
    },
    {
      "cell_type": "markdown",
      "source": [
        "6. Name a few blocks of code used to define in Python language? \n"
      ],
      "metadata": {
        "id": "I8oPr9RuKHCK"
      }
    },
    {
      "cell_type": "markdown",
      "source": [
        "in python there are several block of code used in python language\n",
        "1.funtion definiton.\n",
        "2.lopping statement.(for and while loop)\n",
        "3.conditional staement. (if ,elif ,else)\n",
        "4.class definition.\n",
        "5.expection handling.(try,except,findly)"
      ],
      "metadata": {
        "id": "uz2kLcU0KO1p"
      }
    },
    {
      "cell_type": "markdown",
      "source": [
        "7. State a character used to give single-line comments in Python? \n"
      ],
      "metadata": {
        "id": "2_a02lxRKOyG"
      }
    },
    {
      "cell_type": "markdown",
      "source": [
        "\"#\" is used the single line comment in python"
      ],
      "metadata": {
        "id": "Or22CYt6KOvi"
      }
    },
    {
      "cell_type": "markdown",
      "source": [
        "8. Mention functions which can help us to find the version of python that we are currently working on? \n"
      ],
      "metadata": {
        "id": "pVk2qbSOKOsV"
      }
    },
    {
      "cell_type": "markdown",
      "source": [
        "the version of python that we are currently working on,\n",
        "'sys.version' , 'sys.version_info' , 'platform.python_version()' , 'platform.python_version_tuple()"
      ],
      "metadata": {
        "id": "ZpcI5YWQKOpU"
      }
    },
    {
      "cell_type": "markdown",
      "source": [
        "9. Python supports the creation of anonymous functions at runtime, using a construct called \n"
      ],
      "metadata": {
        "id": "dz_iY8t_KOmP"
      }
    },
    {
      "cell_type": "markdown",
      "source": [
        " Python supports the creation of anonymous functions at runtime, using a construct called \"lambda\"\n"
      ],
      "metadata": {
        "id": "WS4rwu2sKOjY"
      }
    },
    {
      "cell_type": "markdown",
      "source": [
        "10. What does pip stand for python? \n"
      ],
      "metadata": {
        "id": "5RuKiDfzKOHf"
      }
    },
    {
      "cell_type": "markdown",
      "source": [
        "In python \"pip\" stand for \"pip installs pakages\" sometimes refers to as \"pip\" install python"
      ],
      "metadata": {
        "id": "wVVCb5gZKNh_"
      }
    },
    {
      "cell_type": "markdown",
      "source": [
        "11. Mention a few built-in functions in python? \n"
      ],
      "metadata": {
        "id": "SG0G7vT_ROeb"
      }
    },
    {
      "cell_type": "markdown",
      "source": [
        "sure! python has built-in function.\n",
        "'print()','len()','input()','range()','type()', 'int()','float()','str()','list()','dict()'."
      ],
      "metadata": {
        "id": "AX2YT-xBRObH"
      }
    },
    {
      "cell_type": "markdown",
      "source": [
        "12. What is the maximum possible length of an identifier in Python? \n"
      ],
      "metadata": {
        "id": "y7W_kagvROYR"
      }
    },
    {
      "cell_type": "markdown",
      "source": [
        "In Python, the maximum length of an identifier is not explicitly defined. However, there are some practical limitations to consider."
      ],
      "metadata": {
        "id": "PqFYkeB1ROVq"
      }
    },
    {
      "cell_type": "markdown",
      "source": [
        "13. What are the benefits of using Python? \n"
      ],
      "metadata": {
        "id": "YJOzDWrzROS1"
      }
    },
    {
      "cell_type": "markdown",
      "source": [
        "Python is a popular programming language known for its simplicity, readability, and versatility.\n",
        "Easy to learn and read: \n",
        "Large and active community: \n",
        "Cross-platform compatibility: \n",
        "Extensive libraries and frameworks:\n",
        "Rapid prototyping and development: \n",
        "Scalability and performance: \n",
        "High-level language features:\n",
        "Support for automation and scripting: \n",
        "Strong community support:\n",
        "\n",
        "\n",
        "\n",
        "\n",
        "\n",
        "\n",
        "\n"
      ],
      "metadata": {
        "id": "Jl_nD4WAROQP"
      }
    },
    {
      "cell_type": "markdown",
      "source": [
        "14. How is memory managed in Python? \n"
      ],
      "metadata": {
        "id": "emaYomxIRONc"
      }
    },
    {
      "cell_type": "markdown",
      "source": [
        "Memory management in Python is handled automatically by the Python interpreter through a combination of techniques"
      ],
      "metadata": {
        "id": "akdw0dTWROK4"
      }
    },
    {
      "cell_type": "markdown",
      "source": [
        "15. How to install Python on Windows and set path variables? 16. Is indentation required in python? \n"
      ],
      "metadata": {
        "id": "th4rTrn8ROIj"
      }
    },
    {
      "cell_type": "markdown",
      "source": [
        "To install Python on Windows and set the path variables, you can follow these steps:\n",
        "\n",
        "Visit the official Python website at python.org and go to the Downloads section.\n",
        "\n",
        "Choose the latest stable version of Python for Windows and download the installer appropriate for your system (32-bit or 64-bit).\n",
        "\n",
        "Run the downloaded installer and select the option to \"Install for all users\" if available. If not, choose \"Install only for me.\"\n",
        "\n",
        "In the installer, make sure to select the \"Add Python to PATH\" option. This will automatically set up the necessary environment variables for you.\n",
        "\n",
        "Choose the installation location for Python or use the default location. Click \"Install\" to begin the installation process.\n",
        "\n"
      ],
      "metadata": {
        "id": "xBUr3OR1UfP8"
      }
    },
    {
      "cell_type": "markdown",
      "source": [],
      "metadata": {
        "id": "YbxOpAjOUfMj"
      }
    }
  ]
}