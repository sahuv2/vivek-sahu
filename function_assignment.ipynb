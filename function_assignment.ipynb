{
  "nbformat": 4,
  "nbformat_minor": 0,
  "metadata": {
    "colab": {
      "provenance": []
    },
    "kernelspec": {
      "name": "python3",
      "display_name": "Python 3"
    },
    "language_info": {
      "name": "python"
    }
  },
  "cells": [
    {
      "cell_type": "markdown",
      "source": [
        "Q1. Which keyword is used to create a function? Create a function to return a list of odd numbers in the  range of 1 to 25. "
      ],
      "metadata": {
        "id": "PTwSMBkelA38"
      }
    },
    {
      "cell_type": "markdown",
      "source": [
        "A function type is keyword \"def\""
      ],
      "metadata": {
        "id": "HRWyZKdBlLnt"
      }
    },
    {
      "cell_type": "code",
      "source": [
        "def odd_number():\n",
        "  return[i for i in range(1,26) if i %2==1] \n",
        "    \n",
        "\n"
      ],
      "metadata": {
        "id": "LrvKTrzXlvPP"
      },
      "execution_count": null,
      "outputs": []
    },
    {
      "cell_type": "code",
      "source": [
        "print(odd_number())"
      ],
      "metadata": {
        "colab": {
          "base_uri": "https://localhost:8080/"
        },
        "id": "Ji21-9OnowLy",
        "outputId": "3a07884e-63b8-4d7a-8e17-f958c2d333cb"
      },
      "execution_count": null,
      "outputs": [
        {
          "output_type": "stream",
          "name": "stdout",
          "text": [
            "[1, 3, 5, 7, 9, 11, 13, 15, 17, 19, 21, 23, 25]\n"
          ]
        }
      ]
    },
    {
      "cell_type": "markdown",
      "source": [
        "Q2. Why *args and **kwargs is used in some functions? Create a function each for *args and **kwargs  to demonstrate their use. "
      ],
      "metadata": {
        "id": "5pKk1KpMrRe2"
      }
    },
    {
      "cell_type": "markdown",
      "source": [
        "The \"*args\" and \"**kwargs\" are used in Python functions when we want to pass a variable number of arguments to the function.\n",
        "\n"
      ],
      "metadata": {
        "id": "kUisu9XFsXZT"
      }
    },
    {
      "cell_type": "code",
      "source": [
        "def function(*args,a):\n",
        "  return args , a\n"
      ],
      "metadata": {
        "id": "3mgn3UUErYvr"
      },
      "execution_count": null,
      "outputs": []
    },
    {
      "cell_type": "code",
      "source": [
        "function(1,2,3, a = 4)"
      ],
      "metadata": {
        "colab": {
          "base_uri": "https://localhost:8080/"
        },
        "id": "sGk6dxe0rH0z",
        "outputId": "bf96762d-240e-40b2-96e0-dc0ea0d8efcc"
      },
      "execution_count": null,
      "outputs": [
        {
          "output_type": "execute_result",
          "data": {
            "text/plain": [
              "((1, 2, 3), 4)"
            ]
          },
          "metadata": {},
          "execution_count": 26
        }
      ]
    },
    {
      "cell_type": "code",
      "source": [
        "def function(**kwargs):\n",
        "  return kwargs"
      ],
      "metadata": {
        "id": "1JAvDUNZtr3s"
      },
      "execution_count": null,
      "outputs": []
    },
    {
      "cell_type": "code",
      "source": [
        "function(a=\"vivek\", b=[23,4,5,] , age = 23 , c= 234)"
      ],
      "metadata": {
        "colab": {
          "base_uri": "https://localhost:8080/"
        },
        "id": "AwNjojusuL5V",
        "outputId": "196c1c70-0fbb-4d58-c86f-7638ab0d90ee"
      },
      "execution_count": null,
      "outputs": [
        {
          "output_type": "execute_result",
          "data": {
            "text/plain": [
              "{'a': 'vivek', 'b': [23, 4, 5], 'age': 23, 'c': 234}"
            ]
          },
          "metadata": {},
          "execution_count": 28
        }
      ]
    },
    {
      "cell_type": "markdown",
      "source": [
        "Q3.  What is an iterator in python? Name the method used to initialise the iterator object and the method  used for iteration. Use these methods to print the first five elements of the given list [2, 4, 6, 8, 10, 12, 14,  16, 18, 20]. "
      ],
      "metadata": {
        "id": "BmbDkzDou5nc"
      }
    },
    {
      "cell_type": "markdown",
      "source": [
        "In python an iterate excess to element one by one \n",
        "Itrate protocol which reqires to '__iter__()' and '__next__()'"
      ],
      "metadata": {
        "id": "e5JZnEDqxgfP"
      }
    },
    {
      "cell_type": "markdown",
      "source": [
        "To initialize an iterator object, we can use the iter() method to the iteration\n",
        "\n",
        "\n"
      ],
      "metadata": {
        "id": "pI8HGwc_0Bdi"
      }
    },
    {
      "cell_type": "code",
      "source": [
        "list=[2,4,6,8,10,12,14,16,18,20]\n",
        "iterators =iter(list)\n",
        "for i in range(5):\n",
        "  print(next(iterators))\n"
      ],
      "metadata": {
        "id": "dXx-XiStvx1C",
        "colab": {
          "base_uri": "https://localhost:8080/"
        },
        "outputId": "67176707-59e4-4b94-e08d-556ae8e3e398"
      },
      "execution_count": null,
      "outputs": [
        {
          "output_type": "stream",
          "name": "stdout",
          "text": [
            "2\n",
            "4\n",
            "6\n",
            "8\n",
            "10\n"
          ]
        }
      ]
    },
    {
      "cell_type": "markdown",
      "source": [
        "Q4.  What is a generator function in python? Why yield keyword is used? Give an example of a generator  function. "
      ],
      "metadata": {
        "id": "xuq-Tlpd3Pow"
      }
    },
    {
      "cell_type": "markdown",
      "source": [
        "In Python, a generator function is a special type of function that can be used to create iterators in a more efficient and memory-friendly way.\n",
        "\n",
        "The yield keyword is used in generator functions to indicate the point at which the function should \"yield\" a value to the caller. "
      ],
      "metadata": {
        "id": "B3Im1_1yZSwC"
      }
    },
    {
      "cell_type": "code",
      "source": [
        "def even_number(limit):\n",
        "    for i in range(limit):\n",
        "        if i %2==0:\n",
        "           yield(i)"
      ],
      "metadata": {
        "id": "JkvPIbo-ZR8z"
      },
      "execution_count": 9,
      "outputs": []
    },
    {
      "cell_type": "markdown",
      "source": [
        "Q5. Create a generator function for prime numbers less than 1000. Use the next() method to print the  first 20 prime numbers. "
      ],
      "metadata": {
        "id": "IrdFys4QeUbg"
      }
    },
    {
      "cell_type": "code",
      "source": [
        "def prime_generator():\n",
        "   for num  in range(2,1000):\n",
        "      # if check in prime numbers\n",
        "      \n",
        "        for i in range(2,num):\n",
        "            if num % i ==0:\n",
        "               break\n",
        "        else:\n",
        "             yield(num)\n",
        "\n",
        "  \n"
      ],
      "metadata": {
        "id": "YQyZvTUcc-5x"
      },
      "execution_count": 21,
      "outputs": []
    },
    {
      "cell_type": "code",
      "source": [
        "prime_gen = prime_generator()\n",
        "for i in range(20):\n",
        "\n",
        "   print(next(prime_gen))\n"
      ],
      "metadata": {
        "colab": {
          "base_uri": "https://localhost:8080/"
        },
        "id": "vpcC_atPkGMj",
        "outputId": "aebc7152-2ce8-4df2-b4f7-e972a63edf68"
      },
      "execution_count": 22,
      "outputs": [
        {
          "output_type": "stream",
          "name": "stdout",
          "text": [
            "2\n",
            "3\n",
            "5\n",
            "7\n",
            "11\n",
            "13\n",
            "17\n",
            "19\n",
            "23\n",
            "29\n",
            "31\n",
            "37\n",
            "41\n",
            "43\n",
            "47\n",
            "53\n",
            "59\n",
            "61\n",
            "67\n",
            "71\n"
          ]
        }
      ]
    },
    {
      "cell_type": "markdown",
      "source": [
        "Q6. Write a python program to print the first 10 Fibonacci numbers using a while loop. "
      ],
      "metadata": {
        "id": "1ILc504emrJX"
      }
    },
    {
      "cell_type": "code",
      "source": [
        "a = 0\n",
        "b = 1\n",
        "count = 0 \n",
        "while count<10:\n",
        "  print(a)\n",
        "  c=a+b\n",
        "  a=b\n",
        "  b=c\n",
        "  count+=1\n"
      ],
      "metadata": {
        "colab": {
          "base_uri": "https://localhost:8080/"
        },
        "id": "07ub-Gt-kbRZ",
        "outputId": "9aed2a95-944d-47ac-9d7a-ac668d73622c"
      },
      "execution_count": 26,
      "outputs": [
        {
          "output_type": "stream",
          "name": "stdout",
          "text": [
            "0\n",
            "1\n",
            "1\n",
            "2\n",
            "3\n",
            "5\n",
            "8\n",
            "13\n",
            "21\n",
            "34\n"
          ]
        }
      ]
    },
    {
      "cell_type": "markdown",
      "source": [
        "Q7. Write a List Comprehension to iterate through the given string: ‘pwskills’. \n",
        "Expected output: ['p', 'w', 's', 'k', 'i', 'l', 'l', 's']  \n"
      ],
      "metadata": {
        "id": "0lWc64eGoxCk"
      }
    },
    {
      "cell_type": "code",
      "source": [
        "my_string = \"pwskills\"\n",
        "my_list = [i for i in my_string]\n",
        "print(my_list)\n"
      ],
      "metadata": {
        "colab": {
          "base_uri": "https://localhost:8080/"
        },
        "id": "xmTxRHe8s8hE",
        "outputId": "a8a76a6f-6181-4825-bf2a-586d9cca80a5"
      },
      "execution_count": 46,
      "outputs": [
        {
          "output_type": "stream",
          "name": "stdout",
          "text": [
            "['p', 'w', 's', 'k', 'i', 'l', 'l', 's']\n"
          ]
        }
      ]
    },
    {
      "cell_type": "code",
      "source": [],
      "metadata": {
        "id": "ehelglFBtLUU"
      },
      "execution_count": null,
      "outputs": []
    },
    {
      "cell_type": "markdown",
      "source": [
        "Q8. Write a python program to check whether a given number is Palindrome or not using a while loop. \n"
      ],
      "metadata": {
        "id": "JdYvnew0t7-D"
      }
    },
    {
      "cell_type": "code",
      "source": [
        "num = int(input(\"Enter a number: \"))\n",
        "temp = num\n",
        "reverse = 0\n",
        "\n",
        "while temp > 0:\n",
        "    digit = temp % 10\n",
        "    reverse = (reverse * 10) + digit\n",
        "    temp = temp // 10\n",
        "\n",
        "if num == reverse:\n",
        "    print(num, \"is a palindrome number\")\n",
        "else:\n",
        "    print(num, \"is not a palindrome number\")\n"
      ],
      "metadata": {
        "colab": {
          "base_uri": "https://localhost:8080/"
        },
        "id": "Dwu8TDUXuEQ8",
        "outputId": "e725715a-661a-4b43-8d8b-1dce9ba6e076"
      },
      "execution_count": 49,
      "outputs": [
        {
          "output_type": "stream",
          "name": "stdout",
          "text": [
            "Enter a number: 23\n",
            "23 is not a palindrome number\n"
          ]
        }
      ]
    },
    {
      "cell_type": "markdown",
      "source": [
        "Q9. Write a code to print odd numbers from 1 to 100 using list comprehension. \n",
        "Note: Use a list comprehension to create a list from 1 to 100 and use another List comprehension to filter  out odd numbers. \n"
      ],
      "metadata": {
        "id": "oZcxI9yowD6c"
      }
    },
    {
      "cell_type": "code",
      "source": [
        "odd_number = [i for i in range(1,101)   if i %2 !=0]\n",
        "print(odd_number)"
      ],
      "metadata": {
        "colab": {
          "base_uri": "https://localhost:8080/"
        },
        "id": "yl9POalyw-Zc",
        "outputId": "67f4478f-7712-4aae-de4a-acdc985e7d39"
      },
      "execution_count": 57,
      "outputs": [
        {
          "output_type": "stream",
          "name": "stdout",
          "text": [
            "[1, 3, 5, 7, 9, 11, 13, 15, 17, 19, 21, 23, 25, 27, 29, 31, 33, 35, 37, 39, 41, 43, 45, 47, 49, 51, 53, 55, 57, 59, 61, 63, 65, 67, 69, 71, 73, 75, 77, 79, 81, 83, 85, 87, 89, 91, 93, 95, 97, 99]\n"
          ]
        }
      ]
    }
  ]
}