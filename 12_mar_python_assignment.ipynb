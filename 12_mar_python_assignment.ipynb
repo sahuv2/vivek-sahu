{
  "nbformat": 4,
  "nbformat_minor": 0,
  "metadata": {
    "colab": {
      "provenance": []
    },
    "kernelspec": {
      "name": "python3",
      "display_name": "Python 3"
    },
    "language_info": {
      "name": "python"
    }
  },
  "cells": [
    {
      "cell_type": "markdown",
      "source": [
        "# Q1. Calculate the 95% confidence interval for a sample of data with a mean of 50 and a standard deviation  of 5 using Python. Interpret the results."
      ],
      "metadata": {
        "id": "wzEOgagrfIJo"
      }
    },
    {
      "cell_type": "code",
      "source": [
        "import scipy.stats as stats\n",
        "\n",
        "sample_mean = 50\n",
        "sample_std = 5\n",
        "confidence_level = 0.95\n",
        "sample_size = 100\n",
        "\n",
        "margin_of_error = stats.t.ppf((1 + confidence_level) / 2, df=sample_size-1) * (sample_std / (sample_size ** 0.5))\n",
        "\n",
        "lower_bound = sample_mean - margin_of_error\n",
        "upper_bound = sample_mean + margin_of_error\n",
        "\n",
        "print(\"95% Confidence Interval: [{:.2f}, {:.2f}]\".format(lower_bound, upper_bound))\n"
      ],
      "metadata": {
        "colab": {
          "base_uri": "https://localhost:8080/"
        },
        "id": "BoFHZm4PfeVL",
        "outputId": "a456b19e-79bc-42ea-d783-e35b83131bff"
      },
      "execution_count": 1,
      "outputs": [
        {
          "output_type": "stream",
          "name": "stdout",
          "text": [
            "95% Confidence Interval: [49.01, 50.99]\n"
          ]
        }
      ]
    },
    {
      "cell_type": "markdown",
      "source": [
        "## Q2. Conduct a chi-square goodness of fit test to determine if the distribution of colors of M&Ms in a bag  matches the expected distribution of 20% blue, 20% orange, 20% green, 10% yellow, 10% red, and 20%  brown. Use Python to perform the test with a significance level of 0.05.\n"
      ],
      "metadata": {
        "id": "y3ykF_PPfIGR"
      }
    },
    {
      "cell_type": "code",
      "source": [
        "import scipy.stats as stats\n",
        "import numpy as np\n",
        "\n",
        "\n",
        "observed_freq = np.array([35, 43, 16, 8, 12, 26])\n",
        "\n",
        "\n",
        "expected_freq = np.array([0.2, 0.2, 0.2, 0.1, 0.1, 0.2]) * sum(observed_freq)\n",
        "\n",
        "chi2_stat, p_value = stats.chisquare(f_obs=observed_freq, f_exp=expected_freq)\n",
        "\n",
        "\n",
        "print(\"Chi-square statistic:\", chi2_stat)\n",
        "print(\"p-value:\", p_value)\n"
      ],
      "metadata": {
        "colab": {
          "base_uri": "https://localhost:8080/"
        },
        "id": "VwQbpWz8gRxs",
        "outputId": "7ac5a4cd-9108-4caf-debc-ef7750923eb9"
      },
      "execution_count": 2,
      "outputs": [
        {
          "output_type": "stream",
          "name": "stdout",
          "text": [
            "Chi-square statistic: 17.92857142857143\n",
            "p-value: 0.0030372695006541444\n"
          ]
        }
      ]
    },
    {
      "cell_type": "markdown",
      "source": [
        "# Q3. Use Python to calculate the chi-square statistic and p-value for a contingency table with the following  data:\n",
        "\n",
        "Group A\n",
        "\n",
        "Group B\n",
        "\n",
        "Outcome 1 20 15\n",
        "\n",
        "Outcome 2 10 25\n",
        "\n",
        "Outcome 3 15 20\n",
        "\n",
        "Interpret the results of the test.\n"
      ],
      "metadata": {
        "id": "ZCPqSfCofIDk"
      }
    },
    {
      "cell_type": "code",
      "source": [
        "import numpy as np\n",
        "from scipy.stats import chi2_contingency\n",
        "\n",
        "# Create the contingency table\n",
        "observed = np.array([[20, 15], [10, 25], [15, 20]])\n",
        "\n",
        "# Perform the chi-square test\n",
        "chi2, p, _, _ = chi2_contingency(observed)\n",
        "\n",
        "# Print the results\n",
        "print(\"Chi-square statistic:\", chi2)\n",
        "print(\"p-value:\", p)\n"
      ],
      "metadata": {
        "colab": {
          "base_uri": "https://localhost:8080/"
        },
        "id": "0fK1FJxhjBo6",
        "outputId": "1d015d94-a26e-439b-e9b5-02780f6de2ea"
      },
      "execution_count": 3,
      "outputs": [
        {
          "output_type": "stream",
          "name": "stdout",
          "text": [
            "Chi-square statistic: 5.833333333333334\n",
            "p-value: 0.05411376622282158\n"
          ]
        }
      ]
    },
    {
      "cell_type": "markdown",
      "source": [
        "# Q4. A study of the prevalence of smoking in a population of 500 individuals found that 60 individuals  smoked. Use Python to calculate the 95% confidence interval for the true proportion of individuals in the  population who smoke.\n"
      ],
      "metadata": {
        "id": "c8Qpi_qSfIAi"
      }
    },
    {
      "cell_type": "code",
      "source": [
        "import scipy.stats as stats\n",
        "import math\n",
        "\n",
        "sample_size = 500\n",
        "smokers = 60\n",
        "confidence_level = 0.95\n",
        "\n",
        "p_hat = smokers / sample_size\n",
        "\n",
        "standard_error = math.sqrt((p_hat * (1 - p_hat)) / sample_size)\n",
        "\n",
        "z_value = stats.norm.ppf(1 - (1 - confidence_level) / 2)\n",
        "\n",
        "margin_of_error = z_value * standard_error\n",
        "\n",
        "lower_bound = p_hat - margin_of_error\n",
        "upper_bound = p_hat + margin_of_error\n",
        "\n",
        "print(f\"The 95% confidence interval for the true proportion of smokers is: ({lower_bound:.4f}, {upper_bound:.4f})\")\n"
      ],
      "metadata": {
        "colab": {
          "base_uri": "https://localhost:8080/"
        },
        "id": "ld1Hr503jMO_",
        "outputId": "14215617-9e04-4cd5-992c-adb5be7786d9"
      },
      "execution_count": 4,
      "outputs": [
        {
          "output_type": "stream",
          "name": "stdout",
          "text": [
            "The 95% confidence interval for the true proportion of smokers is: (0.0915, 0.1485)\n"
          ]
        }
      ]
    },
    {
      "cell_type": "markdown",
      "source": [
        "# Q5. Calculate the 90% confidence interval for a sample of data with a mean of 75 and a standard deviation  of 12 using Python. Interpret the results.\n"
      ],
      "metadata": {
        "id": "L6L8fpkafH9k"
      }
    },
    {
      "cell_type": "code",
      "source": [
        "import scipy.stats as stats\n",
        "\n",
        "mean = 75\n",
        "std_dev = 12\n",
        "sample_size = 100\n",
        "\n",
        "confidence_level = 0.9\n",
        "alpha = 1 - confidence_level\n",
        "\n",
        "standard_error = std_dev / (sample_size ** 0.5)\n",
        "\n",
        "margin_of_error = stats.t.ppf(1 - alpha / 2, sample_size - 1) * standard_error\n",
        "\n",
        "lower_bound = mean - margin_of_error\n",
        "upper_bound = mean + margin_of_error\n",
        "\n",
        "print(\"The 90% confidence interval is: [{:.2f}, {:.2f}]\".format(lower_bound, upper_bound))\n"
      ],
      "metadata": {
        "colab": {
          "base_uri": "https://localhost:8080/"
        },
        "id": "d4-ZEIx2jsD1",
        "outputId": "ca2d29e6-6786-431a-e0dd-76a01aeb68e8"
      },
      "execution_count": 5,
      "outputs": [
        {
          "output_type": "stream",
          "name": "stdout",
          "text": [
            "The 90% confidence interval is: [73.01, 76.99]\n"
          ]
        }
      ]
    },
    {
      "cell_type": "markdown",
      "source": [
        "# Q6. Use Python to plot the chi-square distribution with 10 degrees of freedom. Label the axes and shade the  area corresponding to a chi-square statistic of 15.\n"
      ],
      "metadata": {
        "id": "7fRsnM62fH6h"
      }
    },
    {
      "cell_type": "code",
      "source": [
        "import numpy as np\n",
        "import matplotlib.pyplot as plt\n",
        "import scipy.stats as stats\n",
        "\n",
        "df = 10\n",
        "\n",
        "x = np.linspace(0, 30, 500)\n",
        "\n",
        "pdf = stats.chi2.pdf(x, df)\n",
        "\n",
        "plt.plot(x, pdf, label='Chi-square (10 degrees of freedom)')\n",
        "\n",
        "x_shade = np.linspace(15, 30, 500)\n",
        "pdf_shade = stats.chi2.pdf(x_shade, df)\n",
        "plt.fill_between(x_shade, pdf_shade, color='gray', alpha=0.3, label='Chi-square statistic of 15')\n",
        "\n",
        "plt.xlabel('X')\n",
        "plt.ylabel('Probability Density')\n",
        "\n",
        "plt.legend()\n",
        "\n",
        "plt.show()\n"
      ],
      "metadata": {
        "colab": {
          "base_uri": "https://localhost:8080/",
          "height": 449
        },
        "id": "bk2P8Shwj2gT",
        "outputId": "c16e9443-2d4f-4f2a-867f-4ca96cf4d5ef"
      },
      "execution_count": 6,
      "outputs": [
        {
          "output_type": "display_data",
          "data": {
            "text/plain": [
              "<Figure size 640x480 with 1 Axes>"
            ],
            "image/png": "[encoded data removed]"
          },
          "metadata": {}
        }
      ]
    },
    {
      "cell_type": "markdown",
      "source": [
        "# Q7. A random sample of 1000 people was asked if they preferred Coke or Pepsi. Of the sample, 520  preferred Coke. Calculate a 99% confidence interval for the true proportion of people in the population who  prefer Coke.\n"
      ],
      "metadata": {
        "id": "CwICU7JhfH3o"
      }
    },
    {
      "cell_type": "markdown",
      "source": [
        "Confidence Interval = p̂ ± z * √(p̂ * (1 - p̂) / n)\n",
        "\n",
        "Where:\n",
        "p̂ is the sample proportion (520/1000 = 0.52),\n",
        "z is the z-score corresponding to the desired confidence level (99% confidence level corresponds to a z-score of approximately 2.576),\n",
        "√ represents the square root,\n",
        "n is the sample size (1000).\n",
        "\n",
        "Let's substitute these values into the formula to calculate the confidence interval:\n",
        "\n",
        "Confidence Interval = 0.52 ± 2.576 * √(0.52 * (1 - 0.52) / 1000)\n",
        "\n",
        "Confidence Interval = 0.52 ± 2.576 * √(0.52 * 0.48 / 1000)\n",
        "\n",
        "Confidence Interval = 0.52 ± 2.576 * √(0.2496 / 1000)\n",
        "\n",
        "Confidence Interval = 0.52 ± 2.576 * √0.0002496\n",
        "\n",
        "Confidence Interval = 0.52 ± 2.576 * 0.0158096\n",
        "\n",
        "Confidence Interval = 0.52 ± 0.04075\n",
        "\n",
        "The lower bound of the confidence interval is 0.52 - 0.04075 = 0.47925, and the upper bound is 0.52 + 0.04075 = 0.56075.\n",
        "\n",
        "Therefore, the 99% confidence interval for the true proportion of people in the population who prefer Coke is approximately 0.47925 to 0.56075."
      ],
      "metadata": {
        "id": "84NVJ0sgfHwp"
      }
    },
    {
      "cell_type": "markdown",
      "source": [
        "# Q8. A researcher hypothesizes that a coin is biased towards tails. They flip the coin 100 times and observe  45 tails. Conduct a chi-square goodness of fit test to determine if the observed frequencies match the  expected frequencies of a fair coin. Use a significance level of 0.05.\n"
      ],
      "metadata": {
        "id": "QR6_fqUVfHtc"
      }
    },
    {
      "cell_type": "markdown",
      "source": [
        "\n",
        "The null hypothesis (H₀): The coin is fair and not biased towards tails.\n",
        "The alternative hypothesis (H₁): The coin is biased towards tails.\n",
        "\n",
        "\n",
        "\n",
        "\n",
        "χ² = Σ((Oᵢ - Eᵢ)² / Eᵢ)\n",
        "\n",
        "\n",
        "χ² = ((45 - 50)² / 50) + ((55 - 50)² / 50)\n",
        "\n",
        " the degrees of freedom in this case is 2 - 1 = 1.\n",
        " a significance level of 0.05 and 1 degree of freedom to be approximately 3.8415.\n",
        "\n",
        "\n",
        "χ² = ((45 - 50)² / 50) + ((55 - 50)² / 50) = 0.5 + 0.5 = 1\n",
        "\n",
        "Since the calculated test statistic (1) is less than the critical value (3.8415), we fail to reject the null hypothesis.\n"
      ],
      "metadata": {
        "id": "ougOBeUgfHqT"
      }
    },
    {
      "cell_type": "markdown",
      "source": [
        "# Q9. A study was conducted to determine if there is an association between smoking status (smoker or  non-smoker) and lung cancer diagnosis (yes or no). The results are shown in the contingency table below.  Conduct a chi-square test for independence to determine if there is a significant association between  smoking status and lung cancer diagnosis.\n",
        "\n",
        "Lung Cancer: Yes\n",
        "Lung Cancer: No\n",
        "\n",
        "Smoker 60 140 Non-smoker 30 170\n",
        "Use a significance level of 0.05.\n"
      ],
      "metadata": {
        "id": "BRsQG2EIfHnC"
      }
    },
    {
      "cell_type": "markdown",
      "source": [
        "\n",
        "H0: There is no association between smoking status and lung cancer diagnosis.\n",
        "H1: There is an association between smoking status and lung cancer diagnosis.\n",
        "\n",
        "\n",
        "Smoker | 60 | 140 |\n",
        "Non-smoker | 30 | 170 |\n",
        "\n",
        "\n",
        "Expected Frequency = (Row Total * Column Total) / Grand Total\n",
        "\n",
        "The row totals are:\n",
        "Smoker: 60 + 140 = 200\n",
        "Non-smoker: 30 + 170 = 200\n",
        "\n",
        "The column totals are:\n",
        "Lung Cancer: Yes: 60 + 30 = 90\n",
        "Lung Cancer: No: 140 + 170 = 310\n",
        "\n",
        "The grand total is: 200 + 200 = 400\n",
        "\n",
        "To calculate the expected frequencies:\n",
        "\n",
        "Expected Frequency for Smoker and Lung Cancer: Yes = (200 * 90) / 400 = 45\n",
        "Expected Frequency for Smoker and Lung Cancer: No = (200 * 310) / 400 = 155\n",
        "Expected Frequency for Non-smoker and Lung Cancer: Yes = (200 * 90) / 400 = 45\n",
        "Expected Frequency for Non-smoker and Lung Cancer: No = (200 * 310) / 400 = 155\n",
        "\n",
        "Smoker | 45 | 155 |\n",
        "Non-smoker | 45 | 155 |\n",
        "\n",
        "\n",
        "χ² = Σ [(Observed Frequency - Expected Frequency)² / Expected Frequency]\n",
        "\n",
        "\n",
        "χ² = [(60-45)² / 45] + [(140-155)² / 155] + [(30-45)² / 45] + [(170-155)² / 155]\n",
        "= [225/45] + [225/155] + [225/45] + [225/155]\n",
        "≈ 5 + 0.87 + 5 + 0.87\n",
        "≈ 11.74\n",
        "\n",
        "Step 6: Determine the degrees of freedom.\n",
        "\n",
        "The degrees of freedom for a chi-square test for independence are given by:\n",
        "df = (Number of rows - 1) * (Number of columns - 1)\n",
        "\n",
        "In this case, df = (2 - 1) * (2 - 1) = 1\n",
        "\n",
        "Step 7: Determine the critical value.\n",
        "\n",
        "To determine the critical value, we refer to the chi-square distribution table or use statistical software. With df = 1 and a significance level of 0.05, the critical value is approximately 3.84.\n",
        "\n",
        "\n",
        "The test statistic (χ² = 11.74) is greater than the critical value (3.84).\n",
        "\n",
        "Since the test statistic is greater than the critical value, we reject the null hypothesis (H0)."
      ],
      "metadata": {
        "id": "XWVvP6k1fHkD"
      }
    },
    {
      "cell_type": "markdown",
      "source": [
        "# Q10. A study was conducted to determine if the proportion of people who prefer milk chocolate, dark  chocolate, or white chocolate is different in the U.S. versus the U.K. A random sample of 500 people from  the U.S. and a random sample of 500 people from the U.K. were surveyed. The results are shown in the  contingency table below. Conduct a chi-square test for independence to determine if there is a significant  association between chocolate preference and country of origin.\n",
        "\n",
        "Milk Chocolate\n",
        "Dark Chocolate White Chocolate\n",
        "\n",
        "U.S. (n=500) 200 150 150 U.K. (n=500) 225 175 100\n",
        "Use a significance level of 0.01.\n"
      ],
      "metadata": {
        "id": "klzEFfowfHhR"
      }
    },
    {
      "cell_type": "markdown",
      "source": [
        "Null Hypothesis (H₀): There is no significant association between chocolate preference and country of origin.\n",
        "Alternative Hypothesis (H₁): There is a significant association between chocolate preference and country of origin.\n",
        "\n",
        "\n",
        "χ² = Σ [(Oᵢⱼ - Eᵢⱼ)² / Eᵢⱼ],\n",
        "\n",
        "\n",
        "\n",
        "\n",
        "\n",
        "Milk Chocolate Dark Chocolate White Chocolate\n",
        "\n",
        "U.S. (n=500) 200 (100) 150 (100) 150 (100) U.K. (n=500) 225 (100) 175 (100) 100 (100)\n",
        "\n",
        "\n",
        "χ² = [(200 - 100)² / 100] + [(150 - 100)² / 100] + [(150 - 100)² / 100] + [(225 - 100)² / 100] + [(175 - 100)² / 100] + [(100 - 100)² / 100]\n",
        "\n",
        "χ² = [100² / 100] + [50² / 100] + [50² / 100] + [125² / 100] + [75² / 100] + [0² / 100]\n",
        "\n",
        "χ² = 100 + 25 + 25 + 156.25 + 56.25 + 0\n",
        "\n",
        "χ² = 362.5\n",
        "\n",
        "Now, we need to determine the degrees of freedom (df) for the chi-square distribution. For a contingency table with r rows and c columns, df = (r - 1) * (c - 1).\n",
        "\n",
        "In this case, we have 3 rows and 2 columns, so df = (3 - 1) * (2 - 1) = 2.\n",
        "\n",
        "Using a significance level of 0.01 and df = 2, we can consult a chi-square distribution table or use statistical software to find the critical value.\n",
        "\n",
        "Assuming the critical value is χ²_critical, we compare it to our calculated chi-square test statistic. If χ² > χ²_critical, we reject the null hypothesis; otherwise, we fail to reject the null hypothesis.\n",
        "\n",
        "Please note that the critical value will depend on the significance level and degrees of freedom.\n",
        "\n",
        "After performing the appropriate calculations, if the calculated chi-square test statistic exceeds the critical value, we would reject the null hypothesis and conclude that there is a significant association between chocolate preference and country of origin.\n",
        "\n",
        "\n",
        "\n",
        "\n"
      ],
      "metadata": {
        "id": "b3JgEwwFfHeW"
      }
    },
    {
      "cell_type": "markdown",
      "source": [
        "# Q11. A random sample of 30 people was selected from a population with an unknown mean and standard  deviation. The sample mean was found to be 72 and the sample standard deviation was found to be 10.  Conduct a hypothesis test to determine if the population mean is significantly different from 70. Use a  significance level of 0.05.\n"
      ],
      "metadata": {
        "id": "icU4qppIpEGR"
      }
    },
    {
      "cell_type": "markdown",
      "source": [
        "\n",
        "H0: The population mean is equal to 70.\n",
        "H1: The population mean is not equal to 70.\n",
        "\n",
        "\n",
        "\n",
        "\n",
        "\n",
        "t = (sample mean - hypothesized mean) / (sample standard deviation / sqrt(sample size))\n",
        "\n",
        "Substituting the values given:\n",
        "sample mean = 72\n",
        "hypothesized mean = 70\n",
        "sample standard deviation = 10\n",
        "sample size = 30\n",
        "\n",
        "t = (72 - 70) / (10 / sqrt(30))\n",
        "t = 2 / (10 / sqrt(30))\n",
        "t = 2 * (sqrt(30) / 10)\n",
        "t ≈ 2.188\n",
        " α = 0.05, the critical value is approximately ±2.0\n",
        "\n",
        "In this case, the test statistic t ≈ 2.188 falls outside the range of ±2.045, which means it is beyond the critical values. Therefore, we reject the null hypothesis.\n",
        "\n",
        "\n",
        "\n",
        "\n",
        "\n"
      ],
      "metadata": {
        "id": "9A8Sjun-pbYF"
      }
    }
  ]
}