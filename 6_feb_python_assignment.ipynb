{
  "nbformat": 4,
  "nbformat_minor": 0,
  "metadata": {
    "colab": {
      "provenance": []
    },
    "kernelspec": {
      "name": "python3",
      "display_name": "Python 3"
    },
    "language_info": {
      "name": "python"
    }
  },
  "cells": [
    {
      "cell_type": "markdown",
      "source": [
        "Q1. Create a function which will take a list as an argument and return the product of all the numbers  after creating a flat list. \n",
        "Use the below-given list as an argument for your function. \n",
        "list1 = [1,2,3,4, [44,55,66, True], False, (34,56,78,89,34), {1,2,3,3,2,1}, {1:34, \"key2\": [55, 67, 78, 89], 4: (45,  22, 61, 34)}, [56, 'data science'], 'Machine Learning'] \n"
      ],
      "metadata": {
        "id": "mSi9jFP8w3xR"
      }
    },
    {
      "cell_type": "code",
      "execution_count": 2,
      "metadata": {
        "colab": {
          "base_uri": "https://localhost:8080/"
        },
        "id": "oZtviABmwwj9",
        "outputId": "1bb85cdd-7ee1-44b2-c69c-626df2f3e354"
      },
      "outputs": [
        {
          "output_type": "stream",
          "name": "stdout",
          "text": [
            "Product: 0\n"
          ]
        }
      ],
      "source": [
        "def calculate_product(lst):\n",
        "    flat_list = []\n",
        "    \n",
        "    # Function to flatten a nested list\n",
        "    def flatten_list(lst):\n",
        "        for item in lst:\n",
        "            if isinstance(item, list):\n",
        "                flatten_list(item)\n",
        "            else:\n",
        "                flat_list.append(item)\n",
        "    \n",
        "    flatten_list(lst)\n",
        "    \n",
        "    # Calculate the product of numbers in the flat list\n",
        "    product = 1\n",
        "    for item in flat_list:\n",
        "        if isinstance(item, (int, float)):\n",
        "            product *= item\n",
        "    \n",
        "    return product\n",
        "\n",
        "# Test the function with the given list\n",
        "list1 = [1, 2, 3, 4, [44, 55, 66, True], False, (34, 56, 78, 89, 34), {1, 2, 3, 3, 2, 1},\n",
        "         {1: 34, \"key2\": [55, 67, 78, 89], 4: (45, 22, 61, 34)}, [56, 'data science'], 'Machine Learning']\n",
        "\n",
        "result = calculate_product(list1)\n",
        "print(\"Product:\", result)\n"
      ]
    },
    {
      "cell_type": "markdown",
      "source": [
        "Q2. Write a python program for encrypting a message sent to you by your friend. The logic of encryption  should be such that, for a the output should be z. For b, the output should be y. For c, the output should  be x respectively. Also, the whitespace should be replaced with a dollar sign. Keep the punctuation  marks unchanged. \n",
        "Input Sentence: I want to become a Data Scientist. \n",
        "Encrypt the above input sentence using the program you just created. \n"
      ],
      "metadata": {
        "id": "EkOa_w7wzjfe"
      }
    },
    {
      "cell_type": "code",
      "source": [
        "def encrypt_message(message):\n",
        "    encrypted = \"\"\n",
        "    for char in message:\n",
        "        if char.isalpha():\n",
        "            if char.isupper():\n",
        "                encrypted += chr(155 - ord(char))  # Convert uppercase letters\n",
        "            else:\n",
        "                encrypted += chr(219 - ord(char))  # Convert lowercase letters\n",
        "        elif char.isspace():\n",
        "            encrypted += \"$\"  # Replace whitespace with a dollar sign\n",
        "        else:\n",
        "            encrypted += char  # Keep punctuation marks unchanged\n",
        "    return encrypted\n",
        "\n",
        "# Input sentence\n",
        "input_sentence = \"I want to become a Data Scientist.\"\n",
        "\n",
        "# Encrypt the input sentence\n",
        "encrypted_sentence = encrypt_message(input_sentence)\n",
        "\n",
        "# Print the encrypted sentence\n",
        "print(\"Encrypted Sentence:\", encrypted_sentence)\n"
      ],
      "metadata": {
        "colab": {
          "base_uri": "https://localhost:8080/"
        },
        "id": "Ayjds6OiyiX2",
        "outputId": "49f73a3f-aaa7-452c-ff6f-81e76988fe9c"
      },
      "execution_count": 5,
      "outputs": [
        {
          "output_type": "stream",
          "name": "stdout",
          "text": [
            "Encrypted Sentence: R$dzmg$gl$yvxlnv$z$Wzgz$Hxrvmgrhg.\n"
          ]
        }
      ]
    },
    {
      "cell_type": "code",
      "source": [],
      "metadata": {
        "id": "fekyb6oc0QLD"
      },
      "execution_count": null,
      "outputs": []
    }
  ]
}