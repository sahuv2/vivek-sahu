{
  "nbformat": 4,
  "nbformat_minor": 0,
  "metadata": {
    "colab": {
      "provenance": []
    },
    "kernelspec": {
      "name": "python3",
      "display_name": "Python 3"
    },
    "language_info": {
      "name": "python"
    }
  },
  "cells": [
    {
      "cell_type": "markdown",
      "source": [
        "\n",
        "Q1. Explain Class and Object with respect to Object-Oriented Programming. Give a suitable example.\n"
      ],
      "metadata": {
        "id": "sTzFgRdHXAtX"
      }
    },
    {
      "cell_type": "markdown",
      "source": [
        "class is a blue print or object will be real world intites an object of other hands in instance of class"
      ],
      "metadata": {
        "id": "AjwMpYFnXEBs"
      }
    },
    {
      "cell_type": "code",
      "execution_count": null,
      "metadata": {
        "id": "9Rr7LK5zWwpG"
      },
      "outputs": [],
      "source": [
        "class world:\n",
        "\n",
        "  def __init__(self , phone_number , passport , caller_id):\n",
        "      self.phone_number = phone_number\n",
        "      self.passport = passport\n",
        "      self.caller_id = caller_id\n",
        "\n",
        "  def return_student_performance(self):\n",
        "    return self.phone_number,passport,caller_id"
      ]
    },
    {
      "cell_type": "code",
      "source": [
        "vivek=world( 'phone_number' ,' passport ',' caller_id')"
      ],
      "metadata": {
        "id": "Fbc-yvR4ZRLh"
      },
      "execution_count": null,
      "outputs": []
    },
    {
      "cell_type": "markdown",
      "source": [
        " Q2. Name the four pillars of OOPs. \n"
      ],
      "metadata": {
        "id": "1aIhJrviaVo9"
      }
    },
    {
      "cell_type": "markdown",
      "source": [
        "four pillars of oops are given:\n",
        "1. polymorphism\n",
        "2. inheritance\n",
        "3. abstaction\n",
        "4. encapsulation\n"
      ],
      "metadata": {
        "id": "JogD5pgTaVig"
      }
    },
    {
      "cell_type": "markdown",
      "source": [
        "Q3. Explain why the __init__() function is used. Give a suitable example. \n"
      ],
      "metadata": {
        "id": "lgzDNlMageOs"
      }
    },
    {
      "cell_type": "markdown",
      "source": [
        "\n",
        "The __init__() function is a special method in Python classes that is automatically called when an object is created from that class. It is used to initialize the attributes or properties of the object."
      ],
      "metadata": {
        "id": "ypzUR6GmhGiq"
      }
    },
    {
      "cell_type": "code",
      "source": [
        "class world:\n",
        "\n",
        "  def __init__(self , phone_number , passport , caller_id):\n",
        "      self.phone_number = phone_number\n",
        "      self.passport = passport\n",
        "      self.caller_id = caller_id\n",
        "\n",
        "  def return_student_performance(self):\n",
        "    return self.phone_number,passport,caller_id"
      ],
      "metadata": {
        "id": "hSxwN6zkZ_Re"
      },
      "execution_count": 1,
      "outputs": []
    },
    {
      "cell_type": "markdown",
      "source": [
        "Q4. Why self is used in OOPs? \n"
      ],
      "metadata": {
        "id": "mciXwwF0Ckah"
      }
    },
    {
      "cell_type": "markdown",
      "source": [
        "In object-oriented programming (OOP), the \"self\" keyword refers to the instance of a class. It is a convention used in many programming languages, such as Python."
      ],
      "metadata": {
        "id": "8QMUr1-JDAAG"
      }
    },
    {
      "cell_type": "markdown",
      "source": [
        "Q5. What is inheritance? Give an example for each type of inheritance"
      ],
      "metadata": {
        "id": "G_YHpvfDDGzF"
      }
    },
    {
      "cell_type": "markdown",
      "source": [
        "inheritance , in the context of (oop) refers to ability of a clas of inhirit \n",
        "properties and behaviour from another class."
      ],
      "metadata": {
        "id": "jztk3Kj0DSNr"
      }
    },
    {
      "cell_type": "markdown",
      "source": [
        "there are different type of inheritance"
      ],
      "metadata": {
        "id": "cu6eValyGFsc"
      }
    },
    {
      "cell_type": "markdown",
      "source": [
        "1.Single Inheritance\n",
        "2.multiple inheritance\n",
        "3.multilevel inheritance\n",
        "4.hybrid inheritance\n",
        "5.Hierarchical Inheritance"
      ],
      "metadata": {
        "id": "uOATYFIwGFop"
      }
    },
    {
      "cell_type": "markdown",
      "source": [],
      "metadata": {
        "id": "RbhOfhHtGFl0"
      }
    },
    {
      "cell_type": "code",
      "source": [],
      "metadata": {
        "id": "fy5eIiovFQKr"
      },
      "execution_count": null,
      "outputs": []
    }
  ]
}