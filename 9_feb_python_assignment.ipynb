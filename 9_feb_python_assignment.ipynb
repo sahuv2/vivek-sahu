{
  "nbformat": 4,
  "nbformat_minor": 0,
  "metadata": {
    "colab": {
      "provenance": []
    },
    "kernelspec": {
      "name": "python3",
      "display_name": "Python 3"
    },
    "language_info": {
      "name": "python"
    }
  },
  "cells": [
    {
      "cell_type": "markdown",
      "source": [
        "Q1, Create a vehicle class with an init method having instance variables as name_of_vehicle, max_speed  and average_of_vehicle.  \n"
      ],
      "metadata": {
        "id": "euzybzsPD111"
      }
    },
    {
      "cell_type": "code",
      "execution_count": null,
      "metadata": {
        "id": "cacRvqS8DvYR"
      },
      "outputs": [],
      "source": [
        "class vehicle:\n",
        "  def __init__(self , name_of_vehicle , max_speed , avarge_of_vehicle):\n",
        "    self. name_of_vehicle = name_of_vehicle\n",
        "    self.max_speed =max_speed \n",
        "    self.avarge_of_vehicle = avarge_of_vehicle\n"
      ]
    },
    {
      "cell_type": "markdown",
      "source": [
        "Q2.  Create a child class car from the vehicle class created in Que 1, which will inherit the vehicle class.  Create a method named seating_capacity which takes capacity as an argument and returns the name of  the vehicle and its seating capacity."
      ],
      "metadata": {
        "id": "W3ZD6mVgFBmW"
      }
    },
    {
      "cell_type": "code",
      "source": [
        "class Vehicle:\n",
        "    def __init__(self, name, color):\n",
        "        self.name = name\n",
        "        self.color = color\n",
        "\n",
        "    def display_info(self):\n",
        "        print(f\"Name: {self.name}\")\n",
        "        print(f\"Color: {self.color}\")\n",
        "\n",
        "   \n",
        "\n",
        "class Car(Vehicle):\n",
        "    def seating_capacity(self, capacity):\n",
        "        return f\"{self.name} has a seating capacity of {capacity} people.\"\n",
        "\n",
        "\n",
        "\n",
        "my_car = Car(\"Toyota Corolla\", \"Red\")\n",
        "\n",
        "my_car.display_info()\n",
        "\n",
        "\n",
        "capacity = 5\n",
        "print(my_car.seating_capacity(capacity))\n"
      ],
      "metadata": {
        "colab": {
          "base_uri": "https://localhost:8080/"
        },
        "id": "2JxaYUeaKfdU",
        "outputId": "93678e9c-bd6e-4c8d-a0fa-d5eddf7220f9"
      },
      "execution_count": 8,
      "outputs": [
        {
          "output_type": "stream",
          "name": "stdout",
          "text": [
            "Name: Toyota Corolla\n",
            "Color: Red\n",
            "Toyota Corolla has a seating capacity of 5 people.\n"
          ]
        }
      ]
    },
    {
      "cell_type": "markdown",
      "source": [
        "Q3. What is multiple inheritance? Write a python code to demonstrate multiple inheritance. \n"
      ],
      "metadata": {
        "id": "1jU8YgwmcP2g"
      }
    },
    {
      "cell_type": "markdown",
      "source": [
        "Multiple inheritance is a feature in object-oriented programming languages that allows a class to inherit from multiple base classes"
      ],
      "metadata": {
        "id": "mgvDgdnfc1w0"
      }
    },
    {
      "cell_type": "code",
      "source": [
        "class parent1:\n",
        "  def test_parent1(self):\n",
        "    return\"this is the math class\"\n",
        "\n",
        "\n",
        "class parent2:\n",
        "  def test_parent2(self):\n",
        "    return\"hi i am jack\"\n",
        "\n",
        "class child(parent1 ,parent2):\n",
        "  def test_child(self):\n",
        "    return\"this is normally behaviour\"\n"
      ],
      "metadata": {
        "id": "GmaAdRgAL7yP"
      },
      "execution_count": null,
      "outputs": []
    },
    {
      "cell_type": "code",
      "source": [
        "object_child = child()"
      ],
      "metadata": {
        "id": "mppTKuDqdyY6"
      },
      "execution_count": null,
      "outputs": []
    },
    {
      "cell_type": "code",
      "source": [
        "object_child.test_parent1()"
      ],
      "metadata": {
        "colab": {
          "base_uri": "https://localhost:8080/",
          "height": 36
        },
        "id": "dQqmLNiweGE0",
        "outputId": "2cb86368-4db4-4719-dd37-822fbb306fd3"
      },
      "execution_count": null,
      "outputs": [
        {
          "output_type": "execute_result",
          "data": {
            "text/plain": [
              "'this is the math class'"
            ],
            "application/vnd.google.colaboratory.intrinsic+json": {
              "type": "string"
            }
          },
          "metadata": {},
          "execution_count": 12
        }
      ]
    },
    {
      "cell_type": "code",
      "source": [
        "object_child.test_parent2()"
      ],
      "metadata": {
        "colab": {
          "base_uri": "https://localhost:8080/",
          "height": 36
        },
        "id": "aRRn47JyeYJS",
        "outputId": "0a736859-9d0a-4860-8e1e-9d3859271a48"
      },
      "execution_count": null,
      "outputs": [
        {
          "output_type": "execute_result",
          "data": {
            "text/plain": [
              "'hi i am jack'"
            ],
            "application/vnd.google.colaboratory.intrinsic+json": {
              "type": "string"
            }
          },
          "metadata": {},
          "execution_count": 13
        }
      ]
    },
    {
      "cell_type": "markdown",
      "source": [
        "Q4. What are getter and setter in python? Create a class and create a getter and a setter method in this  class. \n"
      ],
      "metadata": {
        "id": "RbMUIVBLe7Qj"
      }
    },
    {
      "cell_type": "markdown",
      "source": [
        "In Python, getters and setters are methods used to access and modify the attributes (or properties) of a class"
      ],
      "metadata": {
        "id": "hW4lujdPmcec"
      }
    },
    {
      "cell_type": "code",
      "source": [
        "class  data_science():\n",
        "  def __init__(self , cource_price):\n",
        "    self.cource_price = cource_price\n",
        "\n",
        "\n",
        "  @property\n",
        "  def cource_price_acces(self):\n",
        "    return self.cource_price\n",
        "\n",
        "  @cource_price_acces.setter\n",
        "  def cource_price_set(self , price):\n",
        "    if price <=456:\n",
        "      pass\n",
        "    else:\n",
        "        self.cource_price = price\n",
        "\n",
        "  @cource_price_acces.getter\n",
        "  def cource_price_get(self):\n",
        "    self.cource_price = cource_price\n",
        "\n"
      ],
      "metadata": {
        "id": "z3u1dQqRe47v"
      },
      "execution_count": 9,
      "outputs": []
    },
    {
      "cell_type": "markdown",
      "source": [
        "Q5.What is method overriding in python? Write a python code to demonstrate method overriding. \n"
      ],
      "metadata": {
        "id": "E3u_XGa9rt1u"
      }
    },
    {
      "cell_type": "markdown",
      "source": [
        "Method overriding is a feature in object-oriented programming that allows a subclass to provide a different implementation of a method that is already defined in its superclass. "
      ],
      "metadata": {
        "id": "ed8DAAi4r1QG"
      }
    },
    {
      "cell_type": "code",
      "source": [
        "class Animal:\n",
        "    def speak(self):\n",
        "        print(\"Animal speaks!\")\n",
        "\n",
        "class Dog(Animal):\n",
        "    def speak(self):\n",
        "        print(\"Dog barks!\")\n",
        "\n",
        "class Cat(Animal):\n",
        "    def speak(self):\n",
        "        print(\"Cat meows!\")\n",
        "\n",
        "animal = Animal()\n",
        "dog = Dog()\n",
        "cat = Cat()\n",
        "\n",
        "animal.speak()  \n",
        "dog.speak()     \n",
        "cat.speak()     \n"
      ],
      "metadata": {
        "colab": {
          "base_uri": "https://localhost:8080/"
        },
        "id": "NPsIdHKqtQ80",
        "outputId": "598915b4-2158-4d87-8c7e-f4292db012aa"
      },
      "execution_count": 20,
      "outputs": [
        {
          "output_type": "stream",
          "name": "stdout",
          "text": [
            "Animal speaks!\n",
            "Dog barks!\n",
            "Cat meows!\n"
          ]
        }
      ]
    },
    {
      "cell_type": "code",
      "source": [],
      "metadata": {
        "id": "CCOKotq8tdt-"
      },
      "execution_count": null,
      "outputs": []
    }
  ]
}