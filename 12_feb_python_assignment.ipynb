{
  "nbformat": 4,
  "nbformat_minor": 0,
  "metadata": {
    "colab": {
      "provenance": []
    },
    "kernelspec": {
      "name": "python3",
      "display_name": "Python 3"
    },
    "language_info": {
      "name": "python"
    }
  },
  "cells": [
    {
      "cell_type": "markdown",
      "source": [
        "\n",
        "\n",
        "Q1. Wht is an Exception in python?\n",
        "\n",
        "\n",
        "\n",
        " Write the difference  between Exceptions and syntx errors.\n",
        "\n",
        "\n",
        "\n"
      ],
      "metadata": {
        "id": "iAo5LOGzQhka"
      }
    },
    {
      "cell_type": "markdown",
      "source": [
        "in Python, an exception object is created and the program's normal flow is interrupted. Exceptions can be caused by various factors, such as invalid input, file errors, network issues, or programming mistakes.\n",
        "\n",
        "Differences between exceptions and syntax errors:\n",
        "\n",
        "\n",
        "\n",
        "Types: Syntax errors are specific to invalid syntax and can include errors like missing colons, incorrect indentation.Exceptions, on the other hand, come in various types  exceptional condition such as ZeroDivisionError, FileNotFoundError, ValueError, etc.\n",
        "\n"
      ],
      "metadata": {
        "id": "8wHlSaRQR15f"
      }
    },
    {
      "cell_type": "code",
      "execution_count": null,
      "metadata": {
        "colab": {
          "base_uri": "https://localhost:8080/"
        },
        "id": "7NKOZAi6Qguw",
        "outputId": "6376f957-1cbc-4347-f586-b00a658dda57"
      },
      "outputs": [
        {
          "output_type": "stream",
          "name": "stdout",
          "text": [
            "cannot divided by zero\n"
          ]
        }
      ],
      "source": [
        "try:\n",
        "  a= 10/0\n",
        "\n",
        "except ZeroDivisionError:\n",
        "  print(\"cannot divided by zero\")"
      ]
    },
    {
      "cell_type": "markdown",
      "source": [
        "Q2. What happens when an exception is not handled? Explin with an exmple. \n"
      ],
      "metadata": {
        "id": "vctWEET-ToDG"
      }
    },
    {
      "cell_type": "markdown",
      "source": [
        "When an exception is not handled, it results in an error that terminates the normal flow of a program. This error is known as an \"unhandled exception"
      ],
      "metadata": {
        "id": "j-KCQoAYUh0c"
      }
    },
    {
      "cell_type": "code",
      "source": [
        "try:\n",
        "  a = 12/0\n",
        "\n",
        "except ZeroDivisionError:\n",
        "  print(\"zero cannot divide\")"
      ],
      "metadata": {
        "colab": {
          "base_uri": "https://localhost:8080/"
        },
        "id": "6pj0P42bTSdM",
        "outputId": "de170588-9cd5-4d79-839a-f16b0f512e87"
      },
      "execution_count": null,
      "outputs": [
        {
          "output_type": "stream",
          "name": "stdout",
          "text": [
            "zero cannot divide\n"
          ]
        }
      ]
    },
    {
      "cell_type": "markdown",
      "source": [
        "\n",
        "Q3.which python statement are used to handle exceptions? Explin with an exmple  "
      ],
      "metadata": {
        "id": "BFP79b_SVYcr"
      }
    },
    {
      "cell_type": "markdown",
      "source": [
        "In Python, exception handling is done using try-except statements"
      ],
      "metadata": {
        "id": "9rBeDHXjWpxl"
      }
    },
    {
      "cell_type": "code",
      "source": [
        "try:\n",
        "    num1 = int(input(\"Enter the numerator: \"))\n",
        "    num2 = int(input(\"Enter the denominator: \"))\n",
        "    result = num1 / num2\n",
        "    print(\"Result\" ,result)\n",
        "except ValueError:\n",
        "    print(\"Invalid input. Please enter valid integers.\")\n",
        "except ZeroDivisionError:\n",
        "    print(\"Error: Division by zero is not allowed.\")\n"
      ],
      "metadata": {
        "colab": {
          "base_uri": "https://localhost:8080/"
        },
        "id": "yzPOFLSbVHcj",
        "outputId": "6b84f13a-3cea-42b2-c388-9726b3b0a5cf"
      },
      "execution_count": 9,
      "outputs": [
        {
          "output_type": "stream",
          "name": "stdout",
          "text": [
            "Enter the numerator: 67\n",
            "Enter the denominator: 68\n",
            "Result 0.9852941176470589\n"
          ]
        }
      ]
    },
    {
      "cell_type": "markdown",
      "source": [
        "\n",
        "Q4. Explain with an example:\n",
        "   #try and else# \n",
        "   finally.\n",
        "\n",
        "\n"
      ],
      "metadata": {
        "id": "nMWSvE7zYPsj"
      }
    },
    {
      "cell_type": "code",
      "source": [
        "try :\n",
        "  f = open(\"test.txt\" , \"w\")\n",
        "  f.write(\"this will be execute of try \")\n",
        "  \n",
        "\n",
        "except Exception as e:\n",
        "  print(\"this will be except of exception of writable\" , e)\n",
        "\n",
        "else:\n",
        "  f.close()\n",
        "  print(\"this will be else execute\")\n",
        "\n",
        "finally:\n",
        "  print(\"this is a finally block\")"
      ],
      "metadata": {
        "colab": {
          "base_uri": "https://localhost:8080/"
        },
        "id": "AiD0O8_5FHBc",
        "outputId": "33008259-0125-45b0-d844-f6f64498f6f3"
      },
      "execution_count": 10,
      "outputs": [
        {
          "output_type": "stream",
          "name": "stdout",
          "text": [
            "this will be else execute\n",
            "this is a finally block\n"
          ]
        }
      ]
    },
    {
      "cell_type": "markdown",
      "source": [
        "Q5. What are Custom Exceptions in \n",
        "python? Why\n",
        " do we need Custom Exceptions? Explain with an example"
      ],
      "metadata": {
        "id": "_Ki-z9GRZoMj"
      }
    },
    {
      "cell_type": "markdown",
      "source": [
        "In Python, custom exceptions allow you to create your own exception classes  or conditions in your code. Custom exceptions inherit from the base Exception class or any of its subclasses\n",
        "\n",
        "We need custom exceptions in Python to handle exceptional cases that are specific to our program or application."
      ],
      "metadata": {
        "id": "LbSif4-LaQhd"
      }
    },
    {
      "cell_type": "code",
      "source": [
        "age = int(input(\"enter your age\"))"
      ],
      "metadata": {
        "colab": {
          "base_uri": "https://localhost:8080/"
        },
        "id": "2S0eIRQsZmVg",
        "outputId": "bdcfaf6b-a1ae-441c-ebaa-ec6773f9fee3"
      },
      "execution_count": 11,
      "outputs": [
        {
          "name": "stdout",
          "output_type": "stream",
          "text": [
            "enter your age23\n"
          ]
        }
      ]
    },
    {
      "cell_type": "code",
      "source": [
        "class validage(Exception):\n",
        "  def __init__(self, msg):\n",
        "    self.msg = msg\n"
      ],
      "metadata": {
        "id": "VIOJH2bCn9qm"
      },
      "execution_count": 12,
      "outputs": []
    },
    {
      "cell_type": "code",
      "source": [
        "def validage(age):\n",
        "  if age< 0 :\n",
        "    raise validage(\"less than age not defined\")\n",
        "\n",
        "  elif age > 100:\n",
        "    raise validage(\"age is very high\")\n",
        "\n",
        "  else:\n",
        "    print(\"valid age\")"
      ],
      "metadata": {
        "id": "G-msizUyogtq"
      },
      "execution_count": 13,
      "outputs": []
    },
    {
      "cell_type": "code",
      "source": [
        "try:\n",
        "\n",
        "  age = int(input(\"enter your age\"))\n",
        "  validage(age)\n",
        "\n",
        "except validage as e:\n",
        "  print(e)"
      ],
      "metadata": {
        "colab": {
          "base_uri": "https://localhost:8080/"
        },
        "id": "zNLQhnRrauoC",
        "outputId": "91889a10-39d8-4b48-f71a-b209c3aa41d3"
      },
      "execution_count": 14,
      "outputs": [
        {
          "output_type": "stream",
          "name": "stdout",
          "text": [
            "enter your age23\n",
            "valid age\n"
          ]
        }
      ]
    },
    {
      "cell_type": "markdown",
      "source": [
        "Q6. Create  custom exception , less. Use this , less to handle an exception. \n"
      ],
      "metadata": {
        "id": "3VSBHO6rbGhd"
      }
    },
    {
      "cell_type": "code",
      "source": [
        "class CustomException(Exception):\n",
        "    def __init__(self, message):\n",
        "        self.message = message\n",
        "        \n",
        "\n",
        "def divide_numbers(a, b):\n",
        "    if b == 0:\n",
        "        raise CustomException(\"Cannot divide by zero\")\n",
        "    return a / b\n",
        "\n",
        "try:\n",
        "    result = divide_numbers(10, 0)\n",
        "    print(\"Result:\", result)\n",
        "except CustomException as e:\n",
        "    print(\"Caught custom exception:\", e.message)\n"
      ],
      "metadata": {
        "colab": {
          "base_uri": "https://localhost:8080/"
        },
        "id": "GFFr-vAEa06q",
        "outputId": "87d17cd6-b073-4ebb-8c79-1a0157108b42"
      },
      "execution_count": 15,
      "outputs": [
        {
          "output_type": "stream",
          "name": "stdout",
          "text": [
            "Caught custom exception: Cannot divide by zero\n"
          ]
        }
      ]
    },
    {
      "cell_type": "code",
      "source": [],
      "metadata": {
        "id": "ASXVH8AJcMHw"
      },
      "execution_count": null,
      "outputs": []
    }
  ]
}