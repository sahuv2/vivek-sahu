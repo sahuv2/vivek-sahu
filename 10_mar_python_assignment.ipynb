{
  "nbformat": 4,
  "nbformat_minor": 0,
  "metadata": {
    "colab": {
      "provenance": []
    },
    "kernelspec": {
      "name": "python3",
      "display_name": "Python 3"
    },
    "language_info": {
      "name": "python"
    }
  },
  "cells": [
    {
      "cell_type": "markdown",
      "source": [
        "## Q1: What is Estimation Statistics? Explain point estimate and interval estimate.\n"
      ],
      "metadata": {
        "id": "9D-cDWuQKi3z"
      }
    },
    {
      "cell_type": "markdown",
      "source": [
        "It is an observed numerical value used to estimate an unknown population parameter.\n",
        "\n",
        "1.point estimate : single numerical value used to estimate an unknown population parameter.\n",
        "\n",
        "2.Interval estimate : range of value used to estimate an unknown population parameter."
      ],
      "metadata": {
        "id": "kbxqfa5nKiye"
      }
    },
    {
      "cell_type": "markdown",
      "source": [
        "# Q2. Write a Python function to estimate the population mean using a sample mean and standard  deviation.\n"
      ],
      "metadata": {
        "id": "ktRm86bfKivc"
      }
    },
    {
      "cell_type": "code",
      "source": [
        "def estimate_population_mean(sample_mean, sample_std_dev, sample_size):\n",
        "    import math\n",
        "\n",
        "    # Calculate the standard error\n",
        "    std_error = sample_std_dev / math.sqrt(sample_size)\n",
        "\n",
        "    # Calculate the estimated population mean\n",
        "    population_mean = sample_mean * math.sqrt(sample_size) + std_error\n",
        "\n",
        "    return population_mean\n"
      ],
      "metadata": {
        "id": "UTZXv544Mq60"
      },
      "execution_count": null,
      "outputs": []
    },
    {
      "cell_type": "code",
      "source": [
        "sample_mean = 50.0\n",
        "sample_std_dev = 5.0\n",
        "sample_size = 100\n",
        "\n",
        "estimated_mean = estimate_population_mean(sample_mean, sample_std_dev, sample_size)\n",
        "print(\"Estimated Population Mean:\", estimated_mean)\n"
      ],
      "metadata": {
        "colab": {
          "base_uri": "https://localhost:8080/"
        },
        "id": "Pu1LXHTeMv8a",
        "outputId": "9dadb3df-f5ec-49bf-f3b7-3dc090e44131"
      },
      "execution_count": null,
      "outputs": [
        {
          "output_type": "stream",
          "name": "stdout",
          "text": [
            "Estimated Population Mean: 500.5\n"
          ]
        }
      ]
    },
    {
      "cell_type": "markdown",
      "source": [
        "# Q3: What is Hypothesis testing? Why is it used? State the importance of Hypothesis testing.\n"
      ],
      "metadata": {
        "id": "icS6nGjvKisc"
      }
    },
    {
      "cell_type": "markdown",
      "source": [
        "1. null hypothesis (h0) - The assumption you are beginig with\n",
        "2. alternate hypothesis (h1) - opposite of null hypothesis\n",
        "\n",
        "3. experiment - proof collect(ex: dna_test , finger_prints)\n",
        "\n",
        "4. accepet the null hypothesis reject the null hypothesis\n",
        "\n",
        "Hypothesis testing is used in various fields, including scientific research, business, medicine, social sciences"
      ],
      "metadata": {
        "id": "BVXRFkf4Kipd"
      }
    },
    {
      "cell_type": "markdown",
      "source": [
        "# Q4. Create a hypothesis that states whether the average weight of male college students is greater than  the average weight of female college students."
      ],
      "metadata": {
        "id": "JTbWGllqKims"
      }
    },
    {
      "cell_type": "markdown",
      "source": [
        "Hypothesis: The average weight of male college students is greater than the average weight of female college students.\n",
        "\n",
        "Null hypothesis (H0): There is no significant difference in the average weight between male and female college students.\n",
        "Alternative hypothesis (H1): The average weight of male college students is greater than the average weight of female college students."
      ],
      "metadata": {
        "id": "2hbDV5UpKijt"
      }
    },
    {
      "cell_type": "markdown",
      "source": [
        "# Q5. Write a Python script to conduct a hypothesis test on the difference between two population means,  given a sample from each population."
      ],
      "metadata": {
        "id": "R48K3F7QKidd"
      }
    },
    {
      "cell_type": "code",
      "source": [
        "import numpy as np\n",
        "from scipy import stats\n",
        "\n",
        "# Define the two samples\n",
        "sample1 = [1, 2, 3, 4, 5]  # Sample from population 1\n",
        "sample2 = [6, 7, 8, 9, 10]  # Sample from population 2\n",
        "\n",
        "# Set the significance level (alpha)\n",
        "alpha = 0.05\n",
        "\n",
        "# Perform the t-test\n",
        "t_statistic, p_value = stats.ttest_ind(sample1, sample2)\n",
        "\n",
        "# Print the results\n",
        "print(\"T-Statistic:\", t_statistic)\n",
        "print(\"P-Value:\", p_value)\n",
        "\n",
        "# Compare p-value to alpha to make a decision\n",
        "if p_value < alpha:\n",
        "    print(\"Reject the null hypothesis. There is a significant difference between the population means.\")\n",
        "else:\n",
        "    print(\"Fail to reject the null hypothesis. There is no significant difference between the population means.\")\n"
      ],
      "metadata": {
        "colab": {
          "base_uri": "https://localhost:8080/"
        },
        "id": "baxfyEHcPhWQ",
        "outputId": "32886ece-da24-45ca-b599-e78d70953786"
      },
      "execution_count": null,
      "outputs": [
        {
          "output_type": "stream",
          "name": "stdout",
          "text": [
            "T-Statistic: -5.0\n",
            "P-Value: 0.001052825793366539\n",
            "Reject the null hypothesis. There is a significant difference between the population means.\n"
          ]
        }
      ]
    },
    {
      "cell_type": "markdown",
      "source": [
        "# Q6: What is a null and alternative hypothesis? Give some examples."
      ],
      "metadata": {
        "id": "TWZeMbG0KibH"
      }
    },
    {
      "cell_type": "markdown",
      "source": [
        "1.null hypothesis (h0) - The assumption you are beginig with\n",
        "\n",
        "  Ex: the person is guilty.\n",
        "\n",
        "2.alternate hypothesis (h1) - opposite of null hypothesis\n",
        "\n",
        " Ex: the person is not gulity."
      ],
      "metadata": {
        "id": "VoSe9m6tKiXl"
      }
    },
    {
      "cell_type": "markdown",
      "source": [
        "# Q7: Write down the steps involved in hypothesis testing.\n"
      ],
      "metadata": {
        "id": "H61HbXrIKiU2"
      }
    },
    {
      "cell_type": "markdown",
      "source": [
        "State the null hypothesis (H0) and the alternative hypothesis (Ha): The null hypothesis is the default assumption, usually stating that there is no significant difference or relationship between variables.\n",
        "\n",
        "Set the significance level (α): The significance level, denoted as α, represents the probability of rejecting the null hypothesis"
      ],
      "metadata": {
        "id": "EuKj03OMKiPm"
      }
    },
    {
      "cell_type": "markdown",
      "source": [
        "## Q8. Define p-value and explain its significance in hypothesis testing"
      ],
      "metadata": {
        "id": "dYro2bZ6KiM0"
      }
    },
    {
      "cell_type": "markdown",
      "source": [
        "\n",
        "The null hypothesis (H0) is a statement of no effect or no relationship between variables, while the alternative hypothesis (Ha) states the presence of an effect or a relationship.\n",
        "\n",
        "The significance level (α) is chosen by the researcher before conducting the hypothesis test and represents the maximum probability of mistakenly rejecting the null hypothesis when it is true"
      ],
      "metadata": {
        "id": "S2NdCyfrNf0z"
      }
    },
    {
      "cell_type": "markdown",
      "source": [
        "# Q9. Generate a Student's t-distribution plot using Python's matplotlib library, with the degrees of freedom  parameter set to 10.\n"
      ],
      "metadata": {
        "id": "MjbY12jxNfx5"
      }
    },
    {
      "cell_type": "code",
      "source": [
        "import numpy as np\n",
        "import matplotlib.pyplot as plt\n",
        "from scipy.stats import t\n",
        "\n",
        "# Set the degrees of freedom\n",
        "df = 10\n",
        "\n",
        "# Generate x values\n",
        "x = np.linspace(-4, 4, 500)\n",
        "\n",
        "# Compute the corresponding y values from the t-distribution\n",
        "y = t.pdf(x, df)\n",
        "\n",
        "# Create the plot\n",
        "plt.plot(x, y, label=f\"Degrees of Freedom = {df}\")\n",
        "plt.title(\"Student's t-Distribution\")\n",
        "plt.xlabel(\"x\")\n",
        "plt.ylabel(\"Probability Density\")\n",
        "plt.legend()\n",
        "\n",
        "# Show the plot\n",
        "plt.show()\n"
      ],
      "metadata": {
        "colab": {
          "base_uri": "https://localhost:8080/",
          "height": 472
        },
        "id": "PsQ36XxpOPvm",
        "outputId": "690de76a-713b-4a88-bd99-d70b4274a4e6"
      },
      "execution_count": null,
      "outputs": [
        {
          "output_type": "display_data",
          "data": {
            "text/plain": [
              "<Figure size 640x480 with 1 Axes>"
            ],
            "image/png": "[encoded data removed]"
          },
          "metadata": {}
        }
      ]
    },
    {
      "cell_type": "markdown",
      "source": [
        "# Q10. Write a Python program to calculate the two-sample t-test for independent samples, given two  random samples of equal size and a null hypothesis that the population means are equal.\n"
      ],
      "metadata": {
        "id": "PKRCLHggNfs1"
      }
    },
    {
      "cell_type": "code",
      "source": [
        "from scipy import stats\n",
        "\n",
        "def two_sample_t_test(sample1, sample2):\n",
        "    # Calculate the t-statistic and p-value using the ttest_ind function\n",
        "    t_stat, p_value = stats.ttest_ind(sample1, sample2)\n",
        "\n",
        "    # Print the results\n",
        "    print(\"T-Statistic: \", t_stat)\n",
        "    print(\"P-Value: \", p_value)\n",
        "\n",
        "# Example usage\n",
        "sample1 = [1, 2, 3, 4, 5]\n",
        "sample2 = [6, 7, 8, 9, 10]\n",
        "two_sample_t_test(sample1, sample2)\n"
      ],
      "metadata": {
        "colab": {
          "base_uri": "https://localhost:8080/"
        },
        "id": "Mh4GkTmeOk5v",
        "outputId": "c84cc3f9-dec9-436f-c881-e7f257c95c19"
      },
      "execution_count": null,
      "outputs": [
        {
          "output_type": "stream",
          "name": "stdout",
          "text": [
            "T-Statistic:  -5.0\n",
            "P-Value:  0.001052825793366539\n"
          ]
        }
      ]
    },
    {
      "cell_type": "markdown",
      "source": [
        "# Q11: What is Student’s t distribution? When to use the t-Distribution.\n"
      ],
      "metadata": {
        "id": "C027yyxLNfpu"
      }
    },
    {
      "cell_type": "markdown",
      "source": [
        "Stastical analysis using z-score we need population standard deviation.\n",
        "\n",
        "The t-distribution is similar in shape to the standard normal distribution (bell-shaped and symmetric), but it has thicker tails. The specific shape of the distribution depends on the degrees of freedom (df), which is determined by the sample size."
      ],
      "metadata": {
        "id": "UDT_825zPaWi"
      }
    },
    {
      "cell_type": "markdown",
      "source": [
        "# Q12: What is t-statistic? State the formula for t-statistic.\n",
        "\n",
        "\n"
      ],
      "metadata": {
        "id": "Seel7FZMPaTq"
      }
    },
    {
      "cell_type": "markdown",
      "source": [
        "The t-statistic, also known as the student's t-statistic or simply the t-value,\n",
        "\n",
        "The formula for calculating the t-statistic is as follows:\n",
        "\n",
        "t = (x₁ - x₂) / (s √(1/n₁ + 1/n₂))"
      ],
      "metadata": {
        "id": "QLfvgHrgPaQi"
      }
    },
    {
      "cell_type": "markdown",
      "source": [
        "# Q13. A coffee shop owner wants to estimate the average daily revenue for their shop. They take a random  sample of 50 days and find the sample mean revenue to be $500 with a standard deviation of $50.  Estimate the population mean revenue with a 95% confidence interval.\n"
      ],
      "metadata": {
        "id": "NT9aY3IzPaLO"
      }
    },
    {
      "cell_type": "markdown",
      "source": [
        "Sample mean (x̄) = $500\n",
        "\n",
        "Sample standard deviation (s) = $50\n",
        "\n",
        "Sample size (n) = 50\n",
        "\n",
        "Critical value (z) for a 95% confidence level = 1.96\n",
        "\n",
        "\n",
        "Standard error (SE) = s / √n\n",
        "\n",
        "\n",
        "SE = $50 / √50\n",
        "\n",
        "SE ≈ $7.07\n",
        "\n",
        "Now, we can calculate the confidence interval:\n",
        "\n",
        "Confidence Interval = x̄ ± (z * SE)\n",
        "\n",
        "Confidence Interval = $500 ± (1.96 * $7.07)\n",
        "\n",
        "Confidence Interval = $500 ± $13.86\n",
        "\n",
        "Lower bound = $500 - $13.86 = $486.14\n",
        "\n",
        "Upper bound = $500 + $13.86 = $513.86"
      ],
      "metadata": {
        "id": "8wo3EpyAPaIk"
      }
    },
    {
      "cell_type": "markdown",
      "source": [
        "# Q14. A researcher hypothesizes that a new drug will decrease blood pressure by 10 mmHg. They conduct a  clinical trial with 100 patients and find that the sample mean decrease in blood pressure is 8 mmHg with a  standard deviation of 3 mmHg. Test the hypothesis with a significance level of 0.05.\n"
      ],
      "metadata": {
        "id": "V3xi3VFFS0Zl"
      }
    },
    {
      "cell_type": "markdown",
      "source": [
        "Sample size (n) = 100\n",
        "Sample mean decrease in blood pressure (x̄) = 8 mmHg\n",
        "Standard deviation (σ) = 3 mmHg\n",
        "Significance level (α) = 0.05\n",
        "\n",
        "We can calculate the test statistic (t-value) using the formula:\n",
        "\n",
        "t = (x̄ - μ) / (σ / √n)\n",
        "\n",
        "\n",
        "t = (8 - 10) / (3 / √100)\n",
        "= -2 / (3 / 10)\n",
        "= -20 / 3\n",
        "\n",
        "degrees of freedom (n - 1). Since n = 100, the degrees of freedom would be 99.\n",
        "\n",
        "The critical t-value at α = 0.05 and df = 99 is approximately ±1.984."
      ],
      "metadata": {
        "id": "3slgvhUJS0W9"
      }
    },
    {
      "cell_type": "markdown",
      "source": [
        "# Q15. An electronics company produces a certain type of product with a mean weight of 5 pounds and a  standard deviation of 0.5 pounds. A random sample of 25 products is taken, and the sample mean weight  is found to be 4.8 pounds. Test the hypothesis that the true mean weight of the products is less than 5  pounds with a significance level of 0.01.\n"
      ],
      "metadata": {
        "id": "Tx2SMqufS0T8"
      }
    },
    {
      "cell_type": "markdown",
      "source": [
        "Sample mean weight (x̄) = 4.8 pounds\n",
        "\n",
        "Hypothesized mean weight (μ₀) = 5 pounds\n",
        "\n",
        "Sample standard deviation (s) = 0.5 pounds\n",
        "\n",
        "Sample size (n) = 25\n",
        "\n",
        "t = (4.8 - 5) / (0.5 / √25)\n",
        "\n",
        "t = -0.2 / (0.5 / 5)\n",
        "t = -0.2 / 0.1\n",
        "t = -2\n",
        "\n",
        " (df) = n - 1 = 25 - 1 = 24.\n",
        "Using a t-table or statistical software, the critical value for α = 0.01 and df = 24 is approximately -2.492.\n",
        "\n",
        ".\n",
        "\n",
        "Since the test statistic t = -2 is greater than the critical value of -2.492, we fail to reject the null hypothesis."
      ],
      "metadata": {
        "id": "BNH3TdIAhAKs"
      }
    },
    {
      "cell_type": "markdown",
      "source": [
        "# Q16. Two groups of students are given different study materials to prepare for a test. The first group (n1 =  30) has a mean score of 80 with a standard deviation of 10, and the second group (n2 = 40) has a mean  score of 75 with a standard deviation of 8. Test the hypothesis that the population means for the two  groups are equal with a significance level of 0.01.\n"
      ],
      "metadata": {
        "id": "eRpb7qtrj40G"
      }
    },
    {
      "cell_type": "markdown",
      "source": [
        "t = (x₁ - x₂) / sqrt((s₁² / n₁) + (s₂² / n₂))\n",
        "\n",
        "\n",
        "x₁ = 80, x₂ = 75, s₁ = 10, s₂ = 8, n₁ = 30, n₂ = 40\n",
        "\n",
        "t = (80 - 75) / sqrt((10² / 30) + (8² / 40))\n",
        "= 5 / sqrt((100 / 30) + (64 / 40))\n",
        "= 5 / sqrt(3.33 + 1.6)\n",
        "≈ 5 / sqrt(4.93)\n",
        "≈ 5 / 2.22\n",
        "≈ 2.2523\n",
        "\n",
        " Let's assume the critical value to be approximately  ±2.66.\n",
        "\n",
        "  Therefore, we fail to reject the null hypothesis."
      ],
      "metadata": {
        "id": "MefWBfy5kYRY"
      }
    },
    {
      "cell_type": "markdown",
      "source": [
        "# Q17. A marketing company wants to estimate the average number of ads watched by viewers during a TV  program. They take a random sample of 50 viewers and find that the sample mean is 4 with a standard  deviation of 1.5. Estimate the population mean with a 99% confidence interval.\n"
      ],
      "metadata": {
        "id": "sy08Bfz8lLTP"
      }
    },
    {
      "cell_type": "markdown",
      "source": [
        "Confidence Interval = Sample Mean ± (Critical Value * Standard Error)\n",
        "\n",
        " we find that the critical value for a 99% confidence level is approximately\n",
        " 2.576.\n",
        "\n",
        "\n",
        "\n",
        "Standard Error (SE) = Standard Deviation / √(Sample Size)\n",
        "\n",
        "\n",
        "SE = 1.5 / √50 ≈ 0.2121\n",
        "\n",
        "Now we can calculate the confidence interval:\n",
        "\n",
        "Confidence Interval = 4 ± (2.576 * 0.2121)\n",
        "\n",
        "Lower Limit = 4 - (2.576 * 0.2121) ≈ 3.448\n",
        "Upper Limit = 4 + (2.576 * 0.2121) ≈ 4.552"
      ],
      "metadata": {
        "id": "ZqO5y0wRlPrL"
      }
    }
  ]
}