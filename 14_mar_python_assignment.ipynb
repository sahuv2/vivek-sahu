{
  "nbformat": 4,
  "nbformat_minor": 0,
  "metadata": {
    "colab": {
      "provenance": []
    },
    "kernelspec": {
      "name": "python3",
      "display_name": "Python 3"
    },
    "language_info": {
      "name": "python"
    }
  },
  "cells": [
    {
      "cell_type": "markdown",
      "source": [
        "# Q1. Write a Python function that takes in two arrays of data and calculates the F-value for a variance ratio  test. The function should return the F-value and the corresponding p-value for the test.\n"
      ],
      "metadata": {
        "id": "yVDSmDXNnkJa"
      }
    },
    {
      "cell_type": "code",
      "execution_count": 3,
      "metadata": {
        "colab": {
          "base_uri": "https://localhost:8080/"
        },
        "id": "BguCighoncnL",
        "outputId": "54004def-52e0-4cf1-974b-f13e53f588b5"
      },
      "outputs": [
        {
          "output_type": "stream",
          "name": "stdout",
          "text": [
            "F-value: 3.6\n",
            "p-value: 0.0943497728424377\n"
          ]
        }
      ],
      "source": [
        "from scipy.stats import f_oneway\n",
        "\n",
        "def calculate_f_value(data1, data2):\n",
        "    # Perform variance ratio test\n",
        "    f_value, p_value = f_oneway(data1, data2)\n",
        "\n",
        "    return f_value, p_value\n",
        "\n",
        "\n",
        "# Example usage\n",
        "data1 = [1, 2, 3, 4, 5]\n",
        "data2 = [2, 4, 6, 8, 10]\n",
        "\n",
        "f_value, p_value = calculate_f_value(data1, data2)\n",
        "print(\"F-value:\", f_value)\n",
        "print(\"p-value:\", p_value)\n"
      ]
    },
    {
      "cell_type": "markdown",
      "source": [
        "# Q2. Given a significance level of 0.05 and the degrees of freedom for the numerator and denominator of an  F-distribution, write a Python function that returns the critical F-value for a two-tailed test."
      ],
      "metadata": {
        "id": "zpFHDZ0HoLjr"
      }
    },
    {
      "cell_type": "code",
      "source": [
        "from scipy.stats import f\n",
        "\n",
        "def get_critical_f_value(significance_level, df_num, df_den):\n",
        "    alpha = significance_level / 2  # Divide alpha by 2 for a two-tailed test\n",
        "    critical_value = f.ppf(1 - alpha, df_num, df_den)\n",
        "    return critical_value\n",
        "\n",
        "\n",
        "significance_level = 0.05\n",
        "df_num = 3\n",
        "df_den = 20\n",
        "\n",
        "critical_f_value = get_critical_f_value(significance_level, df_num, df_den)\n",
        "print(critical_f_value)\n"
      ],
      "metadata": {
        "colab": {
          "base_uri": "https://localhost:8080/"
        },
        "id": "LY8ubI77oj7W",
        "outputId": "ea01a170-8c1c-4325-c263-8ef472880233"
      },
      "execution_count": 4,
      "outputs": [
        {
          "output_type": "stream",
          "name": "stdout",
          "text": [
            "3.8586986662732143\n"
          ]
        }
      ]
    },
    {
      "cell_type": "markdown",
      "source": [
        "# Q3. Write a Python program that generates random samples from two normal distributions with known  variances and uses an F-test to determine if the variances are equal. The program should output the F value, degrees of freedom, and p-value for the test."
      ],
      "metadata": {
        "id": "x__OiHXRo4Xy"
      }
    },
    {
      "cell_type": "code",
      "source": [
        "import numpy as np\n",
        "from scipy.stats import f\n",
        "\n",
        "def f_test(sample1, sample2, var1, var2):\n",
        "    n1 = len(sample1)\n",
        "    n2 = len(sample2)\n",
        "\n",
        "    # Calculate the F-statistic\n",
        "    f_value = np.var(sample1) / np.var(sample2)\n",
        "\n",
        "    # Calculate the degrees of freedom\n",
        "    df1 = n1 - 1\n",
        "    df2 = n2 - 1\n",
        "\n",
        "    # Calculate the p-value\n",
        "    p_value = 2 * min(f.cdf(f_value, df1, df2), 1 - f.cdf(f_value, df1, df2))\n",
        "\n",
        "    return f_value, df1, df2, p_value\n",
        "\n",
        "# Generate random samples from two normal distributions\n",
        "np.random.seed(42)  # Set a seed for reproducibility\n",
        "sample1 = np.random.normal(loc=0, scale=1, size=100)\n",
        "sample2 = np.random.normal(loc=0, scale=1.5, size=100)\n",
        "\n",
        "# Known variances\n",
        "var1 = 1\n",
        "var2 = 1.5\n",
        "\n",
        "# Perform the F-test\n",
        "f_value, df1, df2, p_value = f_test(sample1, sample2, var1, var2)\n",
        "\n",
        "# Print the results\n",
        "print(\"F-value:\", f_value)\n",
        "print(\"Degrees of freedom:\", df1, \",\", df2)\n",
        "print(\"P-value:\", p_value)\n"
      ],
      "metadata": {
        "colab": {
          "base_uri": "https://localhost:8080/"
        },
        "id": "9pbKDZt1pFKM",
        "outputId": "32a4c0d2-acdd-4279-9556-f8d6bbf1479e"
      },
      "execution_count": 5,
      "outputs": [
        {
          "output_type": "stream",
          "name": "stdout",
          "text": [
            "F-value: 0.40304633927638567\n",
            "Degrees of freedom: 99 , 99\n",
            "P-value: 9.191624675736606e-06\n"
          ]
        }
      ]
    },
    {
      "cell_type": "markdown",
      "source": [
        "# Q4.The variances of two populations are known to be 10 and 15. A sample of 12 observations is taken from  each population. Conduct an F-test at the 5% significance level to determine if the variances are  significantly different."
      ],
      "metadata": {
        "id": "ElO8TfD2pSS8"
      }
    },
    {
      "cell_type": "markdown",
      "source": [
        "\n",
        "\n",
        "\n",
        "Null Hypothesis (H0): The variances are equal.\n",
        "Alternative Hypothesis (Ha): The variances are significantly different.\n",
        "\n",
        " the significance level is given as 5%, which means α = 0.05.\n",
        "\n",
        "F = s1² / s2²\n",
        "\n",
        "where s1² is the larger sample variance and s2² is the smaller sample variance.\n",
        "\n",
        "In this case, s1² = 15 (larger variance) and s2² = 10 (smaller variance).\n",
        "\n",
        "F = 15 / 10 = 1.5\n",
        "\n",
        "df1 = n1 - 1 = 12 - 1 = 11\n",
        "df2 = n2 - 1 = 12 - 1 = 11\n",
        "\n",
        "Using the significance level α = 0.05 and the degrees of freedom, we can find the critical value from an F-distribution table or using statistical software. For the given degrees of freedom, the critical value is approximately 3.49.\n",
        "\n",
        "Step 5: Compare the calculated F-statistic with the critical value:\n",
        "If the calculated F-statistic is greater than the critical value, we reject the null hypothesis and conclude that the variances are significantly different. Otherwise, we fail to reject the null hypothesis."
      ],
      "metadata": {
        "id": "guPbDrkupjC5"
      }
    },
    {
      "cell_type": "markdown",
      "source": [
        "# Q5. A manufacturer claims that the variance of the diameter of a certain product is 0.005. A sample of 25  products is taken, and the sample variance is found to be 0.006. Conduct an F-test at the 1% significance  level to determine if the claim is justified."
      ],
      "metadata": {
        "id": "WPOofyfYpwqC"
      }
    },
    {
      "cell_type": "markdown",
      "source": [
        "\n",
        "The null hypothesis (H₀) assumes that the claim is justified, stating that the population variance (σ²) is equal to the claimed variance (0.005):\n",
        "H₀: σ² = 0.005\n",
        "\n",
        "The aσ²) is greater than the claimed variance (0.005):\n",
        "H₁: σ² > 0.005\n",
        "\n",
        "\n",
        "F = Sample Variance 1 / Sample Variance 2\n",
        "\n",
        "\n",
        "\n",
        "\n",
        "Calculating the degrees of freedom:\n",
        "df₁ = n₁ - 1 = 25 - 1 = 24\n",
        "df₂ = n₂ - 1 = 25 - 1 = 24\n",
        "\n",
        "Now, we can calculate the F-value:\n",
        "F = Sample Variance 1 / Sample Variance 2\n",
        "F = 0.006 / 0.005\n",
        "F = 1.2\n",
        "\n",
        "Assuming the critical F-value at the 1% significance level is F and if the calculated F-value is greater than F_c, we reject the null hypothesis\n"
      ],
      "metadata": {
        "id": "f9RC3Hv_pwnW"
      }
    },
    {
      "cell_type": "markdown",
      "source": [
        "# Q6. Write a Python function that takes in the degrees of freedom for the numerator and denominator of an  F-distribution and calculates the mean and variance of the distribution. The function should return the  mean and variance as a tuple."
      ],
      "metadata": {
        "id": "ujKb-rjSpwkt"
      }
    },
    {
      "cell_type": "code",
      "source": [
        "def calculate_f_distribution_mean_variance(df_numerator, df_denominator):\n",
        "    if df_numerator <= 0 or df_denominator <= 0:\n",
        "        raise ValueError(\"Degrees of freedom must be greater than zero.\")\n",
        "\n",
        "    mean = df_denominator / (df_denominator - 2)\n",
        "\n",
        "    if df_denominator <= 4:\n",
        "        variance = float('inf')\n",
        "    else:\n",
        "        variance = (2 * (df_denominator ** 2) * (df_numerator + df_denominator - 2)) / (df_numerator * (df_denominator - 2) ** 2 * (df_denominator - 4))\n",
        "\n",
        "    return mean, variance\n",
        "\n",
        "\n",
        "df_numerator = 5\n",
        "df_denominator = 10\n",
        "\n",
        "mean, variance = calculate_f_distribution_mean_variance(df_numerator, df_denominator)\n",
        "print(\"Mean:\", mean)\n",
        "print(\"Variance:\", variance)\n"
      ],
      "metadata": {
        "colab": {
          "base_uri": "https://localhost:8080/"
        },
        "id": "0Uy7HbYdqhR_",
        "outputId": "ae0e54d1-6f25-472e-87b5-420ad55c351a"
      },
      "execution_count": 7,
      "outputs": [
        {
          "output_type": "stream",
          "name": "stdout",
          "text": [
            "Mean: 1.25\n",
            "Variance: 1.3541666666666667\n"
          ]
        }
      ]
    },
    {
      "cell_type": "markdown",
      "source": [
        "# Q7. A random sample of 10 measurements is taken from a normal population with unknown variance. The  sample variance is found to be 25. Another random sample of 15 measurements is taken from another  normal population with unknown variance, and the sample variance is found to be 20. Conduct an F-test  at the 10% significance level to determine if the variances are significantly different.\n"
      ],
      "metadata": {
        "id": "jZJmRWxAqY5P"
      }
    },
    {
      "cell_type": "markdown",
      "source": [
        "\n",
        "Sample 1: n1 = 10 measurements, s1^2 = 25\n",
        "Sample 2: n2 = 15 measurements, s2^2 = 20\n",
        "\n",
        "\n",
        "F = s1^2 / s2^2\n",
        "\n",
        "Under the null hypothesis of equal variances, the test statistic follows an F-distribution with (n1 - 1) and (n2 - 1) degrees of freedom.\n",
        ".\n",
        "\n",
        "If F > F_critical, we reject the null hypothesis and conclude that the variances are significantly different.\n",
        "\n",
        "\n",
        "F = s1^2 / s2^2 = 25 / 20 = 1.25\n",
        "\n",
        "If F > F_critical, we reject the null hypothesis. Otherwise, we fail to reject the null hypothesis.\n"
      ],
      "metadata": {
        "id": "7EAayaCtqY2f"
      }
    },
    {
      "cell_type": "markdown",
      "source": [
        "# Q8. The following data represent the waiting times in minutes at two different restaurants on a Saturday  night: Restaurant A: 24, 25, 28, 23, 22, 20, 27; Restaurant B: 31, 33, 35, 30, 32, 36. Conduct an F-test at the 5%  significance level to determine if the variances are significantly different."
      ],
      "metadata": {
        "id": "O8J0SGapqYy8"
      }
    },
    {
      "cell_type": "markdown",
      "source": [
        "H0: The variances of the two samples are equal.\n",
        "H1: The variances of the two samples are significantly different.\n",
        "\n",
        "\n",
        "F = (s1^2) / (s2^2)\n",
        "\n",
        "\n",
        "Step 5: Compare the test statistic (F) with the critical value. If the test statistic is greater than the critical value, we reject the null hypothesis; otherwise, we fail to reject the null hypothesis.\n",
        "\n",
        "\n",
        "Sample size (n1) = 7\n",
        "Mean (x̄1) = (24 + 25 + 28 + 23 + 22 + 20 + 27) / 7 = 23.86\n",
        "Variance (s1^2) = [(24 - 23.86)^2 + (25 - 23.86)^2 + (28 - 23.86)^2 + (23 - 23.86)^2 + (22 - 23.86)^2 + (20 - 23.86)^2 + (27 - 23.86)^2] / (7 - 1) = 7.90\n",
        "\n",
        "\n",
        "Sample size (n2) = 6\n",
        "Mean (x̄2) = (31 + 33 + 35 + 30 + 32 + 36) / 6 = 32.83\n",
        "Variance (s2^2) = [(31 - 32.83)^2 + (33 - 32.83)^2 + (35 - 32.83)^2 + (30 - 32.83)^2 + (32 - 32.83)^2 + (36 - 32.83)^2] / (6 - 1) = 6.47\n",
        "\n",
        "Calculating the test statistic:\n",
        "F = (s1^2) / (s2^2) = 7.90 / 6.47 = 1.22 (rounded to two decimal places)\n",
        "\n",
        " at α = 0.05, with df1 = 6 and df2 = 5, the critical value is approximately 5.99.\n",
        "\n",
        "Step 5: Comparing the test statistic and critical value:\n",
        "Since the test statistic (1.22) is less than the critical value (5.99), we fail to reject the null hypothesis.\n",
        "\n"
      ],
      "metadata": {
        "id": "wFrz-ubcrM5k"
      }
    },
    {
      "cell_type": "markdown",
      "source": [
        "# Q9. The following data represent the test scores of two groups of students: Group A: 80, 85, 90, 92, 87, 83;  Group B: 75, 78, 82, 79, 81, 84. Conduct an F-test at the 1% significance level to determine if the variances  are significantly different."
      ],
      "metadata": {
        "id": "3YgBvNthrPlf"
      }
    },
    {
      "cell_type": "markdown",
      "source": [
        "\n",
        "\n",
        "Null hypothesis (H₀): The variances of Group A and Group B are equal.\n",
        "Alternative hypothesis (H₁): The variances of Group A and Group B are not equal.\n",
        "\n",
        "\n",
        "Mean (x̄₁) = (80 + 85 + 90 + 92 + 87 + 83) / 6 = 87.83\n",
        "Variance (s₁²) = Σ(xi - x̄₁)² / (n₁ - 1)\n",
        "= ((80 - 87.83)² + (85 - 87.83)² + (90 - 87.83)² + (92 - 87.83)² + (87 - 87.83)² + (83 - 87.83)²) / (6 - 1)\n",
        "= (46.39 + 8.03 + 5.34 + 16.54 + 0.70 + 21.47) / 5\n",
        "= 18.47\n",
        "\n",
        "\n",
        "Mean (x̄₂) = (75 + 78 + 82 + 79 + 81 + 84) / 6 = 80.83\n",
        "Variance (s₂²) = Σ(xi - x̄₂)² / (n₂ - 1)\n",
        "= ((75 - 80.83)² + (78 - 80.83)² + (82 - 80.83)² + (79 - 80.83)² + (81 - 80.83)² + (84 - 80.83)²) / (6 - 1)\n",
        "= (33.77 + 8.11 + 1.39 + 2.47 + 0.03 + 9.11) / 5\n",
        "= 10.18\n",
        "\n",
        "\n",
        " 1% significance level to be approximately 8.70.\n",
        "\n",
        "\n",
        "Compare the test statistic with the critical value.\n",
        "Since the test statistic (F = 1.812) is less than the critical value (8.70), we do not reject the null hypothesis.\n"
      ],
      "metadata": {
        "id": "QD_y_pLvrqvi"
      }
    },
    {
      "cell_type": "code",
      "source": [],
      "metadata": {
        "id": "F-ABufpjpF-V"
      },
      "execution_count": null,
      "outputs": []
    }
  ]
}