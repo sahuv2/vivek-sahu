{
  "nbformat": 4,
  "nbformat_minor": 0,
  "metadata": {
    "colab": {
      "provenance": []
    },
    "kernelspec": {
      "name": "python3",
      "display_name": "Python 3"
    },
    "language_info": {
      "name": "python"
    }
  },
  "cells": [
    {
      "cell_type": "markdown",
      "source": [
        "### Q1. What are the three measures of central tendency?\n"
      ],
      "metadata": {
        "id": "1c2VfwXLJHUW"
      }
    },
    {
      "cell_type": "markdown",
      "source": [
        "The three measures of central tendency are the mean, the median, and the mode."
      ],
      "metadata": {
        "id": "SfmI2ZzBJHdl"
      }
    },
    {
      "cell_type": "markdown",
      "source": [
        "### Q2. What is the difference between the mean, median, and mode? How are they used to measure the  central tendency of a dataset?\n"
      ],
      "metadata": {
        "id": "7MhStJQ0JHgI"
      }
    },
    {
      "cell_type": "markdown",
      "source": [
        "\n",
        "\n",
        "\n",
        " Mean: The mean, often referred to as the average, is calculated by summing up all the values in a dataset and dividing the sum by the total number of observations.\n",
        "\n",
        "\n",
        "Median: The median is the middle value of a dataset when the values are arranged in ascending or descending order.\n",
        "\n",
        "\n",
        "Mode: The mode is the value or values that appear most frequently in a dataset.\n",
        "\n",
        "These measures of central tendency are used to summarize the dataset and provide a representative value. Here's how they are typically applied:\n",
        "\n",
        "\n",
        "Mean: The mean is commonly used to understand the average value of a dataset.\n",
        "\n",
        "\n",
        "Median: The median is often used when the dataset is skewed or contains outliers.\n",
        "\n",
        "Mode: The mode is useful for understanding the most frequently occurring value(s) in a dataset.\n",
        "\n",
        "\n"
      ],
      "metadata": {
        "id": "E6dQIO2EJHi1"
      }
    },
    {
      "cell_type": "markdown",
      "source": [
        "### Q3. Measure the three measures of central tendency for the given height data:  [178,177,176,177,178.2,178,175,179,180,175,178.9,176.2,177,172.5,178,176.5]\n"
      ],
      "metadata": {
        "id": "3X02iADLJHlV"
      }
    },
    {
      "cell_type": "code",
      "source": [],
      "metadata": {
        "id": "5KdBsvtNLH_R"
      },
      "execution_count": null,
      "outputs": []
    },
    {
      "cell_type": "markdown",
      "source": [
        "Sum of all values = 178 + 177 + 176 + 177 + 178.2 + 178 + 175 + 179 + 180 + 175 + 178.9 + 176.2 + 177 + 172.5 + 178 + 176.5 = 2827.3/16  ~176.70625\n",
        "\n",
        "\n",
        "median 177\n",
        "\n",
        "mode 177 and 178\n",
        "\n"
      ],
      "metadata": {
        "id": "ZSIPxxbOJHqu"
      }
    },
    {
      "cell_type": "markdown",
      "source": [
        "### Q4. Find the standard deviation for the given data:\n",
        "[178,177,176,177,178.2,178,175,179,180,175,178.9,176.2,177,172.5,178,176.5]\n",
        "\n"
      ],
      "metadata": {
        "id": "t3ViMl1iJH6n"
      }
    },
    {
      "cell_type": "markdown",
      "source": [
        "\n",
        "\n",
        "Step 1: Calculate the mean (average)\n",
        "178 + 177 + 176 + 177 + 178.2 + 178 + 175 + 179 + 180 + 175 + 178.9 + 176.2 + 177 + 172.5 + 178 + 176.5 = 2734.3/16 ~170.89375\n",
        "\n",
        "\n",
        "\n",
        "Step 2: Subtract the mean from each data point :\n",
        "\n",
        "(178 - 170.89375)^2 ≈ 53.22617\n",
        "(177 - 170.89375)^2 ≈ 38.40911\n",
        "(176 - 170.89375)^2 ≈ 26.22617\n",
        "(177 - 170.89375)^2 ≈ 38.40911\n",
        "(178.2 - 170.89375)^2 ≈ 53.07142\n",
        "(178 - 170.89375)^2 ≈ 50.67248\n",
        "(175 - 170.89375)^2 ≈ 16.85678\n",
        "(179 - 170.89375)^2 ≈ 67.18336\n",
        "(180 - 170.89375)^2 ≈ 82.51809\n",
        "(175 - 170.89375)^2 ≈ 16.85678\n",
        "(178.9 - 170.89375)^2 ≈ 64.17448\n",
        "(176.2 - 170.89375)^2 ≈ 28.20491\n",
        "(177 - 170.89375)^2 ≈ 38.40911\n",
        "(172.5 - 170.89375)^2 ≈ 2.64063\n",
        "(178 - 170.89375)^2 ≈ 50.67248\n",
        "(176.5 - 170.89375)^2 ≈ 31.33776\n",
        "\n",
        "\n",
        "\n",
        "(53.22617 + 38.40911 + 26.22617 + 38.40911 + 53.07142 + 50.67248 + 16.85678 + 67.18336 + 82.51809 + 16.85678 + 64.17448 + 28.20491 + 38.40911 + 2.64063 + 50.67248 + 31.33776) / 16 ≈ 41.3037\n",
        "\n",
        "\n",
        "√41.3037 ≈ 6.4257 (approximated to four decimal places)\n",
        "\n",
        "Therefore, the standard deviation of the given data set is approximately 6.4257.\n",
        "\n",
        "\n",
        "\n",
        "\n",
        "\n",
        "\n",
        "\n"
      ],
      "metadata": {
        "id": "C-em4gTEJH91"
      }
    },
    {
      "cell_type": "markdown",
      "source": [
        "### Q5. How are measures of dispersion such as range, variance, and standard deviation used to describe  the spread of a dataset? Provide an example.\n"
      ],
      "metadata": {
        "id": "h3cUFTRBJIAp"
      }
    },
    {
      "cell_type": "markdown",
      "source": [
        "\n",
        "\n",
        "Range: The range is the simplest measure of dispersion and is calculated by subtracting the minimum value from the maximum value in a dataset.  exam scores: {60, 70, 75, 80, 90}. The range would be 90 - 60 = 30, indicating that the scores range from 60 to 90.\n",
        "\n",
        "Variance: The variance measures the average squared deviation from the mean. dataset {2, 4, 6, 8, 10}. The mean is 6, and the variance would be calculated as [(2-6)^2 + (4-6)^2 + (6-6)^2 + (8-6)^2 + (10-6)^2] / 5 = 8.\n",
        "\n",
        "Standard Deviation: The standard deviation is the square root of the variance and is one of the most commonly used measures of dispersion.\n",
        "\n",
        " the variance is 8, and the standard deviation would be the square root of 8, approximately 2.83.\n",
        "\n",
        "\n",
        "\n",
        "\n"
      ],
      "metadata": {
        "id": "FutKvHJBJIDP"
      }
    },
    {
      "cell_type": "markdown",
      "source": [
        "### Q6. What is a Venn diagram?\n"
      ],
      "metadata": {
        "id": "KJaG4TD3JIF-"
      }
    },
    {
      "cell_type": "markdown",
      "source": [
        "A Venn diagram is a visual representation of the relationships between different sets or groups of objects."
      ],
      "metadata": {
        "id": "Q6Irp3OtJIIw"
      }
    },
    {
      "cell_type": "markdown",
      "source": [
        "### Q7. For the two given sets A = (2,3,4,5,6,7) & B = (0,2,6,8,10).\n",
        " Find:\n",
        "(i)  A  ∩ B\n",
        "(ii) A ⋃ B\n"
      ],
      "metadata": {
        "id": "8C-WyQzKJILm"
      }
    },
    {
      "cell_type": "markdown",
      "source": [
        "(1) A ∩ B = (2,6)\n",
        "\n",
        "(2) A ⋃ B =(0, 2, 3, 4, 5, 6, 7, 8, 10)"
      ],
      "metadata": {
        "id": "AQ14Oro-SLnk"
      }
    },
    {
      "cell_type": "markdown",
      "source": [
        "### Q8. What do you understand about skewness in data?\n"
      ],
      "metadata": {
        "id": "TUK2a9WXTDSJ"
      }
    },
    {
      "cell_type": "markdown",
      "source": [
        "Skewness is a statistical measure that describes the asymmetry of a probability distribution or a dataset.\n",
        "\n",
        "\n",
        "\n",
        "Positive skewness: Also known as right skewness\n",
        "\n",
        "\n",
        "Negative skewness: Also known as left skewness\n",
        "\n",
        "\n",
        "Zero skewness: A distribution is considered symmetric"
      ],
      "metadata": {
        "id": "es38rRxOTFtg"
      }
    },
    {
      "cell_type": "markdown",
      "source": [
        "### Q9. If a data is right skewed then what will be the position of median with respect to mean?\n"
      ],
      "metadata": {
        "id": "eHGiK8EpTixt"
      }
    },
    {
      "cell_type": "markdown",
      "source": [
        " the mean will be greater than the median.\n",
        "\n",
        "  Mean>Median"
      ],
      "metadata": {
        "id": "IAZO8o5bToxN"
      }
    },
    {
      "cell_type": "markdown",
      "source": [
        "### Q10. Explain the difference between covariance and correlation. How are these measures used in  statistical analysis?\n"
      ],
      "metadata": {
        "id": "dSUwXdkLUEPw"
      }
    },
    {
      "cell_type": "markdown",
      "source": [
        "Covariance measures the extent to which two variables. It indicates the direction of the relationship (positive or negative) and the magnitude of the relationship. A positive covariance suggests that when one variable increases, the other variable tends to increase as well, while a negative covariance indicates that as one variable increases, the other tends to decrease.\n",
        "\n",
        "correlation standardizes the covariance by dividing it by the product of the standard deviations of the two variables. The result is a correlation coefficient that ranges between -1 and 1. A correlation coefficient of 1 indicates a perfect positive relationship, -1 indicates a perfect negative relationship, and 0 indicates no linear relationship.\n",
        "\n",
        "Both covariance and correlation are used in statistical analysis to understand the relationship between variables.\n",
        "\n",
        "\n"
      ],
      "metadata": {
        "id": "LMkQTvebUIyY"
      }
    },
    {
      "cell_type": "markdown",
      "source": [
        "## Q11. What is the formula for calculating the sample mean? Provide an example calculation for a  dataset.\n"
      ],
      "metadata": {
        "id": "yRpYzr99WW6Q"
      }
    },
    {
      "cell_type": "markdown",
      "source": [
        " sample mean = 75+80+85+90+95 = 425/5 = 85\n",
        "\n",
        " Therefore, the sample mean of this dataset is 85.\n",
        ""
      ],
      "metadata": {
        "id": "UL8A6nOZWe9o"
      }
    },
    {
      "cell_type": "markdown",
      "source": [
        "### Q12. For a normal distribution data what is the relationship between its measure of central tendency?"
      ],
      "metadata": {
        "id": "ywSl5QvxXFqy"
      }
    },
    {
      "cell_type": "markdown",
      "source": [
        "\n",
        "For a normal distribution, the measures of central tendency, namely the mean, median, and mode, are all equal. This means that they have the same value and are located at the center of the distribution."
      ],
      "metadata": {
        "id": "yIhEGHtWXWyg"
      }
    },
    {
      "cell_type": "markdown",
      "source": [
        "### Q13. How is covariance different from correlation?\n"
      ],
      "metadata": {
        "id": "HhjsJwvcXqXJ"
      }
    },
    {
      "cell_type": "markdown",
      "source": [
        "Covariance measures the extent to which two variables vary together. It quantifies the direction of the relationship (positive or negative)\n",
        "\n",
        "On the other hand, correlation is a standardized  the linear relationship between two variables. Correlation is always between -1 and 1,\n",
        "\n",
        "\n"
      ],
      "metadata": {
        "id": "CGrAmGyYXu7F"
      }
    },
    {
      "cell_type": "markdown",
      "source": [
        "# Q14. How do outliers affect measures of central tendency and dispersion? Provide an example.\n"
      ],
      "metadata": {
        "id": "G4JWSntYYRUn"
      }
    },
    {
      "cell_type": "markdown",
      "source": [
        "Outliers can have a significant impact on measures of central tendency and dispersion in data analysis. Central tendency measures, such as the mean, median, and mode\n",
        "\n",
        " Ex:[13,24,45,56,900]"
      ],
      "metadata": {
        "id": "GqsVm1eQYVeA"
      }
    }
  ]
}