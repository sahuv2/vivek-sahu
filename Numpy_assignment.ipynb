{
  "nbformat": 4,
  "nbformat_minor": 0,
  "metadata": {
    "colab": {
      "provenance": []
    },
    "kernelspec": {
      "name": "python3",
      "display_name": "Python 3"
    },
    "language_info": {
      "name": "python"
    }
  },
  "cells": [
    {
      "cell_type": "markdown",
      "source": [
        "import numpy as np\n",
        "list_ = [ ‘1’ , ’2’ , ‘3’ , ‘4’ , ‘5’ ]\n",
        "array_list = np.array(object = list_)\n",
        "# Q1. Is there any difference in the data type of variables list_ and array_list? If there is then write a code  to print the data types of both the variables.\n"
      ],
      "metadata": {
        "id": "yRqWEKXlGgxK"
      }
    },
    {
      "cell_type": "code",
      "source": [
        "import numpy as np\n",
        "\n",
        "list_ = ['1', '2', '3', '4', '5']\n",
        "array_list = np.array(object=list_)\n",
        "\n",
        "\n",
        "print(type(list_))\n",
        "print(type(array_list))\n"
      ],
      "metadata": {
        "colab": {
          "base_uri": "https://localhost:8080/"
        },
        "id": "HSwKgxScGz36",
        "outputId": "6442035b-1e90-41ca-c028-bc00887d37e7"
      },
      "execution_count": 2,
      "outputs": [
        {
          "output_type": "stream",
          "name": "stdout",
          "text": [
            "<class 'list'>\n",
            "<class 'numpy.ndarray'>\n"
          ]
        }
      ]
    },
    {
      "cell_type": "markdown",
      "source": [
        "# Q2. Write a code to print the data type of each and every element of both the variables list_ and  arra_list.\n"
      ],
      "metadata": {
        "id": "9beHMoWBGgus"
      }
    },
    {
      "cell_type": "code",
      "source": [
        "list_ = [1, 'Hello', 3.14, True]\n",
        "arra_list = [True, 'World', 42, 2.71]\n",
        "\n",
        "# Print data types of elements in list_\n",
        "print(\"Data types of elements in list_:\")\n",
        "for element in list_:\n",
        "    print(type(element))\n",
        "\n",
        "# Print data types of elements in arra_list\n",
        "print(\"\\nData types of elements in arra_list:\")\n",
        "for element in arra_list:\n",
        "    print(type(element))\n"
      ],
      "metadata": {
        "colab": {
          "base_uri": "https://localhost:8080/"
        },
        "id": "SSggjU2gHuGB",
        "outputId": "92c787a5-6c1f-47e3-939d-61d21d487c0f"
      },
      "execution_count": 3,
      "outputs": [
        {
          "output_type": "stream",
          "name": "stdout",
          "text": [
            "Data types of elements in list_:\n",
            "<class 'int'>\n",
            "<class 'str'>\n",
            "<class 'float'>\n",
            "<class 'bool'>\n",
            "\n",
            "Data types of elements in arra_list:\n",
            "<class 'bool'>\n",
            "<class 'str'>\n",
            "<class 'int'>\n",
            "<class 'float'>\n"
          ]
        }
      ]
    },
    {
      "cell_type": "markdown",
      "source": [
        "# Q3. Considering the following changes in the variable, array_list:\n",
        "# array_list = np.array(object = list_, dtype = int)\n",
        "# Will there be any difference in the data type of the elements present in both the variables, list_ and  arra_list? If so then print the data types of each and every element present in both the variables, list_  and arra_list.\n",
        "# Consider the below code to answer further questions:\n",
        "import numpy as np\n",
        "num_list = [ [ 1 , 2 , 3 ] , [ 4 , 5 , 6 ] ]\n"
      ],
      "metadata": {
        "id": "fodBhhJMGgsD"
      }
    },
    {
      "cell_type": "code",
      "source": [
        "import numpy as np\n",
        "\n",
        "num_list = [[1, 2, 3], [4, 5, 6]]\n",
        "array_list = np.array(num_list, dtype=int)\n",
        "\n",
        "print(\"Data types in num_list:\")\n",
        "for sublist in num_list:\n",
        "    for item in sublist:\n",
        "        print(type(item))\n",
        "\n",
        "print(\"\\nData types in array_list:\")\n",
        "for item in np.nditer(array_list):\n",
        "    print(type(item.item()))\n"
      ],
      "metadata": {
        "colab": {
          "base_uri": "https://localhost:8080/"
        },
        "id": "SbDUcpv1I52o",
        "outputId": "248de4ea-9da7-406f-abbf-2d448b7557b1"
      },
      "execution_count": 6,
      "outputs": [
        {
          "output_type": "stream",
          "name": "stdout",
          "text": [
            "Data types in num_list:\n",
            "<class 'int'>\n",
            "<class 'int'>\n",
            "<class 'int'>\n",
            "<class 'int'>\n",
            "<class 'int'>\n",
            "<class 'int'>\n",
            "\n",
            "Data types in array_list:\n",
            "<class 'int'>\n",
            "<class 'int'>\n",
            "<class 'int'>\n",
            "<class 'int'>\n",
            "<class 'int'>\n",
            "<class 'int'>\n"
          ]
        }
      ]
    },
    {
      "cell_type": "markdown",
      "source": [
        "# Q4. Write a code to find the following characteristics of variable, num_array:\n",
        "(i)  shape\n",
        "(ii) size\n"
      ],
      "metadata": {
        "id": "gUUEMffCGggw"
      }
    },
    {
      "cell_type": "code",
      "source": [
        "import numpy as np\n",
        "num_array=[[1,2,3,45],[3,5,6,8]]\n",
        "shape = np.shape(num_array)\n",
        "print(\"Shape of num_array:\", shape)\n",
        "\n",
        "\n",
        "size = np.size(num_array)\n",
        "print(\"Size of num_array:\", size)\n"
      ],
      "metadata": {
        "colab": {
          "base_uri": "https://localhost:8080/"
        },
        "id": "XIu7mGH0JVnk",
        "outputId": "5638078d-45d4-441e-a8f2-7478fc003f9a"
      },
      "execution_count": 8,
      "outputs": [
        {
          "output_type": "stream",
          "name": "stdout",
          "text": [
            "Shape of num_array: (2, 4)\n",
            "Size of num_array: 8\n"
          ]
        }
      ]
    },
    {
      "cell_type": "markdown",
      "source": [
        "# Q5. Write a code to create numpy array of 3*3 matrix containing zeros only, using a numpy array  creation function.\n",
        "[Hint: The size of the array will be 9 and the shape will be (3,3).]\n"
      ],
      "metadata": {
        "id": "XUEqAYKYJv7F"
      }
    },
    {
      "cell_type": "code",
      "execution_count": 14,
      "metadata": {
        "colab": {
          "base_uri": "https://localhost:8080/"
        },
        "id": "ZCeOu5pUGEBM",
        "outputId": "99d172dd-c53a-4924-be70-d5647e4184ea"
      },
      "outputs": [
        {
          "output_type": "execute_result",
          "data": {
            "text/plain": [
              "array([[0., 0., 0.],\n",
              "       [0., 0., 0.],\n",
              "       [0., 0., 0.]])"
            ]
          },
          "metadata": {},
          "execution_count": 14
        }
      ],
      "source": [
        "import numpy as np\n",
        "\n",
        "np.zeros((3,3))"
      ]
    },
    {
      "cell_type": "markdown",
      "source": [
        "# Q6. Create an identity matrix of shape (5,5) using numpy functions?\n",
        "[Hint: An identity matrix is a matrix containing 1 diagonally and other elements will be 0.]\n"
      ],
      "metadata": {
        "id": "_N2BYE-TKlxf"
      }
    },
    {
      "cell_type": "code",
      "source": [
        "import numpy as np\n",
        "\n",
        "np.eye(5)"
      ],
      "metadata": {
        "colab": {
          "base_uri": "https://localhost:8080/"
        },
        "id": "TJigDlBsKC5k",
        "outputId": "175b49bd-14e2-4399-fed0-336f11392559"
      },
      "execution_count": 17,
      "outputs": [
        {
          "output_type": "execute_result",
          "data": {
            "text/plain": [
              "array([[1., 0., 0., 0., 0.],\n",
              "       [0., 1., 0., 0., 0.],\n",
              "       [0., 0., 1., 0., 0.],\n",
              "       [0., 0., 0., 1., 0.],\n",
              "       [0., 0., 0., 0., 1.]])"
            ]
          },
          "metadata": {},
          "execution_count": 17
        }
      ]
    },
    {
      "cell_type": "code",
      "source": [],
      "metadata": {
        "id": "1HCYZFowKyxJ"
      },
      "execution_count": null,
      "outputs": []
    }
  ]
}