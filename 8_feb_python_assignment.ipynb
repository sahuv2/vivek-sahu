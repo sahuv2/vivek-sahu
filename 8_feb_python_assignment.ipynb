{
  "nbformat": 4,
  "nbformat_minor": 0,
  "metadata": {
    "colab": {
      "provenance": []
    },
    "kernelspec": {
      "name": "python3",
      "display_name": "Python 3"
    },
    "language_info": {
      "name": "python"
    }
  },
  "cells": [
    {
      "cell_type": "markdown",
      "source": [
        "Q1. What is Abstraction in OOps? Explain with an example. \n"
      ],
      "metadata": {
        "id": "3W_FtFj2WuBE"
      }
    },
    {
      "cell_type": "markdown",
      "source": [
        "In object-oriented programming (OOP), abstraction is a fundamental principle that allows developers to create abstract representations of real-world or conceptual entities.to ready skleton and blue print."
      ],
      "metadata": {
        "id": "8L8InG5XWttF"
      }
    },
    {
      "cell_type": "code",
      "source": [
        "import abc\n",
        "class data_science:\n",
        "  @abc.abstractmethod\n",
        "  def student_id(self):\n",
        "    pass\n",
        "  @abc.abstractmethod\n",
        "  def student_pass(self):\n",
        "    pass\n"
      ],
      "metadata": {
        "id": "kf29Ud08ZNu5"
      },
      "execution_count": 1,
      "outputs": []
    },
    {
      "cell_type": "markdown",
      "source": [
        "Q2. Differentiate between Abstraction and Encapsulation. Explain with an example."
      ],
      "metadata": {
        "id": "aQXAL2oKZRCi"
      }
    },
    {
      "cell_type": "markdown",
      "source": [
        "In object-oriented programming (OOP), abstraction is a fundamental principle that allows developers to create abstract representations of real-world or conceptual entities.to ready skleton and blue print."
      ],
      "metadata": {
        "id": "CE2JLGRmaSMj"
      }
    },
    {
      "cell_type": "code",
      "source": [
        "import abc\n",
        "class data_science:\n",
        "  @abc.abstractmethod\n",
        "  def student_id(self):\n",
        "    pass\n",
        "  @abc.abstractmethod\n",
        "  def student_pass(self):\n",
        "    pass\n"
      ],
      "metadata": {
        "id": "pmQSvgqfaYpr"
      },
      "execution_count": 2,
      "outputs": []
    },
    {
      "cell_type": "markdown",
      "source": [
        "encapsulation the enternal data of object is hidden from outside access. and can only be manuplated trough a well defined set of public method or interface provide the object."
      ],
      "metadata": {
        "id": "UZ97iIg8aSA6"
      }
    },
    {
      "cell_type": "code",
      "execution_count": 4,
      "metadata": {
        "id": "IlzYv51HWsrK"
      },
      "outputs": [],
      "source": [
        "class science:\n",
        "  def __init__(self, a, b):\n",
        "     self.__a =a\n",
        "     self.__b = b\n",
        "\n"
      ]
    },
    {
      "cell_type": "markdown",
      "source": [
        "Q3. What is abc module in python? Why is it used? \n"
      ],
      "metadata": {
        "id": "SrFHqmb7cmGm"
      }
    },
    {
      "cell_type": "markdown",
      "source": [
        "in python abc module stand for \"abstract base classes\"."
      ],
      "metadata": {
        "id": "RWF3nQigd5OL"
      }
    },
    {
      "cell_type": "markdown",
      "source": [
        "it is used for several perpoes\n",
        "interface definition , Polymorphism and Duck Typing , Design and Code Organization"
      ],
      "metadata": {
        "id": "AdokhhkId5Kx"
      }
    },
    {
      "cell_type": "markdown",
      "source": [
        "Q4. How can we achieve data abstraction? \n"
      ],
      "metadata": {
        "id": "PDCrmrdjd5Hr"
      }
    },
    {
      "cell_type": "markdown",
      "source": [
        "to achive data abstraction , this step,                                                                            1. identify the essential properpites and behaviour \n",
        " 2. define a data interface \n",
        " 3. encapsulate the data \n",
        " 4.hide impletentation details\n",
        " 5.document the abstraction"
      ],
      "metadata": {
        "id": "PlMKyG3gd47Z"
      }
    },
    {
      "cell_type": "markdown",
      "source": [
        "Q5. Can we create an instance of an abstract class? Explain your answer. \n"
      ],
      "metadata": {
        "id": "rAwcdsiBd44Y"
      }
    },
    {
      "cell_type": "markdown",
      "source": [
        "No, you cannot create an instance of an abstract class directly.\n",
        "abstract classes are designed to be inherited from and serve as a base for concrete classes. They cannot be instantiated directly because they may contain incomplete or abstract methods that require implementation in the subclasses."
      ],
      "metadata": {
        "id": "ijBws_3CgdKu"
      }
    },
    {
      "cell_type": "code",
      "source": [],
      "metadata": {
        "id": "e2tFshGLcRHo"
      },
      "execution_count": null,
      "outputs": []
    }
  ]
}