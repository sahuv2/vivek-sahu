{
  "nbformat": 4,
  "nbformat_minor": 0,
  "metadata": {
    "colab": {
      "provenance": []
    },
    "kernelspec": {
      "name": "python3",
      "display_name": "Python 3"
    },
    "language_info": {
      "name": "python"
    }
  },
  "cells": [
    {
      "cell_type": "markdown",
      "source": [
        "## Q1: What is the difference between a t-test and a z-test? Provide an example scenario where you would  use each type of test."
      ],
      "metadata": {
        "id": "UE_30DFbkhar"
      }
    },
    {
      "cell_type": "markdown",
      "source": [
        "\n",
        "1.Z-tests are used for testing two population means while t-tests are used for testing one population mean\n",
        "\n",
        "2.The z-test assumes that the population standard deviation is known, or the sample size is large (typically greater than 30). On the other hand, the t-test"
      ],
      "metadata": {
        "id": "r_BBnPgYkhX7"
      }
    },
    {
      "cell_type": "markdown",
      "source": [
        "## Q2: Differentiate between one-tailed and two-tailed tests."
      ],
      "metadata": {
        "id": "WqkVwNbmkhVM"
      }
    },
    {
      "cell_type": "markdown",
      "source": [
        "\n",
        "\n",
        "Here's the difference between one-tailed and two-tailed tests:\n",
        "\n",
        "One-tailed test: Also known as a directional test, a one-tailed test is used when the alternative hypothesis specifies the direction of the expected difference or relationship between variables.\n",
        "\n",
        "\n",
        "Two-tailed test: Also known as a nondirectional test, a two-tailed test is used when the alternative hypothesis does not specify the direction of the expected difference or relationship between variables."
      ],
      "metadata": {
        "id": "jwQk1IVgkhPS"
      }
    },
    {
      "cell_type": "markdown",
      "source": [
        "# Q3: Explain the concept of Type 1 and Type 2 errors in hypothesis testing. Provide an example scenario for  each type of error."
      ],
      "metadata": {
        "id": "cZgKxSt8khMl"
      }
    },
    {
      "cell_type": "markdown",
      "source": [
        "Type 1 Error (False Positive):\n",
        "A Type 1 error occurs when we reject the null hypothesis when it is actually true\n",
        "\n",
        "Example Scenario:\n",
        "Let's say a pharmaceutical company is conducting clinical trials for a new drug designed to lower blood pressure. The null hypothesis (H0) is that the drug has no effect on blood pressure. The alternative hypothesis (Ha) is that the drug does have a significant effect in reducing blood pressure.\n",
        "\n",
        "\n",
        "Type 2 Error (False Negative):\n",
        "A Type 2 error occurs when we fail to reject the null hypothesis when it is actually false.\n",
        "\n",
        "Example Scenario:\n",
        "Continuing with the same pharmaceutical company example, suppose the researchers fail to reject the null hypothesis, concluding that the new drug has no effect on blood pressure. However, the drug actually has a significant effect in lowering blood pressure."
      ],
      "metadata": {
        "id": "zzSsJSc5khJ-"
      }
    },
    {
      "cell_type": "markdown",
      "source": [
        "# Q4:  Explain Bayes's theorem with an example."
      ],
      "metadata": {
        "id": "LwQIX5cYkhHL"
      }
    },
    {
      "cell_type": "markdown",
      "source": [
        "Beyesiyan is an approach to data analysis and parameter estimate based on based theorm\n",
        "\n",
        " 1.Independent Ever\n",
        "\n",
        "     Ex: tossing a coin\n",
        "\n",
        "  2.Dependent Ever\n",
        "\n",
        "\n",
        "Using Bayes's theorem, we have:\n",
        "P(A|B) = (P(B|A) * P(A)) / P(B)"
      ],
      "metadata": {
        "id": "OkXUtdazkhEW"
      }
    },
    {
      "cell_type": "markdown",
      "source": [
        "# Q5: What is a confidence interval? How to calculate the confidence interval, explain with an example.\n"
      ],
      "metadata": {
        "id": "un59aYrMkhBT"
      }
    },
    {
      "cell_type": "markdown",
      "source": [
        "A confidence interval is a range of values that is used to estimate an unknown population parameter\n",
        "\n",
        "To calculate a confidence interval, you typically need three pieces of information: the sample mean, the sample standard deviation (or standard error), and the desired level of confidence. The most commonly used confidence levels are 90%, 95%, and 99%.\n",
        "\n"
      ],
      "metadata": {
        "id": "PJsjPr1bkg8O"
      }
    },
    {
      "cell_type": "markdown",
      "source": [
        "# Q6. Use Bayes' Theorem to calculate the probability of an event occurring given prior knowledge of the  event's probability and new evidence. Provide a sample problem and solution.\n"
      ],
      "metadata": {
        "id": "ai5tMW69kg5b"
      }
    },
    {
      "cell_type": "markdown",
      "source": [
        "P(A|B) = (P(B|A) * P(A)) / P(B)\n",
        "\n",
        "\n",
        "Problem: A certain disease affects 1% of the population. There is a diagnostic test for this disease that correctly identifies the disease 95% of the time and produces a false positive result (indicating the presence of the disease when it's not there) 2% of the time. If a person tests positive for the disease, what is the probability that they actually have the disease?\n",
        "\n",
        "Given information:\n",
        "P(A) = 0.01 (The prior probability of having the disease)\n",
        "P(B|A) = 0.95 (The probability of testing positive given that the person has the disease)\n",
        "P(B|¬A) = 0.02 (The probability of testing positive given that the person does not have the disease)\n",
        "\n",
        "We need to calculate P(A|B), the probability of having the disease given that the person tests positive.\n",
        "\n",
        "Using Bayes' Theorem:\n",
        "\n",
        "P(A|B) = (P(B|A) * P(A)) / P(B)\n",
        "\n",
        "First, we calculate P(B), the probability of testing positive:\n",
        "P(B) = P(B|A) * P(A) + P(B|¬A) * P(¬A)\n",
        "= 0.95 * 0.01 + 0.02 * 0.99\n",
        "= 0.0299\n",
        "\n",
        "Now we can substitute the values into Bayes' Theorem:\n",
        "\n",
        "P(A|B) = (0.95 * 0.01) / 0.0299\n",
        "= 0.0095 / 0.0299\n",
        "≈ 0.3177\n",
        "\n",
        "Therefore, the probability that a person actually has the disease given that they test positive is approximately 0.3177, or about 31.77%."
      ],
      "metadata": {
        "id": "zGdRITmyT_Tj"
      }
    },
    {
      "cell_type": "markdown",
      "source": [
        "## Q7. Calculate the 95% confidence interval for a sample of data with a mean of 50 and a standard deviation  of 5. Interpret the results."
      ],
      "metadata": {
        "id": "GsQSwkMGT_Qy"
      }
    },
    {
      "cell_type": "markdown",
      "source": [
        "Confidence Interval = Mean ± (Critical Value * Standard Error)\n",
        "\n",
        "\n",
        "Standard Error = 5 / √100 = 0.5\n",
        "Critical Value (for 95% confidence level) ≈ 1.96\n",
        "\n",
        "Now, we can calculate the confidence interval:\n",
        "\n",
        "Confidence Interval = 50 ± (1.96 * 0.5) = 50 ± 0.98\n",
        "\n",
        "The 95% confidence interval is approximately (49.02, 50.98)."
      ],
      "metadata": {
        "id": "7yBBETPhT_NE"
      }
    },
    {
      "cell_type": "markdown",
      "source": [
        "## Q8. What is the margin of error in a confidence interval? How does sample size affect the margin of error?  Provide an example of a scenario where a larger sample size would result in a smaller margin of error.\n"
      ],
      "metadata": {
        "id": "isg2K-vST_Kk"
      }
    },
    {
      "cell_type": "markdown",
      "source": [
        "The margin of error is influenced by several factors, including the level of confidence desired and the variability in the population.\n",
        "\n",
        "When the sample size is larger, the margin of error decreases because there is more information available from the larger sample to estimate the population parameter.\n",
        "\n",
        "Here's an example to illustrate the impact of sample size on the margin of error:\n",
        "\n",
        "Let's say you want to estimate the average height of students in a particular school. You could take a small sample of 30 students and calculate the sample mean height. With this sample size, the margin of error might be, for instance, ±2 inches.\n",
        "\n"
      ],
      "metadata": {
        "id": "xLHWsV8cVVTW"
      }
    },
    {
      "cell_type": "markdown",
      "source": [
        "## Q9. Calculate the z-score for a data point with a value of 75, a population mean of 70, and a population  standard deviation of 5. Interpret the results.\n"
      ],
      "metadata": {
        "id": "WNYWnem7VVQU"
      }
    },
    {
      "cell_type": "markdown",
      "source": [
        "z = (x - μ) / σ\n",
        "\n",
        "\n",
        "z = (75 - 70) / 5\n",
        "z = 5 / 5\n",
        "z = 1\n",
        "\n",
        "The calculated z-score is 1."
      ],
      "metadata": {
        "id": "gQN5HckMVVN1"
      }
    },
    {
      "cell_type": "markdown",
      "source": [
        "# Q10. In a study of the effectiveness of a new weight loss drug, a sample of 50 participants lost an average  of 6 pounds with a standard deviation of 2.5 pounds. Conduct a hypothesis test to determine if the drug is  significantly effective at a 95% confidence level using a t-test.\n"
      ],
      "metadata": {
        "id": "AoEUDNFKWa5U"
      }
    },
    {
      "cell_type": "markdown",
      "source": [
        "Null Hypothesis (H0): The weight loss drug is not significantly effective.\n",
        "\n",
        "Alternative Hypothesis (H1): The weight loss drug is significantly effective.\n",
        "\n",
        "\n",
        "Sample size (n) = 50\n",
        "Sample mean (x̄) = 6 pounds\n",
        "Standard deviation (σ) = 2.5 pounds\n",
        "Confidence level = 95%\n",
        "\n",
        "t = (x̄ - μ) / (σ / sqrt(n))\n",
        "\n",
        "Here:\n",
        "x̄ = 6 pounds (sample mean)\n",
        "μ = 0 (hypothesized population mean under the null hypothesis)\n",
        "σ = 2.5 pounds (standard deviation)\n",
        "n = 50 (sample size)\n",
        "\n",
        "Plugging in the values:\n",
        "t = (6 - 0) / (2.5 / sqrt(50))\n",
        "\n",
        "\n",
        "\n",
        "Since the sample size is 50, the degrees of freedom is (50 - 1) = 49.\n",
        "\n",
        "Using a t-distribution table or statistical software, the critical value for a one-tailed test at a 95% confidence level with 49 degrees of freedom is approximately 1.676.\n",
        "\n",
        "Step 3: Compare the test statistic with the critical value:\n",
        "If the test statistic is greater than the critical value, we reject the null hypothesis; otherwise, we fail to reject the null hypothesis.\n",
        "\n",
        "If t > critical value, we reject H0.\n",
        "If t ≤ critical value, we fail to reject H0.\n",
        "\n",
        "Now, let's calculate the test statistic and compare it with the critical value.\n",
        "\n",
        "t = (6 - 0) / (2.5 / sqrt(50))\n",
        "≈ 6 / (2.5 / 7.071)\n",
        "≈ 6 / 1.767\n",
        "≈ 3.393\n",
        "\n",
        "Since 3.393 > 1.676 (critical value), we reject the null hypothesis.\n",
        "\n",
        "Conclusion:\n",
        "Based on the results of the t-test, we reject the null hypothesis and conclude that the weight loss drug is significantly effective at a 95% confidence level.\n"
      ],
      "metadata": {
        "id": "1P9vpSbbWa1r"
      }
    },
    {
      "cell_type": "markdown",
      "source": [
        "# Q11. In a survey of 500 people, 65% reported being satisfied with their current job. Calculate the 95%  confidence interval for the true proportion of people who are satisfied with their job.\n"
      ],
      "metadata": {
        "id": "nQovlQZ4Wayy"
      }
    },
    {
      "cell_type": "markdown",
      "source": [
        "CI = p̂ ± Z * sqrt((p̂(1-p̂))/n)\n",
        "\n",
        "Where:\n",
        "CI represents the confidence interval\n",
        "p̂ is the sample proportion (65% or 0.65 in this case)\n",
        "Z is the Z-score corresponding to the desired confidence level (95% confidence level corresponds to a Z-score of approximately 1.96)\n",
        "sqrt represents the square root\n",
        "n is the sample size (500 in this case)\n",
        "\n",
        "Let's calculate the confidence interval:\n",
        "\n",
        "CI = 0.65 ± 1.96 * sqrt((0.65 * (1-0.65))/500)\n",
        "\n",
        "CI = 0.65 ± 1.96 * sqrt(0.2275/500)\n",
        "\n",
        "CI = 0.65 ± 1.96 * sqrt(0.000455)\n",
        "\n",
        "CI = 0.65 ± 1.96 * 0.02134\n",
        "\n",
        "CI = 0.65 ± 0.0418\n",
        "\n",
        "Therefore, the 95% confidence interval for the true proportion of people who are satisfied with their job is approximately 0.6082 to 0.6918."
      ],
      "metadata": {
        "id": "Ml4DrUilWawJ"
      }
    },
    {
      "cell_type": "markdown",
      "source": [
        "## Q12. A researcher is testing the effectiveness of two different teaching methods on student performance.  Sample A has a mean score of 85 with a standard deviation of 6, while sample B has a mean score of 82  with a standard deviation of 5. Conduct a hypothesis test to determine if the two teaching methods have a  significant difference in student performance using a t-test with a significance level of 0.01.\n"
      ],
      "metadata": {
        "id": "wUpkPIY5ZJbJ"
      }
    },
    {
      "cell_type": "markdown",
      "source": [
        "Step 1: State the null hypothesis (H₀) and the alternative hypothesis (H₁):\n",
        "\n",
        "Null hypothesis (H₀): The two teaching methods have the same effect on student performance (μ₁ = μ₂).\n",
        "Alternative hypothesis (H₁): The two teaching methods have a significant difference in student performance (μ₁ ≠ μ₂).\n",
        "\n",
        "Step 2: Determine the significance level (α):\n",
        "In this case, the significance level is given as 0.01, which means we want to be 99% confident in our results.\n",
        "\n",
        "Step 3: Collect the sample data:\n",
        "We have two samples: Sample A with a mean score of 85 and a standard deviation of 6, and Sample B with a mean score of 82 and a standard deviation of 5.\n",
        "\n",
        "Step 4: Determine the test statistic:\n",
        "We'll use the two-sample t-test formula to calculate the test statistic:\n",
        "\n",
        "t = (x̄₁ - x̄₂) / √((s₁² / n₁) + (s₂² / n₂))\n",
        "\n",
        "\n",
        "\n",
        "\n",
        "Using a t-distribution table or a statistical software, the critical t-value for a two-tailed test with a significance level of 0.01 and an infinite degrees of freedom (approximated as a large sample size) is approximately ±2.617.\n",
        "\n",
        "Step 6: Compute the test statistic:\n",
        "Substituting the given values into the formula, we have:\n",
        "\n",
        "t = (85 - 82) / √((6² / n₁) + (5² / n₂))\n",
        "\n",
        "\n",
        "Step 8: Make a decision:\n",
        "Compare the p-value to the significance level (α). If the p-value is less than α, we reject the null hypothesis (H₀) and conclude that there is a significant difference in student performance between the two teaching methods. Otherwise, if the p-value is greater than α, we fail to reject the null hypothesis and conclude that there is not enough evidence to support a significant difference in student performance.\n",
        "\n",
        "Please provide the sample sizes (n₁ and n₂) so that we can calculate the test statistic and make a decision based on the results."
      ],
      "metadata": {
        "id": "agXINMFlZJYb"
      }
    },
    {
      "cell_type": "markdown",
      "source": [
        "# Q13. A population has a mean of 60 and a standard deviation of 8. A sample of 50 observations has a mean  of 65. Calculate the 90% confidence interval for the true population mean."
      ],
      "metadata": {
        "id": "5NUXXRNaZJVM"
      }
    },
    {
      "cell_type": "markdown",
      "source": [
        "Confidence interval = sample mean ± (critical value * standard deviation / √sample size)\n",
        "\n",
        "\n",
        "The critical value for a 90% confidence level is found by subtracting (1 - confidence level) / 2 from 1 and then looking up the resulting value in the standard normal distribution table. For a 90% confidence level, the critical value is approximately 1.645.\n",
        "\n",
        "\n",
        "Confidence interval = 65 ± (1.645 * 8 / √50)\n",
        "\n",
        "Calculating the standard deviation of the sample mean (standard error):\n",
        "\n",
        "Standard error = standard deviation / √sample size\n",
        "Standard error = 8 / √50 ≈ 1.13\n",
        "\n",
        "Now, we can calculate the confidence interval:\n",
        "\n",
        "Lower bound = 65 - (1.645 * 1.13) ≈ 65 - 1.86 ≈ 63.14\n",
        "Upper bound = 65 + (1.645 * 1.13) ≈ 65 + 1.86 ≈ 66.86\n",
        "\n",
        "The 90% confidence interval for the true population mean is approximately 63.14 to 66.86."
      ],
      "metadata": {
        "id": "el8XO3d2ZJTD"
      }
    },
    {
      "cell_type": "markdown",
      "source": [
        "# Q14. In a study of the effects of caffeine on reaction time, a sample of 30 participants had an average  reaction time of 0.25 seconds with a standard deviation of 0.05 seconds. Conduct a hypothesis test to  determine if the caffeine has a significant effect on reaction time at a 90% confidence level using a t-test.\n"
      ],
      "metadata": {
        "id": "EX4xUQA-ZJQs"
      }
    },
    {
      "cell_type": "markdown",
      "source": [
        "Null hypothesis (H₀): Caffeine does not have a significant effect on reaction time.\n",
        "Alternative hypothesis (H₁): Caffeine has a significant effect on reaction time.\n",
        "\n",
        "Given:\n",
        "Sample size (n) = 30\n",
        "Sample mean (x̄) = 0.25 seconds\n",
        "Sample standard deviation (s) = 0.05 seconds\n",
        "Confidence level = 90% (which corresponds to a significance level of 0.10)\n",
        "\n",
        "First, let's calculate the standard error of the mean (SEM):\n",
        "SEM = s / √n\n",
        "= 0.05 / √30\n",
        "≈ 0.0091\n",
        "\n",
        "Next, we can calculate the t-statistic using the formula:\n",
        "t = (x̄ - μ) / SEM\n",
        "\n",
        "t = (0.25 - μ₀) / SEM\n",
        "= (0.25 - 0.25) / 0.0091\n",
        "= 0 / 0.0091\n",
        "= 0\n",
        "\n",
        "The calculated t-statistic is 0."
      ],
      "metadata": {
        "id": "prf_7byRZJOI"
      }
    },
    {
      "cell_type": "markdown",
      "source": [],
      "metadata": {
        "id": "ojyo_0EEZJLe"
      }
    },
    {
      "cell_type": "markdown",
      "source": [],
      "metadata": {
        "id": "ukBG_A6zZJI8"
      }
    }
  ]
}