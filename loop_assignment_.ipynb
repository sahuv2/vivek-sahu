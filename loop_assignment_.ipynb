{
  "nbformat": 4,
  "nbformat_minor": 0,
  "metadata": {
    "colab": {
      "provenance": []
    },
    "kernelspec": {
      "name": "python3",
      "display_name": "Python 3"
    },
    "language_info": {
      "name": "python"
    }
  },
  "cells": [
    {
      "cell_type": "markdown",
      "source": [
        "Q1.  Explain with an example each when to use a for loop and a while loop. \n"
      ],
      "metadata": {
        "id": "ky3u1BmnZBdr"
      }
    },
    {
      "cell_type": "markdown",
      "source": [
        "For loop\n"
      ],
      "metadata": {
        "id": "A0BKEQpCUwVN"
      }
    },
    {
      "cell_type": "markdown",
      "source": [
        "A for loop is typically used when you know the number of iterations you want to perform, or when you need to iterate over a known sequence of values. Here's an example of a for loop in Python that prints the numbers from 1 to 5:"
      ],
      "metadata": {
        "id": "vl9PzTR4U3nI"
      }
    },
    {
      "cell_type": "code",
      "source": [
        "for i in range(1,6):\n",
        "    print(i)"
      ],
      "metadata": {
        "colab": {
          "base_uri": "https://localhost:8080/"
        },
        "id": "XfDlhAzPTR6F",
        "outputId": "2458a77f-767b-41fb-bd55-becb8d84e80e"
      },
      "execution_count": null,
      "outputs": [
        {
          "output_type": "stream",
          "name": "stdout",
          "text": [
            "1\n",
            "2\n",
            "3\n",
            "4\n",
            "5\n"
          ]
        }
      ]
    },
    {
      "cell_type": "markdown",
      "source": [
        "While loop"
      ],
      "metadata": {
        "id": "ktpUfaEaVfwf"
      }
    },
    {
      "cell_type": "markdown",
      "source": [
        "A while loop, on the other hand, is typically used when you don't know how many iterations you need to perform. Instead, the loop will continue to execute as long as a certain condition is true. Here's an example of a while loop in Python that prints the numbers from 1 to 5:\n",
        "\n",
        "\n",
        "\n"
      ],
      "metadata": {
        "id": "e_kPD8AtV3r-"
      }
    },
    {
      "cell_type": "code",
      "source": [
        "i = 1\n",
        "while i <= 5:\n",
        "   print(i)\n",
        "   i+=1"
      ],
      "metadata": {
        "colab": {
          "base_uri": "https://localhost:8080/"
        },
        "id": "lkSPDfKRVqhO",
        "outputId": "8da490be-54d8-4df0-f077-925fbb4057fd"
      },
      "execution_count": null,
      "outputs": [
        {
          "output_type": "stream",
          "name": "stdout",
          "text": [
            "1\n",
            "2\n",
            "3\n",
            "4\n",
            "5\n"
          ]
        }
      ]
    },
    {
      "cell_type": "markdown",
      "source": [
        "Q2.  Write a python program to print the sum and product of the first 10 natural numbers using for  and while loop. "
      ],
      "metadata": {
        "id": "PTeYvetRZW46"
      }
    },
    {
      "cell_type": "markdown",
      "source": [
        "Calculating A For loop the sum and produt of first ten natural number"
      ],
      "metadata": {
        "id": "lVIC12MnaQsL"
      }
    },
    {
      "cell_type": "code",
      "source": [
        "sum = 0\n",
        "product =1\n",
        "\n",
        "for i in range(1,11):\n",
        "   sum+=0\n",
        "   product*=1\n",
        "\n",
        "print(\"sum of  first ten natural numbers\", sum)\n",
        "print(\"product of first ten natural numbers \", product)\n",
        "\n",
        " "
      ],
      "metadata": {
        "colab": {
          "base_uri": "https://localhost:8080/"
        },
        "id": "674xg5SaZeKc",
        "outputId": "59969872-c6a9-418f-c47e-6128fabcb63b"
      },
      "execution_count": null,
      "outputs": [
        {
          "output_type": "stream",
          "name": "stdout",
          "text": [
            "sum of  first ten natural numbers 0\n",
            "product of first ten natural numbers  1\n"
          ]
        }
      ]
    },
    {
      "cell_type": "markdown",
      "source": [
        "calculating a while loop the sum and product of first ten natural numbers"
      ],
      "metadata": {
        "id": "JMkkJymScUKr"
      }
    },
    {
      "cell_type": "code",
      "source": [
        "sum = 0\n",
        "produt = 1\n",
        "i = 1\n",
        "\n",
        "while i<=10:\n",
        "  sum+=i\n",
        "  produt*=i\n",
        "  i +=1\n",
        "  print(\"sum of  first ten natural numbers\", sum)\n",
        "  print(\" produt of first ten natural numbers\", produt)\n"
      ],
      "metadata": {
        "id": "6pyin5xBclVy",
        "colab": {
          "base_uri": "https://localhost:8080/"
        },
        "outputId": "671bab71-839f-4b33-b276-01f02866058e"
      },
      "execution_count": null,
      "outputs": [
        {
          "output_type": "stream",
          "name": "stdout",
          "text": [
            "sum of  first ten natural numbers 1\n",
            " produt of first ten natural numbers 1\n",
            "sum of  first ten natural numbers 3\n",
            " produt of first ten natural numbers 2\n",
            "sum of  first ten natural numbers 6\n",
            " produt of first ten natural numbers 6\n",
            "sum of  first ten natural numbers 10\n",
            " produt of first ten natural numbers 24\n",
            "sum of  first ten natural numbers 15\n",
            " produt of first ten natural numbers 120\n",
            "sum of  first ten natural numbers 21\n",
            " produt of first ten natural numbers 720\n",
            "sum of  first ten natural numbers 28\n",
            " produt of first ten natural numbers 5040\n",
            "sum of  first ten natural numbers 36\n",
            " produt of first ten natural numbers 40320\n",
            "sum of  first ten natural numbers 45\n",
            " produt of first ten natural numbers 362880\n",
            "sum of  first ten natural numbers 55\n",
            " produt of first ten natural numbers 3628800\n"
          ]
        }
      ]
    },
    {
      "cell_type": "markdown",
      "source": [
        " the  sum and produt are first ten natural numbers. the output wiil be:"
      ],
      "metadata": {
        "id": "zixnNWR8fIzu"
      }
    },
    {
      "cell_type": "markdown",
      "source": [
        "sum of  first ten natural numbers 55\n",
        "\n",
        "\n",
        "\n",
        "\n"
      ],
      "metadata": {
        "id": "z3sL-meFhECt"
      }
    },
    {
      "cell_type": "markdown",
      "source": [
        "produt of first ten natural numbers 3628800"
      ],
      "metadata": {
        "id": "c1KC2PUQhyF9"
      }
    },
    {
      "cell_type": "markdown",
      "source": [
        "\n",
        "\n",
        "\n",
        "Q3. Create a python program to compute the electricity bill for a household. \n",
        "The per-unit charges in rupees are as follows: For the first 100 units, the user will be charged Rs. 4.5 per  unit, for the next 100 units, the user will be charged Rs. 6 per unit, and for the next 100 units, the user will  be charged Rs. 10 per unit, After 300 units and above the user will be charged Rs. 20 per unit. \n",
        "You are required to take the units of electricity consumed in a month from the user as input. \n",
        "Your program must pass this test case: when the unit of electricity consumed by the user in a month is  310, the total electricity bill should be 2250\n",
        "\n",
        "\n",
        "\n"
      ],
      "metadata": {
        "id": "qkrxB31TgeQP"
      }
    },
    {
      "cell_type": "code",
      "source": [
        "units_consumed=int(input(\"Enter the units of electricity consumed in a month:\"))\n",
        "\n",
        "if units_consumed <= 100:\n",
        "    charges_per_unit = 4.5\n",
        "elif units_consumed <= 200:\n",
        "    charges_per_unit = 6\n",
        "elif units_consumed <= 300:\n",
        "    charges_per_unit = 10\n",
        "else:\n",
        "    charges_per_unit = 20\n",
        "\n",
        "total_bill = units_consumed * charges_per_unit\n",
        "print(f\"Your total electricity bill is {total_bill} rupees\")"
      ],
      "metadata": {
        "id": "LhA9rhKkjdcn",
        "colab": {
          "base_uri": "https://localhost:8080/"
        },
        "outputId": "c89a8fe4-6fe9-429b-b6b7-e8355b6bbad0"
      },
      "execution_count": null,
      "outputs": [
        {
          "output_type": "stream",
          "name": "stdout",
          "text": [
            "Enter the units of electricity consumed in a month:310\n",
            "Your total electricity bill is 6200 rupees\n"
          ]
        }
      ]
    },
    {
      "cell_type": "markdown",
      "source": [
        "Q4. Create a list of numbers from 1 to 100. Use for loop and while loop to calculate the cube of each  number and if string = \"I want to become a data scientist\" \n",
        "the cube of that number is divisible by 4 or 5 then append that number in a list and print  that list. \n"
      ],
      "metadata": {
        "id": "OOLxWyDKn5ez"
      }
    },
    {
      "cell_type": "markdown",
      "source": [
        "using for loop"
      ],
      "metadata": {
        "id": "YX5kxfLiqHSb"
      }
    },
    {
      "cell_type": "code",
      "source": [
        "cube=[]\n",
        "for i in range(1,101):\n",
        "    cube=i ** 3\n",
        "    if cube %4 ==0 or cube %5 ==0:\n",
        "      cube.append(i)\n",
        "print(cube)"
      ],
      "metadata": {
        "id": "Izit6yadrYFZ"
      },
      "execution_count": null,
      "outputs": []
    },
    {
      "cell_type": "markdown",
      "source": [
        "using for while loop"
      ],
      "metadata": {
        "id": "207135j7svXx"
      }
    },
    {
      "cell_type": "code",
      "source": [
        "cube = []\n",
        "i = 1\n",
        "while i<=100:\n",
        "   cube= i** 3\n",
        "   if cube %4 == 0 and cube % 5 == 0:\n",
        "     cube.append(i)\n",
        "   i+= 1\n",
        "   print(cube)"
      ],
      "metadata": {
        "id": "3rzgXLEZs0tn"
      },
      "execution_count": null,
      "outputs": []
    },
    {
      "cell_type": "markdown",
      "source": [
        "Q5.  Write a program to filter count vowels in the below-given string. "
      ],
      "metadata": {
        "id": "IsXNDzzotxKn"
      }
    },
    {
      "cell_type": "code",
      "source": [
        "string = input(\"enter a string\")\n",
        "vowels = 'aeiouAEIOU'\n",
        "count = 0\n",
        "\n",
        "for c in string:\n",
        "    if c in vowels:\n",
        "        count += 1\n",
        "\n",
        "print(\"The number of vowels in the given string is:\", count)\n"
      ],
      "metadata": {
        "colab": {
          "base_uri": "https://localhost:8080/"
        },
        "id": "LM8QN5djt0u2",
        "outputId": "1adbf1f6-a667-4843-a489-529d43f8ccad"
      },
      "execution_count": null,
      "outputs": [
        {
          "output_type": "stream",
          "name": "stdout",
          "text": [
            "enter a stringbelow-given\n",
            "The number of vowels in the given string is: 4\n"
          ]
        }
      ]
    },
    {
      "cell_type": "code",
      "source": [],
      "metadata": {
        "id": "mQTPQCWKwImX"
      },
      "execution_count": null,
      "outputs": []
    }
  ]
}