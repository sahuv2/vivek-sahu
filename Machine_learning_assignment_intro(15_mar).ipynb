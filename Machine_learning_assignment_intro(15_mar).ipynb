{
  "nbformat": 4,
  "nbformat_minor": 0,
  "metadata": {
    "colab": {
      "provenance": []
    },
    "kernelspec": {
      "name": "python3",
      "display_name": "Python 3"
    },
    "language_info": {
      "name": "python"
    }
  },
  "cells": [
    {
      "cell_type": "markdown",
      "source": [
        "# Q1- Explain the following with an exampl of\n",
        "\n",
        "a) Artificial IntElligence\n",
        "b) Machine LEarning,\n",
        "c) Deep Learning\n"
      ],
      "metadata": {
        "id": "8Dx7GYfHZekd"
      }
    },
    {
      "cell_type": "markdown",
      "source": [
        "Artifical intelligence(AI) :-Smart application that can performs its own task without any human intervension.\n",
        "\n",
        "example: robots,self driving car,alexa\n",
        "\n",
        "Machine learning(ML):- It is the subset of ai ,\n",
        "                       It provides stats tools, analyze, visulize, and create predective models,Forecasting\n",
        "\n",
        "                     example: amazon.ai, netflix\n",
        "\n",
        "  deep learning:-mimic the human brain , Multilayed neural networks\n",
        "\n",
        "       examples: object detection, image recognize"
      ],
      "metadata": {
        "id": "jukLgAFeZ3Dz"
      }
    },
    {
      "cell_type": "markdown",
      "source": [
        "## Q2- What is supervised learning? List some examples of supervised learning."
      ],
      "metadata": {
        "id": "HXRHiHs5Z3BB"
      }
    },
    {
      "cell_type": "markdown",
      "source": [
        "Supervised learning is a type of machine learning approach where the algorithm is trained on a labeled dataset. In supervised learning, the algorithm learns to map input data to corresponding output labels based on the provided examples.\n",
        "\n",
        "supervised ml are two types : classification and regression"
      ],
      "metadata": {
        "id": "ioufdpMnZ2-J"
      }
    },
    {
      "cell_type": "markdown",
      "source": [
        "## Q3- What is unsupervised learning? List some examplEs of unsupervised learning."
      ],
      "metadata": {
        "id": "MY1s8psnZ27H"
      }
    },
    {
      "cell_type": "markdown",
      "source": [
        "Unsupervised learning is a machine learning approach in which the algorithm learns from unlabeled data without any explicit supervision or labeled examples.\n",
        "\n",
        "ex: customer segmentation"
      ],
      "metadata": {
        "id": "OZcDvqGlZ24J"
      }
    },
    {
      "cell_type": "markdown",
      "source": [
        "# Q4- What is the differnce between AI, ML, DL, and DS?"
      ],
      "metadata": {
        "id": "AFLtr1eqZ21x"
      }
    },
    {
      "cell_type": "markdown",
      "source": [
        "Artifical intelligence(AI) :-Smart application that can performs its own task without any human intervension.\n",
        "\n",
        "example: robots,self driving car,alexa\n",
        "\n",
        "Machine learning(ML):- It is the subset of ai ,\n",
        "                       It provides stats tools, analyze, visulize, and create predective models,Forecasting\n",
        "\n",
        "                     example: amazon.ai, netflix\n",
        "\n",
        "  deep learning:-mimic the human brain , Multilayred neural networks\n",
        "\n",
        "       examples: object detection, image recognize\n",
        "\n",
        "  ds: It is a part of everything"
      ],
      "metadata": {
        "id": "5MYcLXGSZ2y5"
      }
    },
    {
      "cell_type": "markdown",
      "source": [
        "# Q5- What are the main differences beetween supervised, unsupervised and semi supervised learning?"
      ],
      "metadata": {
        "id": "bmht0rVxZ2sZ"
      }
    },
    {
      "cell_type": "markdown",
      "source": [
        "Supervised learning is a type of machine learning approach where the algorithm is trained on a labeled dataset. In supervised learning, the algorithm learns to map input data to corresponding output labels based on the provided examples.\n",
        "\n",
        "supervised ml are two types : classification and regression\n",
        "\n",
        "Unsupervised learning is a machine learning approach in which the algorithm learns from unlabeled data without any explicit supervision or labeled examples.\n",
        "\n",
        "ex: customer segmentation\n",
        "\n",
        "semisupervised = supervised+unsupervised\n"
      ],
      "metadata": {
        "id": "SIUqr-bRfHUg"
      }
    },
    {
      "cell_type": "markdown",
      "source": [
        "# Q6- What is train, test and validation split? Explain the importance of each term.\n"
      ],
      "metadata": {
        "id": "Hnx1vBM7fHOh"
      }
    },
    {
      "cell_type": "markdown",
      "source": [
        "Training Set:\n",
        "The training set is the portion of data used to train a machine learning model. It contains labeled examples (input data and corresponding target values) that the model uses to learn patterns and relationships between the input features and the target variable.\n",
        "\n",
        "Test Set:\n",
        "The test set is a separate portion of data that is used to evaluate the performance of a trained model. It contains examples that the model has not seen during the training process.\n",
        "\n",
        "Validation Set:\n",
        "The validation set is an additional subset of data that is used during the training process to fine-tune the model and make decisions about its architecture or hyperparameters. It serves as an intermediate evaluation step between the training set and the test"
      ],
      "metadata": {
        "id": "SeLTTurJfHLO"
      }
    },
    {
      "cell_type": "markdown",
      "source": [
        "# Q7- How can unsupervised Learning? when used in anomaly detection?\n"
      ],
      "metadata": {
        "id": "520VmTmIfHIY"
      }
    },
    {
      "cell_type": "markdown",
      "source": [
        "Unsupervised learning can be used in anomaly detection by leveraging its ability to identify patterns and detect deviations from those patterns in unlabeled data. Here's a general approach to using unsupervised learning for anomaly detection:\n",
        "\n",
        "Data preprocessing: Prepare your data by cleaning, normalizing, and transforming it as needed. Ensure that the data is in a suitable format for unsupervised learning algorithms.\n",
        "\n",
        "Select an unsupervised learning algorithm: Choose an algorithm that can effectively capture the underlying structure of the data and identify anomalies. Some commonly used algorithms for anomaly detection include:"
      ],
      "metadata": {
        "id": "ZDeIN8cJgyvY"
      }
    },
    {
      "cell_type": "markdown",
      "source": [
        "# Q8- List down some commonly used supervised learning? algorithms and unsupervised learning  algorithms."
      ],
      "metadata": {
        "id": "hxF0nvmdhCHy"
      }
    },
    {
      "cell_type": "markdown",
      "source": [
        "\n",
        "Sure! Here are some commonly used algorithms for supervised learning:\n",
        "\n",
        "1)Linear Regression\n",
        "\n",
        "2)Logistic Regression\n",
        "\n",
        "3)Decision Trees\n",
        "\n",
        "4)Random Forests\n",
        "\n",
        "5)Support Vector Machines (SVM)\n",
        "\n",
        "6)Naive Bayes\n",
        "\n",
        "7)K-Nearest Neighbors (KNN)\n",
        "\n",
        "8)Neural Networks (Multilayer Perceptron)\n",
        "\n",
        "9)Gradient Boosting (e.g., XGBoost, AdaBoost)\n",
        "\n",
        "10)Gaussian Processes\n",
        "\n",
        "And here are some commonly used algorithms for unsupervised learning:\n",
        "\n",
        "1)K-Means Clustering\n",
        "\n",
        "2)Hierarchical Clustering\n",
        "\n",
        "3)DBSCAN (Density-Based Spatial Clustering of Applications with Noise)\n",
        "\n",
        "4)Gaussian Mixture Models (GMM)\n",
        "\n",
        "\n",
        "5)t-Distributed Stochastic Neighbor Embedding (t-SNE)\n",
        "\n",
        "6)Self-Organizing Maps (SOM)\n",
        "\n",
        "7)Apriori (Association Rule Learning)\n",
        "\n",
        "8)DBSCAN (Density-Based Spatial Clustering of Applications with Noise)\n",
        "\n",
        "Autoencoders (for dimensionality reduction and anomaly detection)"
      ],
      "metadata": {
        "id": "doCYs1t7iBVb"
      }
    }
  ]
}