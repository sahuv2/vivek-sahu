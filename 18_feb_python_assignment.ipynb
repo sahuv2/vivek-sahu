{
  "nbformat": 4,
  "nbformat_minor": 0,
  "metadata": {
    "colab": {
      "provenance": []
    },
    "kernelspec": {
      "name": "python3",
      "display_name": "Python 3"
    },
    "language_info": {
      "name": "python"
    }
  },
  "cells": [
    {
      "cell_type": "markdown",
      "source": [
        "## Q1. What is an API? Give an example, where an API is used in real life. \n"
      ],
      "metadata": {
        "id": "S3fJlG3YUOJl"
      }
    },
    {
      "cell_type": "markdown",
      "source": [
        "API stands for Application Programming Interface. It is a set of rules and protocols that allows different software applications to communicate and interact with each other.\n",
        "\n",
        "One real-life example of API usage is in social media platforms. For instance, the Twitter API allows developers to access and interact with Twitter's data and functionality. \n",
        "\n",
        "\n",
        "\n",
        "\n"
      ],
      "metadata": {
        "id": "qFilyDIxUR62"
      }
    },
    {
      "cell_type": "markdown",
      "source": [
        "### Q2. Give advantages and disadvantages of using API.  \n"
      ],
      "metadata": {
        "id": "GEztOVbzUR3W"
      }
    },
    {
      "cell_type": "markdown",
      "source": [
        "\n",
        "##Advantages of using APIs:\n",
        "\n",
        "Flexibility and Interoperability\n",
        "\n",
        "\n",
        "\n",
        " Scalability\n",
        "\n",
        "\n",
        "\n",
        "##Disadvantages of using APIs:\n",
        "\n",
        "Dependency on Third-Party Services\n",
        "\n",
        "Lack of Control\n",
        "\n"
      ],
      "metadata": {
        "id": "pNkGHA7PUR0Q"
      }
    },
    {
      "cell_type": "markdown",
      "source": [
        "### Q3. What is a Web API? Differentiate between API and Web API. \n"
      ],
      "metadata": {
        "id": "d9bALRQQURyY"
      }
    },
    {
      "cell_type": "markdown",
      "source": [
        "\n",
        "A Web API, also known as a Web Application Programming Interface, is an interface provided by a web application or web service that allows other software applications to interact with it over the internet.\n",
        ".\n",
        "\n",
        "Here are a few key differences between a generic API and a Web API:\n",
        "\n",
        "Network communication: A Web API is specifically designed to facilitate communication over the web using protocols like HTTP. It allows clients to make requests to a web server and receive responses in a standardized format, typically in JSON  or XML.\n",
        "\n",
        "Web-specific technologies: Web APIs are often built using web-specific technologies like HTTP, REST (Representational State Transfer), SOAP (Simple Object Access Protocol), and other related web standards. \n"
      ],
      "metadata": {
        "id": "zUHqaT4aURv0"
      }
    },
    {
      "cell_type": "markdown",
      "source": [
        "### Q4. Explain REST and SOAP Architecture. Mention shortcomings of SOAP. \n"
      ],
      "metadata": {
        "id": "RDJe1fE-URqZ"
      }
    },
    {
      "cell_type": "markdown",
      "source": [
        "\n",
        "\n",
        "REST Architecture:\n",
        "\n",
        "REST is an architectural style that follows a set of principles for designing networked applications.\n",
        "\n",
        "RESTful services use standard HTTP methods like GET, POST, PUT, and DELETE to perform operations on resources.\n",
        "\n",
        "SOAP Architecture:\n",
        "\n",
        "SOAP is a protocol for exchanging structured information in web services using XML-based messages.\n",
        "\n",
        "Shortcomings of SOAP:\n",
        "\n",
        "Complexity: SOAP messages are typically verbose and require XML parsing, which adds overhead in terms of bandwidth and processing power.\n",
        "\n",
        "Performance: The XML-based nature of SOAP can result in slower performance compared to REST, especially for mobile and low-bandwidth environments.\n",
        "\n",
        "Lack of flexibility: SOAP has strict rules and a predefined structure,  simplicity, scalability, and wider adoption due to its use of lightweight and widely supported technologies.\n",
        "\n",
        "\n",
        "\n",
        "\n",
        "\n",
        "\n",
        "\n",
        "\n",
        "\n"
      ],
      "metadata": {
        "id": "VWIJxDc3URms"
      }
    },
    {
      "cell_type": "markdown",
      "source": [
        "### Q5. Differentiate between REST and SOAP. \n"
      ],
      "metadata": {
        "id": "PuHf-ehGURhM"
      }
    },
    {
      "cell_type": "markdown",
      "source": [
        "REST: REST is an architectural style that is based on a client-server model. It utilizes the principles of the web, such as using HTTP as the communication protocol and leveraging standard HTTP methods (GET, POST, PUT, DELETE) for data manipulation.\n",
        "\n",
        "SOAP: SOAP is a protocol that defines a set of rules for structuring messages and performing communication between web services. It is a more complex and rigid protocol compared to REST."
      ],
      "metadata": {
        "id": "UOY7FSq4UReD"
      }
    }
  ]
}