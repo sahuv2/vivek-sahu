{
  "nbformat": 4,
  "nbformat_minor": 0,
  "metadata": {
    "colab": {
      "provenance": []
    },
    "kernelspec": {
      "name": "python3",
      "display_name": "Python 3"
    },
    "language_info": {
      "name": "python"
    }
  },
  "cells": [
    {
      "cell_type": "code",
      "execution_count": null,
      "metadata": {
        "id": "E8T34D_-M0jy"
      },
      "outputs": [],
      "source": []
    },
    {
      "cell_type": "markdown",
      "source": [
        "### Q1. What is the Probability density function?\n"
      ],
      "metadata": {
        "id": "MLI9wcymM9u3"
      }
    },
    {
      "cell_type": "markdown",
      "source": [
        "In probability theory and statistics, the probability density function (PDF) is a mathematical function that describes the likelihood of a continuous random variable taking on a particular value.\n",
        "\n",
        "The PDF of a random variable, denoted as f(x), specifies the probability of the random variable falling within a particular range of values."
      ],
      "metadata": {
        "id": "dIXsB3NwM9sI"
      }
    },
    {
      "cell_type": "markdown",
      "source": [
        "### Q2. What are the types of Probability distribution?\n",
        "\n"
      ],
      "metadata": {
        "id": "Y4pJD6-KM9o-"
      }
    },
    {
      "cell_type": "markdown",
      "source": [
        " Here are some commonly probability distributions:\n",
        "\n",
        "Uniform Distribution: This distribution assigns equal probability to all outcomes within a specified range.\n",
        "\n",
        "Normal Distribution (Gaussian Distribution): The normal distribution is a continuous probability distribution that is symmetric and bell-shaped.\n",
        "\n",
        "Binomial Distribution: The binomial distribution describes the number of successes in a fixed number of independent Bernoulli trials, where each trial has the same probability of success.\n",
        "\n",
        "Poisson Distribution: The Poisson distribution models the number of events that occur in a fixed interval of time or space"
      ],
      "metadata": {
        "id": "NYZXj6auM9jK"
      }
    },
    {
      "cell_type": "markdown",
      "source": [
        "## Q3. Write a Python function to calculate the probability density function of a normal distribution with  given mean and standard deviation at a given point.\n"
      ],
      "metadata": {
        "id": "n_XtmACgM9d2"
      }
    },
    {
      "cell_type": "code",
      "source": [
        "import math\n",
        "\n",
        "def calculate_normal_pdf(x, mean, std_dev):\n",
        "    \"\"\"\n",
        "    Calculates the probability density function (PDF) of a normal distribution at a given point.\n",
        "\n",
        "    Parameters:\n",
        "    x (float): The value at which to calculate the PDF.\n",
        "    mean (float): The mean of the normal distribution.\n",
        "    std_dev (float): The standard deviation of the normal distribution.\n",
        "\n",
        "    Returns:\n",
        "    float: The PDF value at the given point.\n",
        "    \"\"\"\n",
        "    exponent = -((x - mean) ** 2) / (2 * std_dev ** 2)\n",
        "    coefficient = 1 / (std_dev * math.sqrt(2 * math.pi))\n",
        "    pdf = coefficient * math.exp(exponent)\n",
        "    return pdf\n"
      ],
      "metadata": {
        "id": "zC_f5kFfOqqd"
      },
      "execution_count": 1,
      "outputs": []
    },
    {
      "cell_type": "code",
      "source": [
        "mean = 0\n",
        "std_dev = 1\n",
        "point = 1.5\n",
        "\n",
        "pdf_value = calculate_normal_pdf(point, mean, std_dev)\n",
        "print(f\"The PDF value at {point} is: {pdf_value}\")\n"
      ],
      "metadata": {
        "colab": {
          "base_uri": "https://localhost:8080/"
        },
        "id": "gJUwVmGFO1en",
        "outputId": "d4cd4f9e-960c-414d-deef-d0e08c62747b"
      },
      "execution_count": 2,
      "outputs": [
        {
          "output_type": "stream",
          "name": "stdout",
          "text": [
            "The PDF value at 1.5 is: 0.12951759566589174\n"
          ]
        }
      ]
    },
    {
      "cell_type": "markdown",
      "source": [
        "### Q4. What are the properties of Binomial distribution? Give two examples of events where binomial  distribution can be applied."
      ],
      "metadata": {
        "id": "6XJ9Jx5qOVWn"
      }
    },
    {
      "cell_type": "markdown",
      "source": [
        "The properties of the Binomial distribution are as follows:\n",
        "\n",
        "Fixed number of trials: The distribution is based on a fixed number of independent and identical trials. Each trial can have two possible outcomes, typically as success (S) or failure (F).\n",
        "\n",
        "Independent trials: The outcome of each trial must be independent of the outcomes of other trials. The result of one trial does not affect the result of another.\n",
        "\n",
        "\n",
        "Discrete outcomes: The distribution deals with discrete outcomes, meaning there are a finite number of possible results.\n",
        "\n",
        "Two examples of events where the Binomial distribution can be applied are:\n",
        "\n",
        "Coin tosses: Suppose you are flipping a fair coin 10 times and want to know the probability of getting exactly 7 heads. This scenario follows the properties of the Binomial distribution, with each toss having two possible outcomes (heads or tails)\n",
        "\n",
        "Product defects: Consider a manufacturing process where a certain percentage of products are defective. You want to determine the probability of finding exactly 3 defective products in a sample of 10.\n",
        "\n",
        "\n"
      ],
      "metadata": {
        "id": "LkslmshEPJVo"
      }
    },
    {
      "cell_type": "markdown",
      "source": [
        "### Q5. Generate a random sample of size 1000 from a binomial distribution with probability of success 0.4  and plot a histogram of the results using matplotlib.\n"
      ],
      "metadata": {
        "id": "PMqwqGlUPumc"
      }
    },
    {
      "cell_type": "code",
      "source": [
        "import numpy as np\n",
        "import matplotlib.pyplot as plt\n",
        "\n",
        "# Set the parameters\n",
        "n = 1000  # Sample size\n",
        "p = 0.4  # Probability of success\n",
        "\n",
        "# Generate random sample\n",
        "sample = np.random.binomial(n=1, p=p, size=n)\n",
        "\n",
        "# Plot histogram\n",
        "plt.hist(sample, bins=2, edgecolor='black')\n",
        "plt.xlabel('Value')\n",
        "plt.ylabel('Frequency')\n",
        "plt.title('Binomial Distribution Sample')\n",
        "plt.show()\n"
      ],
      "metadata": {
        "colab": {
          "base_uri": "https://localhost:8080/",
          "height": 472
        },
        "id": "MLXne3ezQIbo",
        "outputId": "bde01b47-dc2a-46dc-8a3b-31027ef5a57a"
      },
      "execution_count": 3,
      "outputs": [
        {
          "output_type": "display_data",
          "data": {
            "text/plain": [
              "<Figure size 640x480 with 1 Axes>"
            ],
            "image/png": "[encoded data removed]"
          },
          "metadata": {}
        }
      ]
    },
    {
      "cell_type": "markdown",
      "source": [
        "### Q6. Write a Python function to calculate the cumulative distribution function of a Poisson distribution  with given mean at a given point.\n"
      ],
      "metadata": {
        "id": "vb75AUcGQPPW"
      }
    },
    {
      "cell_type": "code",
      "source": [
        "import math\n",
        "\n",
        "def poisson_cdf(mean, k):\n",
        "    if k < 0:\n",
        "        return 0.0\n",
        "    cdf = 0.0\n",
        "    for i in range(k + 1):\n",
        "        cdf += math.exp(-mean) * (mean ** i) / math.factorial(i)\n",
        "    return cdf\n"
      ],
      "metadata": {
        "id": "f34FGl2wQdxC"
      },
      "execution_count": 4,
      "outputs": []
    },
    {
      "cell_type": "markdown",
      "source": [
        "### Q7. How Binomial distribution different from Poisson distribution?\n"
      ],
      "metadata": {
        "id": "OrH69fuqQnXI"
      }
    },
    {
      "cell_type": "markdown",
      "source": [
        "\n",
        "The binomial distribution and the Poisson distribution are both probability distributions used to model discrete events, but they differ in several key aspects.\n",
        "\n",
        "Definition and conditions: The binomial distribution describes the probability of obtaining a certain number of successes in a fixed number of independent Bernoulli trials\n",
        "\n",
        "\n",
        " The Poisson distribution, on the other hand, has only one parameter: the average rate or intensity (λ) at which events occur.\n",
        "\n"
      ],
      "metadata": {
        "id": "GBm1TXlCQsFO"
      }
    },
    {
      "cell_type": "markdown",
      "source": [
        "### Q8. Generate a random sample of size 1000 from a Poisson distribution with mean 5 and calculate the  sample mean and variance."
      ],
      "metadata": {
        "id": "ThCHKv4cRRXq"
      }
    },
    {
      "cell_type": "code",
      "source": [
        "import numpy as np\n",
        "\n",
        "# Set the random seed for reproducibility\n",
        "np.random.seed(42)\n",
        "\n",
        "# Generate a random sample from the Poisson distribution\n",
        "sample = np.random.poisson(5, size=1000)\n",
        "\n",
        "# Calculate the sample mean and variance\n",
        "sample_mean = np.mean(sample)\n",
        "sample_variance = np.var(sample)\n",
        "\n",
        "print(\"Sample Mean:\", sample_mean)\n",
        "print(\"Sample Variance:\", sample_variance)\n"
      ],
      "metadata": {
        "colab": {
          "base_uri": "https://localhost:8080/"
        },
        "id": "MPkLldlCRZ--",
        "outputId": "f10da4b3-8490-4046-84b5-65c056582403"
      },
      "execution_count": 5,
      "outputs": [
        {
          "output_type": "stream",
          "name": "stdout",
          "text": [
            "Sample Mean: 4.985\n",
            "Sample Variance: 4.9967749999999995\n"
          ]
        }
      ]
    },
    {
      "cell_type": "markdown",
      "source": [
        "## Q9. How mean and variance are related in Binomial distribution and Poisson distribution?\n"
      ],
      "metadata": {
        "id": "rhjDMJYWRgQl"
      }
    },
    {
      "cell_type": "markdown",
      "source": [
        "In the Binomial distribution, the mean is equal to the product of the number of trials (n) and the probability of success (p), denoted as μ = np. The variance of the Binomial distribution is given by the product of the number of trials, the probability of success, and the probability of failure (q = 1 - p), denoted as σ^2 = npq.\n",
        "\n",
        "\n",
        "\n",
        "In the Poisson distribution, which describes the number of events occurring in a fixed interval of time or space, the mean (λ) and variance (σ^2) are equal. Both the mean and variance of a Poisson distribution are denoted by λ.\n",
        "\n",
        "Mathematically, for a Poisson distribution, μ = σ^2 = λ.\n",
        "\n",
        "\n",
        "\n"
      ],
      "metadata": {
        "id": "xHEWaK4nRlZM"
      }
    },
    {
      "cell_type": "markdown",
      "source": [
        "# Q10. In normal distribution with respect to mean position, where does the least frequent data appear?\n"
      ],
      "metadata": {
        "id": "fJ0KkMUtSAUF"
      }
    },
    {
      "cell_type": "markdown",
      "source": [
        "In a normal distribution, also known as a Gaussian distribution, the data is symmetrically distributed around the mean. The least frequent data appears in the tails of the distribution, farthest away from the mean. These are the values that are more extreme and less likely to occur compared to values closer to the mean."
      ],
      "metadata": {
        "id": "luz7PTwvSGp5"
      }
    }
  ]
}