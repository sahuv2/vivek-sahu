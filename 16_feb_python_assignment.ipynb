{
  "nbformat": 4,
  "nbformat_minor": 0,
  "metadata": {
    "colab": {
      "provenance": []
    },
    "kernelspec": {
      "name": "python3",
      "display_name": "Python 3"
    },
    "language_info": {
      "name": "python"
    }
  },
  "cells": [
    {
      "cell_type": "markdown",
      "source": [
        "Q1. What is a database? Differentiate between SQL and NoSQL databases. \n"
      ],
      "metadata": {
        "id": "pk7v8kWed7yN"
      }
    },
    {
      "cell_type": "markdown",
      "source": [
        "Q1. A database is a structured collection of data that is organized, managed, and accessed electronically. It is designed to store and retrieve data efficiently, allowing for efficient data management and manipulation.\n",
        "\n",
        "\n",
        "SQL Databases:\n",
        "\n",
        "SQL databases are based on a relational model and use structured query language (SQL) for defining and manipulating the data.\n",
        "They have a predefined schema that defines the structure of the data and the relationships between different tables.\n",
        "Popular examples of SQL databases include MySQL, Oracle, PostgreSQL\n",
        "\n",
        "NoSQL Databases:\n",
        "\n",
        "NoSQL databases are designed to handle unstructured and semi-structured data. They offer a flexible schema and can handle a variety of data types.\n",
        "\n",
        "NoSQL databases use various data models like key-value, document, columnar, and graph to store and retrieve data.\n"
      ],
      "metadata": {
        "id": "my_kj55keCBp"
      }
    },
    {
      "cell_type": "markdown",
      "source": [
        "Q2. What is DDL? Explain why CREATE, DROP, ALTER, and TRUNCATE are used with an example. "
      ],
      "metadata": {
        "id": "DP6dXOcLhVzC"
      }
    },
    {
      "cell_type": "markdown",
      "source": [
        "DDL stands for Data Definition Language. "
      ],
      "metadata": {
        "id": "NqeCTqr27vE1"
      }
    },
    {
      "cell_type": "markdown",
      "source": [
        "  1.CREATE: The CREATE statement is used to create a new database object, such as a table, \n",
        "                \n",
        "              example:CREATE TABLE Customers ( ID INT, Name VARCHAR(50), Email VARCHAR(100) );\n",
        "\n",
        "   2.DROP: The DROP statement is used to remove an existing database object from the database.\n",
        "\n",
        "\n",
        "       example : DROP TABLE employes;\n",
        "\n",
        "   \n",
        "\n",
        "   3.ALTER: The ALTER statement is used to modify the structure of an existing database object\n",
        "           \n",
        "\n",
        "                 example :     ALTER TABLE employees\n",
        "                               ADD COLUMN email VARCHAR(255);\n",
        "\n",
        "   4.TRUNCATE: The TRUNCATE statement is used to remove all the data from a table,\n",
        "\n",
        "           example : TRUNCATE TABLE employees;\n"
      ],
      "metadata": {
        "id": "HAC1M-jj7vCC"
      }
    },
    {
      "cell_type": "markdown",
      "source": [
        "Q3. What is DML? Explain INSERT, UPDATE, and DELETE with an example. \n"
      ],
      "metadata": {
        "id": "_mr_qlORJ6TP"
      }
    },
    {
      "cell_type": "markdown",
      "source": [
        "\n",
        "DML stand for data manipulation language.\n",
        "\n",
        "1. INSERT : the insert command to used add new rows into a table \n",
        "     \n",
        "     example : INSERT INTO employees(employee id , name , department)\n",
        "\n",
        "               VALUES(123 , 'vivek sahu' , 'sales');\n",
        "\n",
        "\n",
        "2. UPDATE : the update command to used modify records in A  table.\n",
        "\n",
        "          example : UPDATE employees \n",
        "                    SET department = 'marketing'\n",
        "                    WHERE employ id = 100232;\n",
        "\n",
        "3. DELETE : remove one or more records \n",
        "\n",
        "            example : DELETE FROM  employees \n",
        "                WHERE  department 'sales'"
      ],
      "metadata": {
        "id": "IOCD7jOMKBrH"
      }
    },
    {
      "cell_type": "markdown",
      "source": [
        "Q4. What is DQL? Explain SELECT with an example. \n"
      ],
      "metadata": {
        "id": "6uav5pDbOVQX"
      }
    },
    {
      "cell_type": "markdown",
      "source": [
        "DQL stands for Data Query Language\n",
        "\n",
        "The primary DQL command is SELECT, which is used to retrieve specific columns or all columns from one or more tables. \n",
        " example : SELECT * FROM employees\n",
        " "
      ],
      "metadata": {
        "id": "v6WagD1qOZdH"
      }
    },
    {
      "cell_type": "markdown",
      "source": [
        "Q5. Explain Primary Key and Foreign Key."
      ],
      "metadata": {
        "id": "OxvFZdMzQVTo"
      }
    },
    {
      "cell_type": "markdown",
      "source": [
        "Primary Key:\n",
        "A primary key is a unique identifier for each record (or row) in a database table. \n",
        "\n",
        "Foreign Key:\n",
        "A foreign key establishes a relationship between two tables. It refers to a primary key column in another table, creating a link between the two tables. "
      ],
      "metadata": {
        "id": "LCSv8y_lQZHC"
      }
    },
    {
      "cell_type": "markdown",
      "source": [
        "Q6. Write a python code to connect MySQL to python. Explain the cursor() and execute() method. \n"
      ],
      "metadata": {
        "id": "jrxS5bPlQzt5"
      }
    },
    {
      "cell_type": "markdown",
      "source": [
        "import mysql.connector\n",
        "\n",
        "        conn = mysql.connector.connect(\n",
        "        host=\"localhost\",\n",
        "        user=\"your_username\",\n",
        "        password=\"your_password\",\n",
        "        database=\"your_database\"\n",
        ")\n",
        "                  \n",
        "cursor = conn.cursor()\n",
        "\n",
        "cursor.execute(\"SELECT * FROM your_table\")\n",
        "                   \n",
        "results = cursor.fetchall()\n",
        "\n",
        "for row in results:\n",
        "   \n",
        "    \n",
        "print(row)\n",
        "\n",
        "cursor.close()\n",
        "\n",
        "conn.close()\n"
      ],
      "metadata": {
        "id": "Dg4N7OsVRlij"
      }
    },
    {
      "cell_type": "markdown",
      "source": [
        "cursor():\n",
        "\n",
        "The cursor() method creates a cursor object, which allows you to execute SQL statements and fetch data from the MySQL database.\n",
        "\n",
        "execute():\n",
        "\n",
        "The execute() method is used to execute an SQL query or statement.\n",
        "It is called on the cursor object (cursor.execute(query))."
      ],
      "metadata": {
        "id": "QPYUxdG6SYt8"
      }
    },
    {
      "cell_type": "markdown",
      "source": [
        "Q7. Give the order of execution of SQL clauses in an SQL query. \n"
      ],
      "metadata": {
        "id": "A_H0zq4uSoJy"
      }
    },
    {
      "cell_type": "markdown",
      "source": [
        "In a typical SQL query, the clauses are executed in the following order:\n",
        "\n",
        "FROM: This clause specifies the tables or views from which the data will be retrieved.\n",
        "\n",
        "WHERE: The WHERE clause is used to filter the rows based on specific conditions. \n",
        "\n",
        "GROUP BY: The GROUP BY clause is used to group rows that have the same values in specified columns."
      ],
      "metadata": {
        "id": "3CdVX1BPTJoS"
      }
    },
    {
      "cell_type": "code",
      "source": [],
      "metadata": {
        "id": "S2M-VgJvRh2d"
      },
      "execution_count": null,
      "outputs": []
    }
  ]
}