{
  "nbformat": 4,
  "nbformat_minor": 0,
  "metadata": {
    "colab": {
      "provenance": []
    },
    "kernelspec": {
      "name": "python3",
      "display_name": "Python 3"
    },
    "language_info": {
      "name": "python"
    }
  },
  "cells": [
    {
      "cell_type": "markdown",
      "source": [
        "Q1. Which function is used to open a file? What are the different modes of opening a file? Explain each mode  of file opening. \n"
      ],
      "metadata": {
        "id": "g-teNDP9npaj"
      }
    },
    {
      "cell_type": "markdown",
      "source": [
        " the function used to open a file is usually called open(). "
      ],
      "metadata": {
        "id": "JyuCIR9hnszM"
      }
    },
    {
      "cell_type": "markdown",
      "source": [
        "\n",
        "\n",
        "\"r\" (Read mode): This is the default mode for opening a file. It opens the file for reading.\n",
        "\n",
        "\"w\" (Write mode): This mode opens the file for writing. If the file already exists, its previous contents are truncated (deleted) when you open it.\n",
        "\n",
        "\"a\" (Append mode): This mode opens the file for appending data. If the file doesn't exist, a new file is created.you can write data to the end of the file without deleting its previous contents.\n",
        "\n",
        "\"x\" (Exclusive creation mode): This mode is used to create a new file.\n",
        "\n",
        "\"b\" (Binary mode): This mode is used to open the file in binary mode, which is necessary when working with non-text files such as images, audio files, or binary data.\n",
        "\n",
        "\"t\" (Text mode): This mode is used to open the file in text mode, which is the default mode. It assumes that the file contains text data and performs encoding and decoding of the data automatically.\n",
        "\n"
      ],
      "metadata": {
        "id": "KrRGpoOhpoYo"
      }
    },
    {
      "cell_type": "markdown",
      "source": [
        "Q2. Why close() function is used? Why is it important to close a file? \n"
      ],
      "metadata": {
        "id": "mJAlG6XarLK3"
      }
    },
    {
      "cell_type": "markdown",
      "source": [
        "The close() function is used to close a file that has been opened using the open() function."
      ],
      "metadata": {
        "id": "pwImLkvitDhW"
      }
    },
    {
      "cell_type": "markdown",
      "source": [
        " it is important to close a file:\n",
        "\n",
        " Resource management: \n",
        "\n",
        "Data integrity:\n",
        "\n",
        "File availability: \n",
        "\n",
        "Preventing errors\n",
        "\n",
        " \n",
        " conflicts:\n"
      ],
      "metadata": {
        "id": "FnwkMVdetFT_"
      }
    },
    {
      "cell_type": "markdown",
      "source": [
        "Q3. Write a python program to create a text file. Write ‘I want to become a Data Scientist’ in that file. Then  close the file. Open this file and read the content of the file.   \n"
      ],
      "metadata": {
        "id": "AF8noLYOt5Ln"
      }
    },
    {
      "cell_type": "code",
      "source": [
        "data = \"data_scientist.txt\"\n",
        "\n",
        "with open(data , \"w\") as file:\n",
        "    file.write(\"I want to become a Data Scientist\")"
      ],
      "metadata": {
        "id": "VtMs48CUwx9o"
      },
      "execution_count": null,
      "outputs": []
    },
    {
      "cell_type": "code",
      "source": [
        "with open(data , \"r\") as file:\n",
        "\n",
        "  print(file.read())"
      ],
      "metadata": {
        "colab": {
          "base_uri": "https://localhost:8080/"
        },
        "id": "C6FViYsjxmQy",
        "outputId": "88696c7e-875c-411c-a045-94e08db6503d"
      },
      "execution_count": null,
      "outputs": [
        {
          "output_type": "stream",
          "name": "stdout",
          "text": [
            "I want to become a Data Scientist\n"
          ]
        }
      ]
    },
    {
      "cell_type": "markdown",
      "source": [
        "Q4. Explain the following with python code: read(), readline() and readlines(). \n"
      ],
      "metadata": {
        "id": "pW0doQIWzI-T"
      }
    },
    {
      "cell_type": "code",
      "source": [
        "file = open('example.txt', 'r')\n",
        "\n",
        "file.read()\n",
        "\n"
      ],
      "metadata": {
        "colab": {
          "base_uri": "https://localhost:8080/",
          "height": 36
        },
        "id": "vCwelQNBNYE3",
        "outputId": "92b2e2cb-b41e-4d2b-b43a-e18a4d2cf697"
      },
      "execution_count": null,
      "outputs": [
        {
          "output_type": "execute_result",
          "data": {
            "text/plain": [
              "''"
            ],
            "application/vnd.google.colaboratory.intrinsic+json": {
              "type": "string"
            }
          },
          "metadata": {},
          "execution_count": 32
        }
      ]
    },
    {
      "cell_type": "code",
      "source": [
        "file = open('example.txt', 'r')\n",
        "\n",
        "file.readline()"
      ],
      "metadata": {
        "colab": {
          "base_uri": "https://localhost:8080/",
          "height": 36
        },
        "id": "Le7ox5EQNzPZ",
        "outputId": "cfe928bb-30a0-470e-8fa8-9288d4095a54"
      },
      "execution_count": null,
      "outputs": [
        {
          "output_type": "execute_result",
          "data": {
            "text/plain": [
              "''"
            ],
            "application/vnd.google.colaboratory.intrinsic+json": {
              "type": "string"
            }
          },
          "metadata": {},
          "execution_count": 33
        }
      ]
    },
    {
      "cell_type": "code",
      "source": [
        "file = open('example.txt', 'r')\n",
        "\n",
        "file.readlines()"
      ],
      "metadata": {
        "colab": {
          "base_uri": "https://localhost:8080/"
        },
        "id": "8UsXPc0nOE4K",
        "outputId": "23b4b911-2550-4d6b-c31b-5518fe1741a9"
      },
      "execution_count": null,
      "outputs": [
        {
          "output_type": "execute_result",
          "data": {
            "text/plain": [
              "[]"
            ]
          },
          "metadata": {},
          "execution_count": 34
        }
      ]
    },
    {
      "cell_type": "markdown",
      "source": [
        "Q5. Explain why with statement is used with open(). What is the advantage of using with statement and  open() together? \n"
      ],
      "metadata": {
        "id": "dk1h7WoROTnV"
      }
    },
    {
      "cell_type": "markdown",
      "source": [
        "The with statement in Python is used in conjunction with the open() function to handle file operations in a more efficient and safer manner"
      ],
      "metadata": {
        "id": "yBIwGqNNOzpw"
      }
    },
    {
      "cell_type": "code",
      "source": [
        "with open(\"test.txt\" , \"r\") as file:\n",
        "  \n",
        "  data = file.read()\n",
        "\n",
        "  print(data)"
      ],
      "metadata": {
        "colab": {
          "base_uri": "https://localhost:8080/"
        },
        "id": "Q6ZZHiITO6md",
        "outputId": "222011d2-4872-4a89-a9e7-abaeb11ff24a"
      },
      "execution_count": null,
      "outputs": [
        {
          "output_type": "stream",
          "name": "stdout",
          "text": [
            "\n"
          ]
        }
      ]
    },
    {
      "cell_type": "markdown",
      "source": [
        "Q6. Explain the write() and writelines() functions. Give a suitable example. \n"
      ],
      "metadata": {
        "id": "BzecUEXhP0Vu"
      }
    },
    {
      "cell_type": "markdown",
      "source": [
        "The write() function:\n",
        "\n",
        "The write() function is used to write a single string or a character to a file.\n",
        "It takes a string as an argument and writes it to the file.\n",
        "If the file does not exist, it creates a new file with the specified name and writes the string to it. "
      ],
      "metadata": {
        "id": "feMxUzZuVho-"
      }
    },
    {
      "cell_type": "code",
      "source": [
        "data = open(\"test.txt\" , \"w\")\n",
        "\n",
        "data.write(\"i am so exite for this oppertunity\")\n",
        "\n",
        "data.close()"
      ],
      "metadata": {
        "id": "V_iPH7XvPvD7"
      },
      "execution_count": 46,
      "outputs": []
    },
    {
      "cell_type": "markdown",
      "source": [
        "The writelines() function:\n",
        "\n",
        "The writelines() function is used to write multiple strings or a sequence of strings to a file.\n",
        "It takes an iterable (such as a list or tuple) containing strings as an argument and writes each string to the file.\n",
        "Each string is written as a separate line in the file."
      ],
      "metadata": {
        "id": "zSVxw_x5XEyl"
      }
    },
    {
      "cell_type": "code",
      "source": [
        "data1 = open(\"test.txt\" , \"w\")\n",
        "\n",
        "list = [\"vivek is a good boy\\n\" , \"hi i am not mad\\n\"]\n",
        "\n",
        "data1.writelines(list)\n",
        "\n",
        "data1.close()"
      ],
      "metadata": {
        "id": "8bqe3wPMV5zq"
      },
      "execution_count": 47,
      "outputs": []
    },
    {
      "cell_type": "code",
      "source": [],
      "metadata": {
        "id": "ejeFyIKuWWjZ"
      },
      "execution_count": null,
      "outputs": []
    }
  ]
}