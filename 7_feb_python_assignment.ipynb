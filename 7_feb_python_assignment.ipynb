{
  "nbformat": 4,
  "nbformat_minor": 0,
  "metadata": {
    "colab": {
      "provenance": []
    },
    "kernelspec": {
      "name": "python3",
      "display_name": "Python 3"
    },
    "language_info": {
      "name": "python"
    }
  },
  "cells": [
    {
      "cell_type": "markdown",
      "source": [
        "Q1. You are writing code for a company. The requirement of the company is that you create a python  function that will check whether the password entered by the user is correct or not. The function should  take the password as input and return the string “Valid Password” if the entered password follows the  below-given password guidelines else it should return “Invalid Password”. \n",
        "Note: 1. The Password should contain at least two uppercase letters and at least two lowercase letters. 2. The Password should contain at least a number and three special characters. \n",
        "3. The length of the password should be 10 characters long. \n"
      ],
      "metadata": {
        "id": "0C7qr5ej6J7B"
      }
    },
    {
      "cell_type": "code",
      "source": [
        "def check_password(password):\n",
        " \n",
        "    if len(password) != 10:\n",
        "        return \"Invalid Password\"\n",
        "\n",
        " \n",
        "    uppercase_count = 0\n",
        "    lowercase_count = 0\n",
        "    digit_count = 0\n",
        "    special_char_count = 0\n",
        "\n",
        "    for char in password:\n",
        "        if char.isupper():\n",
        "            uppercase_count += 1\n",
        "        elif char.islower():\n",
        "            lowercase_count += 1\n",
        "        elif char.isdigit():\n",
        "            digit_count += 1\n",
        "        else:\n",
        "            special_char_count += 1\n",
        "\n",
        "  \n",
        "    if uppercase_count < 2 or lowercase_count < 2 or digit_count < 1 or special_char_count < 3:\n",
        "        return \"Invalid Password\"\n",
        "\n",
        "    return \"Valid Password\"\n"
      ],
      "metadata": {
        "id": "EUIVy6C37k8L"
      },
      "execution_count": 6,
      "outputs": []
    },
    {
      "cell_type": "code",
      "source": [
        "password = input(\"Enter the password: \")\n",
        "result = check_password(password)\n",
        "print(result)\n"
      ],
      "metadata": {
        "colab": {
          "base_uri": "https://localhost:8080/"
        },
        "id": "xd0VPvlR-Vhw",
        "outputId": "6cb412d8-40b7-4417-b800-9796bb281deb"
      },
      "execution_count": 13,
      "outputs": [
        {
          "output_type": "stream",
          "name": "stdout",
          "text": [
            "Enter the password: 9089786767\n",
            "Invalid Password\n"
          ]
        }
      ]
    },
    {
      "cell_type": "markdown",
      "source": [
        "Q2. Solve the below-given questions using at least one of the following:  \n",
        "1. Lambda functioJ \n",
        "2. Filter functioJ \n",
        "3. Zap functioJ \n",
        "4. List ComprehensioI \n",
        "B Check if the string starts with a particular letterY \n",
        "B Check if the string is numericY \n",
        "B Sort a list of tuples having fruit names and their quantity. [(\"mango\",99),(\"orange\",80), (\"grapes\", 1000)- B Find the squares of numbers from 1 to 10Y \n",
        "B Find the cube root of numbers from 1 to 10Y \n",
        "B Check if a given number is evenY \n",
        "B Filter odd numbers from the given list. \n",
        " [1,2,3,4,5,6,7,8,9,10- \n",
        "B Sort a list of integers into positive and negative integers lists. \n",
        " [1,2,3,4,5,6,-1,-2,-3,-4,-5,0] \n"
      ],
      "metadata": {
        "id": "2dLW2Pmq_KfE"
      }
    },
    {
      "cell_type": "markdown",
      "source": [
        "Check if the string starts with a particular letter:"
      ],
      "metadata": {
        "id": "W-87KJkSAha0"
      }
    },
    {
      "cell_type": "code",
      "source": [
        "string_list = [\"apple\", \"banana\", \"cherry\", \"mango\"]\n",
        "letter = \"a\"\n",
        "\n",
        "result = [word for word in string_list if word.startswith(letter)]\n",
        "print(result)\n"
      ],
      "metadata": {
        "colab": {
          "base_uri": "https://localhost:8080/"
        },
        "id": "828SCFCl-X4B",
        "outputId": "f7da6156-6934-4a5a-ebff-0e3e60fb15b2"
      },
      "execution_count": 14,
      "outputs": [
        {
          "output_type": "stream",
          "name": "stdout",
          "text": [
            "['apple']\n"
          ]
        }
      ]
    },
    {
      "cell_type": "markdown",
      "source": [
        "Check if the string is numeric:"
      ],
      "metadata": {
        "id": "88NNIWDAAnDc"
      }
    },
    {
      "cell_type": "code",
      "source": [
        "string_list = [\"apple\", \"123\", \"banana\", \"456\"]\n",
        "\n",
        "result = [word for word in string_list if word.isnumeric()]\n",
        "print(result)\n"
      ],
      "metadata": {
        "colab": {
          "base_uri": "https://localhost:8080/"
        },
        "id": "EhmTz2LTAlH3",
        "outputId": "46bdbe43-ba2a-48e7-e31b-0db9ca07fdd2"
      },
      "execution_count": 15,
      "outputs": [
        {
          "output_type": "stream",
          "name": "stdout",
          "text": [
            "['123', '456']\n"
          ]
        }
      ]
    },
    {
      "cell_type": "markdown",
      "source": [
        "Sort a list of tuples having fruit names and their quantity:"
      ],
      "metadata": {
        "id": "DvteuPePAySO"
      }
    },
    {
      "cell_type": "code",
      "source": [
        "fruit_list = [(\"mango\", 99), (\"orange\", 80), (\"grapes\", 1000)]\n",
        "\n",
        "sorted_list = sorted(fruit_list, key=lambda x: x[1])\n",
        "print(sorted_list)\n"
      ],
      "metadata": {
        "colab": {
          "base_uri": "https://localhost:8080/"
        },
        "id": "klrDiVlaAtbx",
        "outputId": "cce4b998-878f-4476-f70d-d9a9b61ed7ec"
      },
      "execution_count": 16,
      "outputs": [
        {
          "output_type": "stream",
          "name": "stdout",
          "text": [
            "[('orange', 80), ('mango', 99), ('grapes', 1000)]\n"
          ]
        }
      ]
    },
    {
      "cell_type": "markdown",
      "source": [
        "Find the squares of numbers from 1 to 10:"
      ],
      "metadata": {
        "id": "AsLi8UcuA4S_"
      }
    },
    {
      "cell_type": "code",
      "source": [
        "numbers = list(range(1, 11))\n",
        "\n",
        "squares = [num ** 2 for num in numbers]\n",
        "print(squares)\n"
      ],
      "metadata": {
        "colab": {
          "base_uri": "https://localhost:8080/"
        },
        "id": "qQBmMdVCA3BG",
        "outputId": "64387cb0-fe77-47da-9e61-ad01952b7541"
      },
      "execution_count": 17,
      "outputs": [
        {
          "output_type": "stream",
          "name": "stdout",
          "text": [
            "[1, 4, 9, 16, 25, 36, 49, 64, 81, 100]\n"
          ]
        }
      ]
    },
    {
      "cell_type": "markdown",
      "source": [
        "Find the cube root of numbers from 1 to 10:"
      ],
      "metadata": {
        "id": "pHnWtHURA_LQ"
      }
    },
    {
      "cell_type": "code",
      "source": [
        "import math\n",
        "\n",
        "numbers = list(range(1, 11))\n",
        "\n",
        "cube_roots = [math.pow(num, 1/3) for num in numbers]\n",
        "print(cube_roots)\n"
      ],
      "metadata": {
        "colab": {
          "base_uri": "https://localhost:8080/"
        },
        "id": "Jru-1_3LA-J9",
        "outputId": "c1d68676-5704-4479-af3c-4d8368906a04"
      },
      "execution_count": 18,
      "outputs": [
        {
          "output_type": "stream",
          "name": "stdout",
          "text": [
            "[1.0, 1.2599210498948732, 1.4422495703074083, 1.5874010519681994, 1.7099759466766968, 1.8171205928321397, 1.912931182772389, 2.0, 2.080083823051904, 2.154434690031884]\n"
          ]
        }
      ]
    },
    {
      "cell_type": "markdown",
      "source": [
        "Check if a given number is even:"
      ],
      "metadata": {
        "id": "YyRl6ZlABHNZ"
      }
    },
    {
      "cell_type": "code",
      "source": [
        "numbers = [1, 2, 3, 4, 5, 6, 7, 8, 9, 10]\n",
        "\n",
        "result = [num for num in numbers if num % 2 == 0]\n",
        "print(result)\n"
      ],
      "metadata": {
        "colab": {
          "base_uri": "https://localhost:8080/"
        },
        "id": "362sj9cSBFuT",
        "outputId": "445899d7-4cda-4dbc-d257-2e039f5f8fb5"
      },
      "execution_count": 19,
      "outputs": [
        {
          "output_type": "stream",
          "name": "stdout",
          "text": [
            "[2, 4, 6, 8, 10]\n"
          ]
        }
      ]
    },
    {
      "cell_type": "markdown",
      "source": [
        "Filter odd numbers from the given list:"
      ],
      "metadata": {
        "id": "nvUjlB9jBOjT"
      }
    },
    {
      "cell_type": "code",
      "source": [
        "numbers = [1, 2, 3, 4, 5, 6, 7, 8, 9, 10]\n",
        "\n",
        "result = list(filter(lambda x: x % 2 != 0, numbers))\n",
        "print(result)\n"
      ],
      "metadata": {
        "colab": {
          "base_uri": "https://localhost:8080/"
        },
        "id": "w80aW4mPBNac",
        "outputId": "f1c14bc3-1d2a-4cdc-9026-38f3cac551b7"
      },
      "execution_count": 20,
      "outputs": [
        {
          "output_type": "stream",
          "name": "stdout",
          "text": [
            "[1, 3, 5, 7, 9]\n"
          ]
        }
      ]
    },
    {
      "cell_type": "markdown",
      "source": [
        "Sort a list of integers into positive and negative integers lists:"
      ],
      "metadata": {
        "id": "0DiNDlHRBVU0"
      }
    },
    {
      "cell_type": "code",
      "source": [
        "numbers = [1, 2, 3, 4, 5, 6, -1, -2, -3, -4, -5, 0]\n",
        "\n",
        "positive_nums = sorted([num for num in numbers if num > 0])\n",
        "negative_nums = sorted([num for num in numbers if num < 0])\n",
        "\n",
        "print(\"Positive numbers:\", positive_nums)\n",
        "print(\"Negative numbers:\", negative_nums)\n"
      ],
      "metadata": {
        "colab": {
          "base_uri": "https://localhost:8080/"
        },
        "id": "F6l9ZTqcBUFo",
        "outputId": "02d250ba-e42b-4b90-a850-b7a00186efcb"
      },
      "execution_count": 21,
      "outputs": [
        {
          "output_type": "stream",
          "name": "stdout",
          "text": [
            "Positive numbers: [1, 2, 3, 4, 5, 6]\n",
            "Negative numbers: [-5, -4, -3, -2, -1]\n"
          ]
        }
      ]
    },
    {
      "cell_type": "code",
      "source": [],
      "metadata": {
        "id": "BlxDIVt1Ba03"
      },
      "execution_count": null,
      "outputs": []
    }
  ]
}